{
 "cells": [
  {
   "cell_type": "code",
   "execution_count": 1,
   "id": "d4c2e399",
   "metadata": {},
   "outputs": [],
   "source": [
    "import sys\n",
    "sys.path.append('/home/potzschf/repos/')\n",
    "from helperToolz.helpsters import *\n",
    "from helperToolz.evapo import *\n",
    "import geopandas as gpd\n",
    "import tarfile\n",
    "from pyproj import Proj, transform\n",
    "workhorse = True\n",
    "\n",
    "if workhorse:\n",
    "    origin = 'Aldhani/eoagritwin/'\n",
    "else:\n",
    "    origin = ''"
   ]
  },
  {
   "cell_type": "code",
   "execution_count": 2,
   "id": "13b941a1",
   "metadata": {},
   "outputs": [
    {
     "name": "stderr",
     "output_type": "stream",
     "text": [
      "/tmp/ipykernel_640425/1923405511.py:13: DeprecationWarning: The 'unary_union' attribute is deprecated, use the 'union_all()' method instead.\n",
      "  intersecting = orbits[orbits.intersects(aoi.unary_union)]\n"
     ]
    }
   ],
   "source": [
    "#### get path and rows of scenes that have data for the chosen AOI (e.g. Brandenburg)\n",
    "\n",
    "# load shapefiles and check projections\n",
    "ger = gpd.read_file(f'/data/{origin}misc/gadm41_DEU_shp/gadm41_DEU_1.shp')\n",
    "aoi = ger[ger['NAME_1'] == 'Brandenburg']\n",
    "\n",
    "orbits = gpd.read_file(f'/data/{origin}misc/WRS2_descending_0/WRS2_descending.shp')\n",
    "\n",
    "if aoi.crs != orbits.crs:\n",
    "    orbits = orbits.to_crs(aoi.crs)\n",
    "\n",
    "# find overlapping paths/rows\n",
    "intersecting = orbits[orbits.intersects(aoi.unary_union)]\n",
    "path_rows = [f'{p}_{r}' for p, r in zip(intersecting['PATH'], intersecting['ROW'])]"
   ]
  },
  {
   "cell_type": "code",
   "execution_count": 3,
   "id": "98ff14ce",
   "metadata": {},
   "outputs": [],
   "source": [
    "# get all paths from downloaded products --> subsetted to paths and rows\n",
    "landsat_files = getFilelist(f'/data/{origin}et/Landsat/raw/', '.tar.gz', deep=True)\n",
    "\n",
    "# create a look-up dictionary for time subsets\n",
    "lookUp = LandsatETFileManager(landsat_files)"
   ]
  },
  {
   "cell_type": "code",
   "execution_count": 10,
   "id": "871dd620",
   "metadata": {},
   "outputs": [
    {
     "name": "stderr",
     "output_type": "stream",
     "text": [
      "/tmp/ipykernel_640425/1292985906.py:5: DeprecationWarning: Python 3.14 will, by default, filter extracted tar archives and reject files or modify their metadata. Use the filter argument to control this behavior.\n",
      "  tar.extractall(f'/data/{origin}et/Landsat/extracts/')\n"
     ]
    }
   ],
   "source": [
    "#### do the compositing monthly\n",
    "# subset data and extract\n",
    "for landsat_file in lookUp.get_by_year_and_month(2024, 1):\n",
    "    with tarfile.open(landsat_file, 'r:gz') as tar:\n",
    "        tar.extractall(f'/data/{origin}et/Landsat/extracts/')\n",
    "# remove not needed files\n",
    "for ending in ['.xml', '.txt']:\n",
    "    trash_list = getFilelist(f'/data/{origin}et/Landsat/extracts/', ending)\n",
    "    for trash in trash_list:\n",
    "        os.remove(trash)"
   ]
  },
  {
   "cell_type": "code",
   "execution_count": 11,
   "id": "3e2fe520",
   "metadata": {},
   "outputs": [],
   "source": [
    "# get maximum bounding box for month and fill it with values\n",
    "nc_files = getFilelist(f'/data/{origin}et/Landsat/extracts/', '.nc')\n"
   ]
  },
  {
   "cell_type": "code",
   "execution_count": null,
   "id": "ae41beb6",
   "metadata": {},
   "outputs": [],
   "source": []
  },
  {
   "cell_type": "code",
   "execution_count": null,
   "id": "14e1fbde",
   "metadata": {},
   "outputs": [],
   "source": [
    "for var in ds.data_vars:\n",
    "    print(f\"\\nVariable: {var}\")\n",
    "    for attr, val in ds[var].attrs.items():\n",
    "        print(f\"  {attr}: {val}\")"
   ]
  },
  {
   "cell_type": "code",
   "execution_count": null,
   "id": "5e03d357",
   "metadata": {},
   "outputs": [],
   "source": [
    "north = ds.attrs['UpperLeftCornerLatLong'][0]\n",
    "south = ds.attrs['LowerRightCornerLatLong'][0]\n",
    "east = ds.attrs['LowerRightCornerLatLong'][1]\n",
    "west = ds.attrs['UpperLeftCornerLatLong'][1]"
   ]
  },
  {
   "cell_type": "code",
   "execution_count": null,
   "id": "6999740b",
   "metadata": {},
   "outputs": [],
   "source": [
    "(ds.coords['XDim_qa_pixel'][-1] - ds.coords['XDim_qa_pixel'][0]) / 30"
   ]
  },
  {
   "cell_type": "code",
   "execution_count": null,
   "id": "2fa4ed9d",
   "metadata": {},
   "outputs": [],
   "source": [
    "ds.data_vars"
   ]
  },
  {
   "cell_type": "code",
   "execution_count": null,
   "id": "76deec5f",
   "metadata": {},
   "outputs": [],
   "source": [
    "# tiff export\n",
    "\n",
    "img = ds['ETA']\n",
    "import rasterio\n",
    "from rasterio.transform import from_origin\n",
    "\n",
    "# Assuming the dataset has spatial resolution info\n",
    "transform = from_origin(ds['XDim_qa_pixel'][0], ds['YDim_qa_pixel'][0], x_res, y_res)\n",
    "\n",
    "# Define output GeoTIFF filename\n",
    "output_filename = 'output_data.tif'\n",
    "\n",
    "# Open a new GeoTIFF file for writing\n",
    "with rasterio.open(output_filename, 'w', driver='GTiff', \n",
    "                   height=qa_pixel.shape[0], width=qa_pixel.shape[1],\n",
    "                   count=1, dtype=qa_pixel.dtype,\n",
    "                   crs=\"EPSG:32633\", transform=transform) as dst:\n",
    "    dst.write(qa_pixel, 1)\n",
    "\n",
    "print(f\"GeoTIFF saved as {output_filename}\")"
   ]
  }
 ],
 "metadata": {
  "kernelspec": {
   "display_name": "workhorse",
   "language": "python",
   "name": "python3"
  },
  "language_info": {
   "codemirror_mode": {
    "name": "ipython",
    "version": 3
   },
   "file_extension": ".py",
   "mimetype": "text/x-python",
   "name": "python",
   "nbconvert_exporter": "python",
   "pygments_lexer": "ipython3",
   "version": "3.12.10"
  }
 },
 "nbformat": 4,
 "nbformat_minor": 5
}
