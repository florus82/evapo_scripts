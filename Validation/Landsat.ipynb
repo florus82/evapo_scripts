{
 "cells": [
  {
   "cell_type": "code",
   "execution_count": 82,
   "id": "d4c2e399",
   "metadata": {},
   "outputs": [],
   "source": [
    "import sys\n",
    "sys.path.append('/home/potzschf/repos/')\n",
    "from helperToolz.helpsters import *\n",
    "from helperToolz.evapo import *\n",
    "import geopandas as gpd\n",
    "import tarfile\n",
    "from pyproj import CRS\n",
    "from collections import Counter\n",
    "from joblib import Parallel, delayed\n",
    "workhorse = True\n",
    "\n",
    "if workhorse:\n",
    "    origin = 'Aldhani/eoagritwin/'\n",
    "else:\n",
    "    origin = ''"
   ]
  },
  {
   "cell_type": "code",
   "execution_count": null,
   "id": "13b941a1",
   "metadata": {},
   "outputs": [],
   "source": [
    "#### get path and rows of scenes that have data for the chosen AOI (e.g. Brandenburg)\n",
    "aoi_set_man = 'Brandenburg'\n",
    "landsat_epsg = '32633'\n",
    "res = 30\n",
    "\n",
    "# load shapefiles and check projections\n",
    "ger = gpd.read_file(f'/data/{origin}misc/gadm41_DEU_shp/gadm41_DEU_1.shp')\n",
    "aoi = ger[ger['NAME_1'] == aoi_set_man]\n",
    "\n",
    "orbits = gpd.read_file(f'/data/{origin}misc/WRS2_descending_0/WRS2_descending.shp')\n",
    "\n",
    "if aoi.crs != orbits.crs:\n",
    "    orbits = orbits.to_crs(aoi.crs)\n",
    "\n",
    "# find overlapping paths/rows\n",
    "intersecting = orbits[orbits.intersects(aoi.unary_union)]\n",
    "path_rows = [f'{p}_{r}' for p, r in zip(intersecting['PATH'], intersecting['ROW'])]"
   ]
  },
  {
   "cell_type": "code",
   "execution_count": null,
   "id": "98ff14ce",
   "metadata": {},
   "outputs": [],
   "source": [
    "# get all paths from downloaded products --> subsetted to paths and rows\n",
    "landsat_files = getFilelist(f'/data/{origin}et/Landsat/raw/', '.tar.gz', deep=True)\n",
    "\n",
    "# create a look-up dictionary for time subsets\n",
    "lookUp = LandsatETFileManager(landsat_files)"
   ]
  },
  {
   "cell_type": "code",
   "execution_count": null,
   "id": "871dd620",
   "metadata": {},
   "outputs": [],
   "source": [
    "#### do the compositing monthly\n",
    "year = 2024\n",
    "month = 7\n",
    "# check if temp_folder is empty and delete everything if not\n",
    "tempF = f'/data/{origin}et/Landsat/extracts/'\n",
    "if len(getFilelist(tempF, '.nc')) > 0:\n",
    "    for file in getFilelist(tempF, '.nc'):\n",
    "        os.remove(file)\n",
    "    print('kill complete')\n",
    "# subset data and extract\n",
    "for landsat_file in lookUp.get_by_year_and_month(year, month):\n",
    "    with tarfile.open(landsat_file, 'r:gz') as tar:\n",
    "        tar.extractall(tempF)\n",
    "# remove not needed files\n",
    "for ending in ['.xml', '.txt']:\n",
    "    trash_list = getFilelist(tempF, ending)\n",
    "    for trash in trash_list:\n",
    "        os.remove(trash)"
   ]
  },
  {
   "cell_type": "code",
   "execution_count": null,
   "id": "3e2fe520",
   "metadata": {},
   "outputs": [],
   "source": [
    "# get maximum bounding box based on aoi and nc data\n",
    "nc_files = getFilelist(f'/data/{origin}et/Landsat/extracts/', '.nc')\n",
    "# min-maxs for data\n",
    "file_Xmin = []\n",
    "file_Xmax = []\n",
    "file_Ymin = []\n",
    "file_Ymax = []\n",
    "\n",
    "for nc_file in nc_files:\n",
    "    file_Xmin.append(xr.open_dataset(nc_file).coords['XDim_ETA'][0])\n",
    "    file_Xmax.append(xr.open_dataset(nc_file).coords['XDim_ETA'][-1])\n",
    "    file_Ymin.append(xr.open_dataset(nc_file).coords['YDim_ETA'][-1])\n",
    "    file_Ymax.append(xr.open_dataset(nc_file).coords['YDim_ETA'][0])\n",
    "\n",
    "dXmin = min(file_Xmin) # western border\n",
    "dXmax = max(file_Xmax) # eastern border\n",
    "dYmin = min(file_Ymin) # southern border\n",
    "dYmax = max(file_Ymax) # northern border\n",
    "\n",
    "# min-max aoi\n",
    "aXmin, aYmin, aXmax, aYmax = aoi.to_crs(CRS.from_epsg(landsat_epsg)).total_bounds\n",
    "\n",
    "# get bounding box for array and later export\n",
    "nXmin = int(math.floor((aXmin - dXmin) / res) * res + dXmin)\n",
    "nXmax = int(dXmax - (math.floor((dXmax - aXmax) / res) * res))\n",
    "nYmin = int(math.floor((aYmin - dYmin) / res) * res + dYmin)\n",
    "nYmax = int(dYmax - (math.floor((dYmax - aYmax) / res) * res))\n",
    "\n",
    "# create empty np array\n",
    "rows = int(((nYmax - nYmin) / res) + 1)\n",
    "cols = int(((nXmax - nXmin) / res) + 1)\n",
    "bands = len(lookUp.get_all_dates_by_year_and_month(year, month, False))\n",
    "block = np.empty((rows, cols, bands), dtype=np.float32)"
   ]
  },
  {
   "cell_type": "code",
   "execution_count": null,
   "id": "3b9147e0",
   "metadata": {},
   "outputs": [],
   "source": [
    "# fill it\n",
    "for i, nc_file in enumerate(nc_files):\n",
    "    print(i)\n",
    "    values = xr.open_dataset(nc_file).data_vars['ETA'].values\n",
    "    fXmin = int(file_Xmin[i])\n",
    "    fXmax = int(file_Xmax[i])\n",
    "    fYmin = int(file_Ymin[i])\n",
    "    fYmax = int(file_Ymax[i])\n",
    "\n",
    "    if nXmin - fXmin < 0: \n",
    "        start_col_aoi = int((fXmin - nXmin) / 30)\n",
    "        start_col_dat = 0\n",
    "    elif nXmin - fXmin > 0:\n",
    "        start_col_aoi = 0\n",
    "        start_col_dat = int((nXmin - fXmin) / 30)\n",
    "    else:\n",
    "        start_col_aoi = 0\n",
    "        start_col_dat = 0\n",
    "\n",
    "\n",
    "    if nXmax - fXmax < 0:\n",
    "        end_col_dat = values.shape[1] - int((fXmax-nXmax)/30)\n",
    "        end_col_aoi = cols\n",
    "    elif nXmax - fXmax > 0:\n",
    "        end_col_dat = values.shape[1]\n",
    "        end_col_aoi = cols - int((nXmax - fXmax) / 30)\n",
    "    else:\n",
    "        end_col_dat = values.shape[1]\n",
    "        end_col_aoi = cols\n",
    "\n",
    "\n",
    "    if nYmax - fXmax < 0:\n",
    "        start_row_dat = int((fYmax - nYmax) / 30)\n",
    "        start_row_aoi = 0\n",
    "    elif nYmax - fXmax > 0:\n",
    "        start_row_dat = 0\n",
    "        start_row_aoi = int((nYmax - fYmax) / 30)\n",
    "    else:\n",
    "        start_row_dat = 0\n",
    "        start_row_aoi = 0\n",
    "\n",
    "\n",
    "    if nYmin - fYmin < 0:\n",
    "        end_row_dat = values.shape[0]\n",
    "        end_row_aoi = rows - int((nYmin - fYmin) / 30)\n",
    "    elif nYmin - fYmin > 0:\n",
    "        end_row_dat = values.shape[0] - int((nYmin - fYmin) / 30)\n",
    "        end_row_aoi = rows \n",
    "    else:\n",
    "        end_row_dat = values.shape[0]\n",
    "        end_row_aoi = rows\n",
    "    \n",
    "    pList = [start_row_dat, end_row_dat, start_col_dat, end_col_dat, start_row_aoi, end_row_aoi, start_col_aoi, end_col_aoi]\n",
    "    if any(x < 0 for x in pList):\n",
    "        print('shit')\n",
    "        continue\n",
    "    else:\n",
    "        block[start_row_aoi:end_row_aoi, start_col_aoi:end_col_aoi, i] = values[start_row_dat:end_row_dat, start_col_dat:end_col_dat]"
   ]
  },
  {
   "cell_type": "code",
   "execution_count": null,
   "id": "106d32fd",
   "metadata": {},
   "outputs": [
    {
     "ename": "KeyboardInterrupt",
     "evalue": "",
     "output_type": "error",
     "traceback": [
      "\u001b[31m---------------------------------------------------------------------------\u001b[39m",
      "\u001b[31mKeyboardInterrupt\u001b[39m                         Traceback (most recent call last)",
      "\u001b[36mCell\u001b[39m\u001b[36m \u001b[39m\u001b[32mIn[80]\u001b[39m\u001b[32m, line 18\u001b[39m\n\u001b[32m     14\u001b[39m cumulative_day_counts_start = np.array(cumulative_day_counts_start)\n\u001b[32m     15\u001b[39m cumulative_day_counts_end = np.array(cumulative_day_counts_end)\n\u001b[32m     17\u001b[39m stack_list = [\n\u001b[32m---> \u001b[39m\u001b[32m18\u001b[39m     \u001b[43mnp\u001b[49m\u001b[43m.\u001b[49m\u001b[43mnanmedian\u001b[49m\u001b[43m(\u001b[49m\u001b[43mblock\u001b[49m\u001b[43m[\u001b[49m\u001b[43m:\u001b[49m\u001b[43m,\u001b[49m\u001b[43m \u001b[49m\u001b[43m:\u001b[49m\u001b[43m,\u001b[49m\u001b[43m \u001b[49m\u001b[43mstart\u001b[49m\u001b[43m:\u001b[49m\u001b[43mend\u001b[49m\u001b[43m]\u001b[49m\u001b[43m,\u001b[49m\u001b[43m \u001b[49m\u001b[43maxis\u001b[49m\u001b[43m=\u001b[49m\u001b[32;43m2\u001b[39;49m\u001b[43m)\u001b[49m\n\u001b[32m     19\u001b[39m     \u001b[38;5;28;01mfor\u001b[39;00m start, end \u001b[38;5;129;01min\u001b[39;00m \u001b[38;5;28mzip\u001b[39m(cumulative_day_counts_start[:-\u001b[32m1\u001b[39m], cumulative_day_counts_end)\n\u001b[32m     20\u001b[39m ]\n\u001b[32m     22\u001b[39m fin_block = np.dstack(stack_list)\n\u001b[32m     23\u001b[39m \u001b[38;5;66;03m# # aggregate block\u001b[39;00m\n\u001b[32m     24\u001b[39m \u001b[38;5;66;03m# stack_list = []\u001b[39;00m\n\u001b[32m     25\u001b[39m \u001b[38;5;66;03m# for i in range(len(cumulative_day_counts_end)):\u001b[39;00m\n\u001b[32m     26\u001b[39m \u001b[38;5;66;03m#     stack_list.append(np.nanmedian(block[:, :, cumulative_day_counts_start[i]:cumulative_day_counts_end[i]], axis=2))\u001b[39;00m\n",
      "\u001b[36mFile \u001b[39m\u001b[32m~/mambaforge/envs/workhorse/lib/python3.12/site-packages/numpy/lib/_nanfunctions_impl.py:1217\u001b[39m, in \u001b[36mnanmedian\u001b[39m\u001b[34m(a, axis, out, overwrite_input, keepdims)\u001b[39m\n\u001b[32m   1214\u001b[39m \u001b[38;5;28;01mif\u001b[39;00m a.size == \u001b[32m0\u001b[39m:\n\u001b[32m   1215\u001b[39m     \u001b[38;5;28;01mreturn\u001b[39;00m np.nanmean(a, axis, out=out, keepdims=keepdims)\n\u001b[32m-> \u001b[39m\u001b[32m1217\u001b[39m \u001b[38;5;28;01mreturn\u001b[39;00m \u001b[43mfnb\u001b[49m\u001b[43m.\u001b[49m\u001b[43m_ureduce\u001b[49m\u001b[43m(\u001b[49m\u001b[43ma\u001b[49m\u001b[43m,\u001b[49m\u001b[43m \u001b[49m\u001b[43mfunc\u001b[49m\u001b[43m=\u001b[49m\u001b[43m_nanmedian\u001b[49m\u001b[43m,\u001b[49m\u001b[43m \u001b[49m\u001b[43mkeepdims\u001b[49m\u001b[43m=\u001b[49m\u001b[43mkeepdims\u001b[49m\u001b[43m,\u001b[49m\n\u001b[32m   1218\u001b[39m \u001b[43m                    \u001b[49m\u001b[43maxis\u001b[49m\u001b[43m=\u001b[49m\u001b[43maxis\u001b[49m\u001b[43m,\u001b[49m\u001b[43m \u001b[49m\u001b[43mout\u001b[49m\u001b[43m=\u001b[49m\u001b[43mout\u001b[49m\u001b[43m,\u001b[49m\n\u001b[32m   1219\u001b[39m \u001b[43m                    \u001b[49m\u001b[43moverwrite_input\u001b[49m\u001b[43m=\u001b[49m\u001b[43moverwrite_input\u001b[49m\u001b[43m)\u001b[49m\n",
      "\u001b[36mFile \u001b[39m\u001b[32m~/mambaforge/envs/workhorse/lib/python3.12/site-packages/numpy/lib/_function_base_impl.py:3894\u001b[39m, in \u001b[36m_ureduce\u001b[39m\u001b[34m(a, func, keepdims, **kwargs)\u001b[39m\n\u001b[32m   3891\u001b[39m             index_out = (\u001b[32m0\u001b[39m, ) * nd\n\u001b[32m   3892\u001b[39m             kwargs[\u001b[33m'\u001b[39m\u001b[33mout\u001b[39m\u001b[33m'\u001b[39m] = out[(\u001b[38;5;28mEllipsis\u001b[39m, ) + index_out]\n\u001b[32m-> \u001b[39m\u001b[32m3894\u001b[39m r = \u001b[43mfunc\u001b[49m\u001b[43m(\u001b[49m\u001b[43ma\u001b[49m\u001b[43m,\u001b[49m\u001b[43m \u001b[49m\u001b[43m*\u001b[49m\u001b[43m*\u001b[49m\u001b[43mkwargs\u001b[49m\u001b[43m)\u001b[49m\n\u001b[32m   3896\u001b[39m \u001b[38;5;28;01mif\u001b[39;00m out \u001b[38;5;129;01mis\u001b[39;00m \u001b[38;5;129;01mnot\u001b[39;00m \u001b[38;5;28;01mNone\u001b[39;00m:\n\u001b[32m   3897\u001b[39m     \u001b[38;5;28;01mreturn\u001b[39;00m out\n",
      "\u001b[36mFile \u001b[39m\u001b[32m~/mambaforge/envs/workhorse/lib/python3.12/site-packages/numpy/lib/_nanfunctions_impl.py:1095\u001b[39m, in \u001b[36m_nanmedian\u001b[39m\u001b[34m(a, axis, out, overwrite_input)\u001b[39m\n\u001b[32m   1090\u001b[39m \u001b[38;5;28;01melse\u001b[39;00m:\n\u001b[32m   1091\u001b[39m     \u001b[38;5;66;03m# for small medians use sort + indexing which is still faster than\u001b[39;00m\n\u001b[32m   1092\u001b[39m     \u001b[38;5;66;03m# apply_along_axis\u001b[39;00m\n\u001b[32m   1093\u001b[39m     \u001b[38;5;66;03m# benchmarked with shuffled (50, 50, x) containing a few NaN\u001b[39;00m\n\u001b[32m   1094\u001b[39m     \u001b[38;5;28;01mif\u001b[39;00m a.shape[axis] < \u001b[32m600\u001b[39m:\n\u001b[32m-> \u001b[39m\u001b[32m1095\u001b[39m         \u001b[38;5;28;01mreturn\u001b[39;00m \u001b[43m_nanmedian_small\u001b[49m\u001b[43m(\u001b[49m\u001b[43ma\u001b[49m\u001b[43m,\u001b[49m\u001b[43m \u001b[49m\u001b[43maxis\u001b[49m\u001b[43m,\u001b[49m\u001b[43m \u001b[49m\u001b[43mout\u001b[49m\u001b[43m,\u001b[49m\u001b[43m \u001b[49m\u001b[43moverwrite_input\u001b[49m\u001b[43m)\u001b[49m\n\u001b[32m   1096\u001b[39m     result = np.apply_along_axis(_nanmedian1d, axis, a, overwrite_input)\n\u001b[32m   1097\u001b[39m     \u001b[38;5;28;01mif\u001b[39;00m out \u001b[38;5;129;01mis\u001b[39;00m \u001b[38;5;129;01mnot\u001b[39;00m \u001b[38;5;28;01mNone\u001b[39;00m:\n",
      "\u001b[36mFile \u001b[39m\u001b[32m~/mambaforge/envs/workhorse/lib/python3.12/site-packages/numpy/lib/_nanfunctions_impl.py:1110\u001b[39m, in \u001b[36m_nanmedian_small\u001b[39m\u001b[34m(a, axis, out, overwrite_input)\u001b[39m\n\u001b[32m   1103\u001b[39m \u001b[38;5;250m\u001b[39m\u001b[33;03m\"\"\"\u001b[39;00m\n\u001b[32m   1104\u001b[39m \u001b[33;03msort + indexing median, faster for small medians along multiple\u001b[39;00m\n\u001b[32m   1105\u001b[39m \u001b[33;03mdimensions due to the high overhead of apply_along_axis\u001b[39;00m\n\u001b[32m   1106\u001b[39m \n\u001b[32m   1107\u001b[39m \u001b[33;03msee nanmedian for parameter usage\u001b[39;00m\n\u001b[32m   1108\u001b[39m \u001b[33;03m\"\"\"\u001b[39;00m\n\u001b[32m   1109\u001b[39m a = np.ma.masked_array(a, np.isnan(a))\n\u001b[32m-> \u001b[39m\u001b[32m1110\u001b[39m m = \u001b[43mnp\u001b[49m\u001b[43m.\u001b[49m\u001b[43mma\u001b[49m\u001b[43m.\u001b[49m\u001b[43mmedian\u001b[49m\u001b[43m(\u001b[49m\u001b[43ma\u001b[49m\u001b[43m,\u001b[49m\u001b[43m \u001b[49m\u001b[43maxis\u001b[49m\u001b[43m=\u001b[49m\u001b[43maxis\u001b[49m\u001b[43m,\u001b[49m\u001b[43m \u001b[49m\u001b[43moverwrite_input\u001b[49m\u001b[43m=\u001b[49m\u001b[43moverwrite_input\u001b[49m\u001b[43m)\u001b[49m\n\u001b[32m   1111\u001b[39m \u001b[38;5;28;01mfor\u001b[39;00m i \u001b[38;5;129;01min\u001b[39;00m \u001b[38;5;28mrange\u001b[39m(np.count_nonzero(m.mask.ravel())):\n\u001b[32m   1112\u001b[39m     warnings.warn(\u001b[33m\"\u001b[39m\u001b[33mAll-NaN slice encountered\u001b[39m\u001b[33m\"\u001b[39m, \u001b[38;5;167;01mRuntimeWarning\u001b[39;00m,\n\u001b[32m   1113\u001b[39m                   stacklevel=\u001b[32m5\u001b[39m)\n",
      "\u001b[36mFile \u001b[39m\u001b[32m~/mambaforge/envs/workhorse/lib/python3.12/site-packages/numpy/ma/extras.py:790\u001b[39m, in \u001b[36mmedian\u001b[39m\u001b[34m(a, axis, out, overwrite_input, keepdims)\u001b[39m\n\u001b[32m    787\u001b[39m     \u001b[38;5;28;01melse\u001b[39;00m:\n\u001b[32m    788\u001b[39m         \u001b[38;5;28;01mreturn\u001b[39;00m m\n\u001b[32m--> \u001b[39m\u001b[32m790\u001b[39m \u001b[38;5;28;01mreturn\u001b[39;00m \u001b[43m_ureduce\u001b[49m\u001b[43m(\u001b[49m\u001b[43ma\u001b[49m\u001b[43m,\u001b[49m\u001b[43m \u001b[49m\u001b[43mfunc\u001b[49m\u001b[43m=\u001b[49m\u001b[43m_median\u001b[49m\u001b[43m,\u001b[49m\u001b[43m \u001b[49m\u001b[43mkeepdims\u001b[49m\u001b[43m=\u001b[49m\u001b[43mkeepdims\u001b[49m\u001b[43m,\u001b[49m\u001b[43m \u001b[49m\u001b[43maxis\u001b[49m\u001b[43m=\u001b[49m\u001b[43maxis\u001b[49m\u001b[43m,\u001b[49m\u001b[43m \u001b[49m\u001b[43mout\u001b[49m\u001b[43m=\u001b[49m\u001b[43mout\u001b[49m\u001b[43m,\u001b[49m\n\u001b[32m    791\u001b[39m \u001b[43m                \u001b[49m\u001b[43moverwrite_input\u001b[49m\u001b[43m=\u001b[49m\u001b[43moverwrite_input\u001b[49m\u001b[43m)\u001b[49m\n",
      "\u001b[36mFile \u001b[39m\u001b[32m~/mambaforge/envs/workhorse/lib/python3.12/site-packages/numpy/lib/_function_base_impl.py:3894\u001b[39m, in \u001b[36m_ureduce\u001b[39m\u001b[34m(a, func, keepdims, **kwargs)\u001b[39m\n\u001b[32m   3891\u001b[39m             index_out = (\u001b[32m0\u001b[39m, ) * nd\n\u001b[32m   3892\u001b[39m             kwargs[\u001b[33m'\u001b[39m\u001b[33mout\u001b[39m\u001b[33m'\u001b[39m] = out[(\u001b[38;5;28mEllipsis\u001b[39m, ) + index_out]\n\u001b[32m-> \u001b[39m\u001b[32m3894\u001b[39m r = \u001b[43mfunc\u001b[49m\u001b[43m(\u001b[49m\u001b[43ma\u001b[49m\u001b[43m,\u001b[49m\u001b[43m \u001b[49m\u001b[43m*\u001b[49m\u001b[43m*\u001b[49m\u001b[43mkwargs\u001b[49m\u001b[43m)\u001b[49m\n\u001b[32m   3896\u001b[39m \u001b[38;5;28;01mif\u001b[39;00m out \u001b[38;5;129;01mis\u001b[39;00m \u001b[38;5;129;01mnot\u001b[39;00m \u001b[38;5;28;01mNone\u001b[39;00m:\n\u001b[32m   3897\u001b[39m     \u001b[38;5;28;01mreturn\u001b[39;00m out\n",
      "\u001b[36mFile \u001b[39m\u001b[32m~/mambaforge/envs/workhorse/lib/python3.12/site-packages/numpy/ma/extras.py:869\u001b[39m, in \u001b[36m_median\u001b[39m\u001b[34m(a, axis, out, overwrite_input)\u001b[39m\n\u001b[32m    865\u001b[39m replace_masked(low_high)\n\u001b[32m    867\u001b[39m \u001b[38;5;28;01mif\u001b[39;00m np.issubdtype(asorted.dtype, np.inexact):\n\u001b[32m    868\u001b[39m     \u001b[38;5;66;03m# avoid inf / x = masked\u001b[39;00m\n\u001b[32m--> \u001b[39m\u001b[32m869\u001b[39m     s = \u001b[43mnp\u001b[49m\u001b[43m.\u001b[49m\u001b[43mma\u001b[49m\u001b[43m.\u001b[49m\u001b[43msum\u001b[49m\u001b[43m(\u001b[49m\u001b[43mlow_high\u001b[49m\u001b[43m,\u001b[49m\u001b[43m \u001b[49m\u001b[43maxis\u001b[49m\u001b[43m=\u001b[49m\u001b[43maxis\u001b[49m\u001b[43m,\u001b[49m\u001b[43m \u001b[49m\u001b[43mout\u001b[49m\u001b[43m=\u001b[49m\u001b[43mout\u001b[49m\u001b[43m)\u001b[49m\n\u001b[32m    870\u001b[39m     np.true_divide(s.data, \u001b[32m2.\u001b[39m, casting=\u001b[33m'\u001b[39m\u001b[33munsafe\u001b[39m\u001b[33m'\u001b[39m, out=s.data)\n\u001b[32m    872\u001b[39m     s = np.lib._utils_impl._median_nancheck(asorted, s, axis)\n",
      "\u001b[36mFile \u001b[39m\u001b[32m~/mambaforge/envs/workhorse/lib/python3.12/site-packages/numpy/ma/core.py:7129\u001b[39m, in \u001b[36m_frommethod.__call__\u001b[39m\u001b[34m(self, a, *args, **params)\u001b[39m\n\u001b[32m   7125\u001b[39m \u001b[38;5;28;01mif\u001b[39;00m method \u001b[38;5;129;01mis\u001b[39;00m \u001b[38;5;28;01mNone\u001b[39;00m:\n\u001b[32m   7126\u001b[39m     \u001b[38;5;66;03m# use the corresponding np function\u001b[39;00m\n\u001b[32m   7127\u001b[39m     method = \u001b[38;5;28mgetattr\u001b[39m(np, method_name)\n\u001b[32m-> \u001b[39m\u001b[32m7129\u001b[39m \u001b[38;5;28;01mreturn\u001b[39;00m \u001b[43mmethod\u001b[49m\u001b[43m(\u001b[49m\u001b[43mmarr\u001b[49m\u001b[43m,\u001b[49m\u001b[43m \u001b[49m\u001b[43m*\u001b[49m\u001b[43margs\u001b[49m\u001b[43m,\u001b[49m\u001b[43m \u001b[49m\u001b[43m*\u001b[49m\u001b[43m*\u001b[49m\u001b[43mparams\u001b[49m\u001b[43m)\u001b[49m\n",
      "\u001b[36mFile \u001b[39m\u001b[32m~/mambaforge/envs/workhorse/lib/python3.12/site-packages/numpy/ma/core.py:5284\u001b[39m, in \u001b[36mMaskedArray.sum\u001b[39m\u001b[34m(self, axis, dtype, out, keepdims)\u001b[39m\n\u001b[32m   5282\u001b[39m \u001b[38;5;66;03m# No explicit output\u001b[39;00m\n\u001b[32m   5283\u001b[39m \u001b[38;5;28;01mif\u001b[39;00m out \u001b[38;5;129;01mis\u001b[39;00m \u001b[38;5;28;01mNone\u001b[39;00m:\n\u001b[32m-> \u001b[39m\u001b[32m5284\u001b[39m     result = \u001b[38;5;28;43mself\u001b[39;49m\u001b[43m.\u001b[49m\u001b[43mfilled\u001b[49m\u001b[43m(\u001b[49m\u001b[32;43m0\u001b[39;49m\u001b[43m)\u001b[49m\u001b[43m.\u001b[49m\u001b[43msum\u001b[49m\u001b[43m(\u001b[49m\u001b[43maxis\u001b[49m\u001b[43m,\u001b[49m\u001b[43m \u001b[49m\u001b[43mdtype\u001b[49m\u001b[43m=\u001b[49m\u001b[43mdtype\u001b[49m\u001b[43m,\u001b[49m\u001b[43m \u001b[49m\u001b[43m*\u001b[49m\u001b[43m*\u001b[49m\u001b[43mkwargs\u001b[49m\u001b[43m)\u001b[49m\n\u001b[32m   5285\u001b[39m     rndim = \u001b[38;5;28mgetattr\u001b[39m(result, \u001b[33m'\u001b[39m\u001b[33mndim\u001b[39m\u001b[33m'\u001b[39m, \u001b[32m0\u001b[39m)\n\u001b[32m   5286\u001b[39m     \u001b[38;5;28;01mif\u001b[39;00m rndim:\n",
      "\u001b[36mFile \u001b[39m\u001b[32m~/mambaforge/envs/workhorse/lib/python3.12/site-packages/numpy/_core/_methods.py:52\u001b[39m, in \u001b[36m_sum\u001b[39m\u001b[34m(a, axis, dtype, out, keepdims, initial, where)\u001b[39m\n\u001b[32m     50\u001b[39m \u001b[38;5;28;01mdef\u001b[39;00m\u001b[38;5;250m \u001b[39m\u001b[34m_sum\u001b[39m(a, axis=\u001b[38;5;28;01mNone\u001b[39;00m, dtype=\u001b[38;5;28;01mNone\u001b[39;00m, out=\u001b[38;5;28;01mNone\u001b[39;00m, keepdims=\u001b[38;5;28;01mFalse\u001b[39;00m,\n\u001b[32m     51\u001b[39m          initial=_NoValue, where=\u001b[38;5;28;01mTrue\u001b[39;00m):\n\u001b[32m---> \u001b[39m\u001b[32m52\u001b[39m     \u001b[38;5;28;01mreturn\u001b[39;00m \u001b[43mumr_sum\u001b[49m\u001b[43m(\u001b[49m\u001b[43ma\u001b[49m\u001b[43m,\u001b[49m\u001b[43m \u001b[49m\u001b[43maxis\u001b[49m\u001b[43m,\u001b[49m\u001b[43m \u001b[49m\u001b[43mdtype\u001b[49m\u001b[43m,\u001b[49m\u001b[43m \u001b[49m\u001b[43mout\u001b[49m\u001b[43m,\u001b[49m\u001b[43m \u001b[49m\u001b[43mkeepdims\u001b[49m\u001b[43m,\u001b[49m\u001b[43m \u001b[49m\u001b[43minitial\u001b[49m\u001b[43m,\u001b[49m\u001b[43m \u001b[49m\u001b[43mwhere\u001b[49m\u001b[43m)\u001b[49m\n",
      "\u001b[31mKeyboardInterrupt\u001b[39m: "
     ]
    }
   ],
   "source": [
    "#### take care of overlap due due multiple scenes per day\n",
    "day_counts = Counter(lookUp.get_all_dates_by_year_and_month(year, month, False))\n",
    "\n",
    "dummy = 0\n",
    "cumulative_day_counts_end = []\n",
    "\n",
    "for _, count in sorted(day_counts.items()):\n",
    "    dummy += count\n",
    "    cumulative_day_counts_end.append(dummy)\n",
    "\n",
    "cumulative_day_counts_start = np.insert(cumulative_day_counts_end, 0 ,0)\n",
    "\n",
    "# try fancy list aggregation\n",
    "cumulative_day_counts_start = np.array(cumulative_day_counts_start)\n",
    "cumulative_day_counts_end = np.array(cumulative_day_counts_end)\n",
    "\n",
    "### too slow\n",
    "# stack_list = [\n",
    "#     np.nanmedian(block[:, :, start:end], axis=2)\n",
    "#     for start, end in zip(cumulative_day_counts_start[:-1], cumulative_day_counts_end)\n",
    "# ]\n",
    "\n",
    "# fin_block = np.dstack(stack_list)\n"
   ]
  },
  {
   "cell_type": "code",
   "execution_count": 83,
   "id": "8039e352",
   "metadata": {},
   "outputs": [],
   "source": [
    "# Define the function to compute median for one slice\n",
    "def compute_daily_median(start, end):\n",
    "    return np.nanmedian(block[:, :, start:end], axis=2)\n",
    "\n",
    "# Run in parallel\n",
    "stack_list = Parallel(n_jobs=31)(  # -1 uses all available CPU cores\n",
    "    delayed(compute_daily_median)(start, end)\n",
    "    for start, end in zip(cumulative_day_counts_start[:-1], cumulative_day_counts_end)\n",
    ")"
   ]
  },
  {
   "cell_type": "code",
   "execution_count": 84,
   "id": "dacca251",
   "metadata": {},
   "outputs": [],
   "source": [
    "fin_block = np.dstack(stack_list)"
   ]
  },
  {
   "cell_type": "code",
   "execution_count": 85,
   "id": "18ed5e32",
   "metadata": {},
   "outputs": [
    {
     "data": {
      "image/png": "[encoded data removed]",
      "text/plain": [
       "<Figure size 800x600 with 2 Axes>"
      ]
     },
     "metadata": {},
     "output_type": "display_data"
    }
   ],
   "source": [
    "import matplotlib.pyplot as plt\n",
    "import numpy as np\n",
    "\n",
    "# Choose a band index to visualize (e.g., 0 = first day)\n",
    "band_idx = 0\n",
    "\n",
    "# Safety check to ensure the index is valid\n",
    "if fin_block.shape[2] > band_idx:\n",
    "    plt.figure(figsize=(8, 6))\n",
    "    plt.imshow(fin_block[:, :, band_idx], cmap='viridis')\n",
    "    plt.colorbar(label='Median Value')\n",
    "    plt.title(f'Median Composite - Band {band_idx + 1}')\n",
    "    plt.xlabel('Column Index')\n",
    "    plt.ylabel('Row Index')\n",
    "    plt.show()\n",
    "else:\n",
    "    print(f\"Band index {band_idx} is out of bounds. fin_block has {fin_block.shape[2]} bands.\")"
   ]
  },
  {
   "cell_type": "code",
   "execution_count": 86,
   "id": "76deec5f",
   "metadata": {},
   "outputs": [],
   "source": [
    "# tiff export\n",
    "import rasterio\n",
    "from rasterio.transform import from_origin\n",
    "\n",
    "# Assuming the dataset has spatial resolution info\n",
    "transform = from_origin(nXmin, nYmax, res, res)\n",
    "\n",
    "# Define output GeoTIFF filename\n",
    "output_filename = f'/data/{origin}et/Landsat/check.tif'\n",
    "\n",
    "# Open a new GeoTIFF file for writing\n",
    "with rasterio.open(output_filename, 'w', driver='GTiff', \n",
    "                   height=fin_block.shape[0], width=fin_block.shape[1],\n",
    "                   count=fin_block.shape[2], dtype=fin_block.dtype,\n",
    "                   crs=f'EPSG:{landsat_epsg}', transform=transform) as dst:\n",
    "    dst.write(fin_block.transpose(2, 0, 1))"
   ]
  },
  {
   "cell_type": "code",
   "execution_count": null,
   "id": "7afcefd3",
   "metadata": {},
   "outputs": [],
   "source": [
    "if len(getFilelist(tempF, '.nc')) > 0:\n",
    "    for file in getFilelist(tempF, '.nc'):\n",
    "        os.remove(file)\n",
    "    print('kill complete')"
   ]
  },
  {
   "cell_type": "code",
   "execution_count": 66,
   "id": "0db30d28",
   "metadata": {},
   "outputs": [
    {
     "name": "stdout",
     "output_type": "stream",
     "text": [
      "0.0 0.0\n"
     ]
    }
   ],
   "source": [
    "print(np.nanmin(fin_block), np.nanmax(fin_block))  # Check data range"
   ]
  }
 ],
 "metadata": {
  "kernelspec": {
   "display_name": "workhorse",
   "language": "python",
   "name": "python3"
  },
  "language_info": {
   "codemirror_mode": {
    "name": "ipython",
    "version": 3
   },
   "file_extension": ".py",
   "mimetype": "text/x-python",
   "name": "python",
   "nbconvert_exporter": "python",
   "pygments_lexer": "ipython3",
   "version": "3.12.10"
  }
 },
 "nbformat": 4,
 "nbformat_minor": 5
}
