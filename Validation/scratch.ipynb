{
 "cells": [
  {
   "cell_type": "code",
   "execution_count": null,
   "id": "b7d8b89b",
   "metadata": {},
   "outputs": [],
   "source": [
    "import sys\n",
    "sys.path.append('/home/potzschf/repos/')\n",
    "from helperToolz.helpsters import *\n",
    "from helperToolz.evapo import *\n",
    "\n",
    "workhorse = True\n",
    "if workhorse:\n",
    "    origin = 'Aldhani/eoagritwin/'\n",
    "else:\n",
    "    origin = "
   ]
  },
  {
   "cell_type": "code",
   "execution_count": null,
   "id": "fcae823c",
   "metadata": {},
   "outputs": [],
   "source": [
    "\n",
    "vrt = gdal.BuildVRT(f'{path_to_folder_out}{chipsize}_{overlap}_{file_end}.vrt', chips, separate = False)\n",
    "vrt = None\n",
    "convertVRTpathsTOrelative(f'{path_to_folder_out}{chipsize}_{overlap}_{file_end}.vrt')"
   ]
  },
  {
   "cell_type": "code",
   "execution_count": 4,
   "id": "a2fc1339",
   "metadata": {},
   "outputs": [
    {
     "name": "stderr",
     "output_type": "stream",
     "text": [
      "/home/potzschf/mambaforge/envs/workhorse/lib/python3.12/site-packages/osgeo/gdal.py:311: FutureWarning: Neither gdal.UseExceptions() nor gdal.DontUseExceptions() has been explicitly called. In GDAL 4.0, exceptions will be enabled by default.\n",
      "  warnings.warn(\n"
     ]
    }
   ],
   "source": [
    "mask = '/data/Aldhani/eoagritwin/et/Auxiliary/Landsat_GER_mask/Brandenburg_Landsat_mask_small.tif'\n",
    "\n",
    "\n",
    "ds = gdal.Open(mask, gdal.GA_ReadOnly)\n",
    "gt  = ds.GetGeoTransform()\n",
    "#load raster\n",
    "ras = ds.GetRasterBand(1).ReadAsArray()\n",
    "# get corners with of data space\n",
    "r, c = np.where(ras[:,:] > 0)\n",
    "upper_x1 = gt[0] + (c[0]-1)*gt[1]\n",
    "upper_y1 = gt[3] + (r[0]-1)*gt[5]\n",
    "upper_x2 = upper_x1 + (np.where(ras[r[0], :] > 0)[0].shape[0]-1)*gt[1]\n",
    "upper_y2 = upper_y1\n",
    "\n",
    "right_x1 = gt[0] + (np.max(c)+1)*gt[1]\n",
    "right_y1 = gt[3] + (r[np.where(c == np.max(c))[0]][0])*gt[5]\n",
    "right_x2 = right_x1\n",
    "right_y2 = right_y1 + (r[np.where(c == np.max(c))[0]].shape[0]+1)*gt[5]\n",
    "\n",
    "lower_x1 = gt[0] + (c[np.where(r == np.flip(r)[0])[0][0]])*gt[1]\n",
    "lower_y1 = gt[3] + (np.flip(r)[0]+2)*gt[5]\n",
    "lower_x2 = lower_x1 + (np.where(r == np.flip(r)[0])[0].shape[0])*gt[1]\n",
    "lower_y2 = lower_y1\n",
    "\n",
    "left_x1 = gt[0] + (np.min(c)-1)*gt[1]\n",
    "left_y1 = gt[3] + (r[np.where(c == np.min(c))[0]][0]+2)*gt[5]\n",
    "left_x2 = left_x1\n",
    "left_y2 = left_y1 + (r[np.where(c == np.min(c))[0]].shape[0])*gt[5]"
   ]
  },
  {
   "cell_type": "code",
   "execution_count": null,
   "id": "9657b4bf",
   "metadata": {},
   "outputs": [
    {
     "data": {
      "text/plain": [
       "array([    0,     0,     0, ..., 13331, 13331, 13331], shape=(173687250,))"
      ]
     },
     "execution_count": 8,
     "metadata": {},
     "output_type": "execute_result"
    }
   ],
   "source": []
  }
 ],
 "metadata": {
  "kernelspec": {
   "display_name": "workhorse",
   "language": "python",
   "name": "python3"
  },
  "language_info": {
   "codemirror_mode": {
    "name": "ipython",
    "version": 3
   },
   "file_extension": ".py",
   "mimetype": "text/x-python",
   "name": "python",
   "nbconvert_exporter": "python",
   "pygments_lexer": "ipython3",
   "version": "3.12.10"
  }
 },
 "nbformat": 4,
 "nbformat_minor": 5
}
