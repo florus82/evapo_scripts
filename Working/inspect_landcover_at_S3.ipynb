{
 "cells": [
  {
   "cell_type": "code",
   "execution_count": 5,
   "id": "c530f4e3",
   "metadata": {},
   "outputs": [],
   "source": [
    "import sys\n",
    "sys.path.append('/home/potzschf/repos/')\n",
    "from helperToolz.helpsters import *\n",
    "from helperToolz.evapo import *\n",
    "import geopandas as gpd\n",
    "import zipfile\n",
    "workhorse = True\n",
    "\n",
    "if workhorse:\n",
    "    origin = 'Aldhani/eoagritwin/'\n",
    "else:\n",
    "    origin = ''"
   ]
  },
  {
   "cell_type": "code",
   "execution_count": 6,
   "id": "268d526f",
   "metadata": {},
   "outputs": [],
   "source": [
    "# extract downloaded landcover files\n",
    "base_path = f'/data/{origin}et/Auxiliary/landcover/'\n",
    "for fold in ['Forest_type', 'Crop_types', 'Grassland']:\n",
    "    outPath = f'{base_path}extracted/{fold}'\n",
    "    os.makedirs(outPath, exist_ok=True)\n",
    "    for file in getFilelist(f'{base_path}raw/{fold}', '.zip'):\n",
    "        with zipfile.ZipFile(file, 'r') as zip:\n",
    "            zip.extractall(outPath)"
   ]
  },
  {
   "cell_type": "code",
   "execution_count": null,
   "id": "8af063d1",
   "metadata": {},
   "outputs": [],
   "source": [
    "# landcover was acquired for 2018 --> get S3 2018 composites\n"
   ]
  }
 ],
 "metadata": {
  "kernelspec": {
   "display_name": "workhorse",
   "language": "python",
   "name": "python3"
  },
  "language_info": {
   "codemirror_mode": {
    "name": "ipython",
    "version": 3
   },
   "file_extension": ".py",
   "mimetype": "text/x-python",
   "name": "python",
   "nbconvert_exporter": "python",
   "pygments_lexer": "ipython3",
   "version": "3.12.10"
  }
 },
 "nbformat": 4,
 "nbformat_minor": 5
}
