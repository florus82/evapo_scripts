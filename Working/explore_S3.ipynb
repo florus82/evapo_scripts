{
 "cells": [
  {
   "cell_type": "code",
   "execution_count": 1,
   "metadata": {},
   "outputs": [],
   "source": [
    "import sys\n",
    "sys.path.append('../Auxiliary/')\n",
    "from helpsters import *\n",
    "# import packages \n",
    "\n",
    "import rasterio as rio\n",
    "from rasterio.transform import from_origin"
   ]
  },
  {
   "cell_type": "code",
   "execution_count": 2,
   "metadata": {},
   "outputs": [],
   "source": [
    "files = sorted(getFilelist('/data/Aldhani/eoagritwin/et/Sentinel3/raw', '.nc'))\n",
    "year = 2024\n",
    "# get a subset of files for that year\n",
    "yearFiles = [file for file in files if int(file.split('/')[-1].split('_')[-1][0:4]) == year]\n",
    "\n",
    "# make dictionary that stores .tif names and related accDates to easier search to close observations with S2 data\n",
    "keys = ['filename', 'accDateTimes']\n",
    "vals = [list() for i in range(len(keys))]\n",
    "lookUp = dict(zip(keys, vals))\n"
   ]
  },
  {
   "cell_type": "code",
   "execution_count": 15,
   "metadata": {},
   "outputs": [
    {
     "name": "stderr",
     "output_type": "stream",
     "text": [
      "/tmp/ipykernel_253478/2672730879.py:23: FutureWarning: Series.__getitem__ treating keys as positions is deprecated. In a future version, integer keys will always be treated as labels (consistent with DataFrame behavior). To access a value by position, use `ser.iloc[pos]`\n",
      "  monthCont.append(np.any(~np.isnan(dat[:, :, t1[l]:t2[l]]),axis=2)) # minimum dail obs\n",
      "/tmp/ipykernel_253478/2672730879.py:23: FutureWarning: Series.__getitem__ treating keys as positions is deprecated. In a future version, integer keys will always be treated as labels (consistent with DataFrame behavior). To access a value by position, use `ser.iloc[pos]`\n",
      "  monthCont.append(np.any(~np.isnan(dat[:, :, t1[l]:t2[l]]),axis=2)) # minimum dail obs\n",
      "/tmp/ipykernel_253478/2672730879.py:23: FutureWarning: Series.__getitem__ treating keys as positions is deprecated. In a future version, integer keys will always be treated as labels (consistent with DataFrame behavior). To access a value by position, use `ser.iloc[pos]`\n",
      "  monthCont.append(np.any(~np.isnan(dat[:, :, t1[l]:t2[l]]),axis=2)) # minimum dail obs\n",
      "/tmp/ipykernel_253478/2672730879.py:23: FutureWarning: Series.__getitem__ treating keys as positions is deprecated. In a future version, integer keys will always be treated as labels (consistent with DataFrame behavior). To access a value by position, use `ser.iloc[pos]`\n",
      "  monthCont.append(np.any(~np.isnan(dat[:, :, t1[l]:t2[l]]),axis=2)) # minimum dail obs\n",
      "/tmp/ipykernel_253478/2672730879.py:23: FutureWarning: Series.__getitem__ treating keys as positions is deprecated. In a future version, integer keys will always be treated as labels (consistent with DataFrame behavior). To access a value by position, use `ser.iloc[pos]`\n",
      "  monthCont.append(np.any(~np.isnan(dat[:, :, t1[l]:t2[l]]),axis=2)) # minimum dail obs\n",
      "/tmp/ipykernel_253478/2672730879.py:23: FutureWarning: Series.__getitem__ treating keys as positions is deprecated. In a future version, integer keys will always be treated as labels (consistent with DataFrame behavior). To access a value by position, use `ser.iloc[pos]`\n",
      "  monthCont.append(np.any(~np.isnan(dat[:, :, t1[l]:t2[l]]),axis=2)) # minimum dail obs\n",
      "/tmp/ipykernel_253478/2672730879.py:23: FutureWarning: Series.__getitem__ treating keys as positions is deprecated. In a future version, integer keys will always be treated as labels (consistent with DataFrame behavior). To access a value by position, use `ser.iloc[pos]`\n",
      "  monthCont.append(np.any(~np.isnan(dat[:, :, t1[l]:t2[l]]),axis=2)) # minimum dail obs\n",
      "/tmp/ipykernel_253478/2672730879.py:23: FutureWarning: Series.__getitem__ treating keys as positions is deprecated. In a future version, integer keys will always be treated as labels (consistent with DataFrame behavior). To access a value by position, use `ser.iloc[pos]`\n",
      "  monthCont.append(np.any(~np.isnan(dat[:, :, t1[l]:t2[l]]),axis=2)) # minimum dail obs\n",
      "/tmp/ipykernel_253478/2672730879.py:23: FutureWarning: Series.__getitem__ treating keys as positions is deprecated. In a future version, integer keys will always be treated as labels (consistent with DataFrame behavior). To access a value by position, use `ser.iloc[pos]`\n",
      "  monthCont.append(np.any(~np.isnan(dat[:, :, t1[l]:t2[l]]),axis=2)) # minimum dail obs\n",
      "/tmp/ipykernel_253478/2672730879.py:23: FutureWarning: Series.__getitem__ treating keys as positions is deprecated. In a future version, integer keys will always be treated as labels (consistent with DataFrame behavior). To access a value by position, use `ser.iloc[pos]`\n",
      "  monthCont.append(np.any(~np.isnan(dat[:, :, t1[l]:t2[l]]),axis=2)) # minimum dail obs\n",
      "/tmp/ipykernel_253478/2672730879.py:23: FutureWarning: Series.__getitem__ treating keys as positions is deprecated. In a future version, integer keys will always be treated as labels (consistent with DataFrame behavior). To access a value by position, use `ser.iloc[pos]`\n",
      "  monthCont.append(np.any(~np.isnan(dat[:, :, t1[l]:t2[l]]),axis=2)) # minimum dail obs\n",
      "/tmp/ipykernel_253478/2672730879.py:23: FutureWarning: Series.__getitem__ treating keys as positions is deprecated. In a future version, integer keys will always be treated as labels (consistent with DataFrame behavior). To access a value by position, use `ser.iloc[pos]`\n",
      "  monthCont.append(np.any(~np.isnan(dat[:, :, t1[l]:t2[l]]),axis=2)) # minimum dail obs\n"
     ]
    }
   ],
   "source": [
    "# set storPath for exported tiffs\n",
    "storPath = '/data/Aldhani/eoagritwin/et/Sentinel3/tiffs/'\n",
    "yearCont = []\n",
    "# loop over files and export to .tif at location storPath\n",
    "for file in yearFiles:\n",
    "\n",
    "    accDateTimes = getAllDatesS3(file) # possible to take annual subset if entire files list would be passed here\n",
    "    #convertNCtoTIF(file, storPath + 'LST/daily_observations_all/', file.split('/')[-1].split('.')[0] + '.tif', accDateTimes, False, True)\n",
    "\n",
    "    # write filenames and corresponding dates into dictionary for easier datesearch later\n",
    "    lookUp['filename'].append(file.split('.nc')[0])\n",
    "    lookUp['accDateTimes'].append(accDateTimes)\n",
    "\n",
    "    dat = getDataFromNC(file)\n",
    "    monthCont = []\n",
    "    df = pd.Series(accDateTimes)\n",
    "    counts_per_day = df.dt.floor(\"D\").value_counts().sort_index()\n",
    "    # vectors for indexing over days\n",
    "    t2 = np.cumsum(counts_per_day)\n",
    "    t1 = np.insert(t2, 0 ,0)\n",
    "\n",
    "    for l in range(len(counts_per_day)):\n",
    "        monthCont.append(np.any(~np.isnan(dat[:, :, t1[l]:t2[l]]),axis=2)) # minimum dail obs\n",
    "    exportNCarrayDerivatesInt(file, storPath + 'Analytics/', f'Minimum_DailyObservations_{('_').join(file.split('_')[-1].split('-')[:2])}.tif', 'monthly_sum_of_daily_obs', np.nansum(np.dstack((monthCont)), axis = 2), True)\n",
    "    yearCont.append(np.nansum(np.dstack((monthCont)), axis = 2))\n",
    "exportNCarrayDerivatesInt(file, storPath + 'Analytics/', f'Minimum_DailyObservations_{file.split('_')[-1].split('-')[0]}.tif', 'annual_sum_of_daily_obs', np.nansum(np.dstack((yearCont)), axis = 2), True)\n"
   ]
  },
  {
   "cell_type": "code",
   "execution_count": null,
   "metadata": {},
   "outputs": [],
   "source": [
    "dat = np.asarray((np.nan))\n",
    "dat.astype(np.uint16)"
   ]
  },
  {
   "cell_type": "code",
   "execution_count": 14,
   "metadata": {},
   "outputs": [
    {
     "data": {
      "text/plain": [
       "2024-12-01    12\n",
       "2024-12-02    10\n",
       "2024-12-03    10\n",
       "2024-12-04    10\n",
       "2024-12-05    12\n",
       "2024-12-06    10\n",
       "2024-12-07    10\n",
       "2024-12-08    11\n",
       "2024-12-09    11\n",
       "2024-12-10    10\n",
       "2024-12-11     9\n",
       "2024-12-12    11\n",
       "2024-12-13    11\n",
       "2024-12-14    10\n",
       "2024-12-15    10\n",
       "2024-12-16    11\n",
       "2024-12-17    11\n",
       "2024-12-18    10\n",
       "2024-12-19    10\n",
       "2024-12-20    11\n",
       "2024-12-21    11\n",
       "2024-12-22    10\n",
       "2024-12-23    10\n",
       "2024-12-24    11\n",
       "2024-12-25    11\n",
       "2024-12-26    10\n",
       "2024-12-27    10\n",
       "2024-12-28    12\n",
       "2024-12-29    10\n",
       "2024-12-30    10\n",
       "2024-12-31    10\n",
       "Name: count, dtype: int64"
      ]
     },
     "execution_count": 14,
     "metadata": {},
     "output_type": "execute_result"
    }
   ],
   "source": [
    "counts_per_day"
   ]
  },
  {
   "cell_type": "code",
   "execution_count": null,
   "metadata": {},
   "outputs": [],
   "source": []
  }
 ],
 "metadata": {
  "kernelspec": {
   "display_name": "evapo_sentinelhub",
   "language": "python",
   "name": "python3"
  },
  "language_info": {
   "codemirror_mode": {
    "name": "ipython",
    "version": 3
   },
   "file_extension": ".py",
   "mimetype": "text/x-python",
   "name": "python",
   "nbconvert_exporter": "python",
   "pygments_lexer": "ipython3",
   "version": "3.13.2"
  }
 },
 "nbformat": 4,
 "nbformat_minor": 2
}
