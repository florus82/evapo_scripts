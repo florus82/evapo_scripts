{
 "cells": [
  {
   "cell_type": "code",
   "execution_count": 1,
   "metadata": {},
   "outputs": [],
   "source": [
    "import sys\n",
    "sys.path.append('/home/potzschf/repos/')\n",
    "from helperToolz.helpsters import *\n",
    "# import packages \n",
    "\n",
    "import rasterio as rio\n",
    "from rasterio.transform import from_origin"
   ]
  },
  {
   "cell_type": "code",
   "execution_count": 2,
   "metadata": {},
   "outputs": [
    {
     "name": "stderr",
     "output_type": "stream",
     "text": [
      "/home/potzschf/mambaforge/envs/evapo_sentinelhub/lib/python3.13/site-packages/osgeo/ogr.py:601: FutureWarning: Neither ogr.UseExceptions() nor ogr.DontUseExceptions() has been explicitly called. In GDAL 4.0, exceptions will be enabled by default.\n",
      "  warnings.warn(\n"
     ]
    }
   ],
   "source": [
    "files = sorted(getFilelist('/data/Aldhani/eoagritwin/et/Sentinel3/raw', '.nc'))\n",
    "year = 2018\n",
    "# get a subset of files for that year\n",
    "yearFiles = [file for file in files if int(file.split('/')[-1].split('_')[-1][0:4]) == year]\n",
    "\n",
    "# make dictionary that stores .tif names and related accDates to easier search to close observations with S2 data\n",
    "lookUp = {}\n",
    "\n",
    "int_to_Month = {\n",
    "    '01': 'January',\n",
    "    '02': 'February',\n",
    "    '03': 'March',\n",
    "    '04': 'April',\n",
    "    '05': 'May',\n",
    "    '06': 'June',\n",
    "    '07': 'July',\n",
    "    '08': 'August',\n",
    "    '09': 'September',\n",
    "    '10': 'October',\n",
    "    '11': 'November',\n",
    "    '12': 'December'\n",
    "}\n",
    "\n",
    "# create a maks for germany\n",
    "mask = makeGermanyMaskforNC('/data/Aldhani/eoagritwin/misc/gadm41_DEU_shp/gadm41_DEU_0.shp', yearFiles[0])"
   ]
  },
  {
   "cell_type": "code",
   "execution_count": 5,
   "metadata": {},
   "outputs": [
    {
     "name": "stdout",
     "output_type": "stream",
     "text": [
      "/data/Aldhani/eoagritwin/et/Sentinel3/raw/Germany_2018-01.nc\n"
     ]
    },
    {
     "name": "stderr",
     "output_type": "stream",
     "text": [
      "/tmp/ipykernel_931760/1397222941.py:30: RuntimeWarning: All-NaN slice encountered\n",
      "  np.nanmedian(dat[:, :, start:end], axis=2)\n",
      "/tmp/ipykernel_931760/1397222941.py:43: RuntimeWarning: All-NaN slice encountered\n",
      "  np.nanmin(dat[:, :, start:end], axis=2)\n",
      "/tmp/ipykernel_931760/1397222941.py:53: RuntimeWarning: All-NaN slice encountered\n",
      "  np.nanmax(dat[:, :, start:end], axis=2)\n"
     ]
    },
    {
     "name": "stdout",
     "output_type": "stream",
     "text": [
      "/data/Aldhani/eoagritwin/et/Sentinel3/raw/Germany_2018-02.nc\n"
     ]
    },
    {
     "name": "stderr",
     "output_type": "stream",
     "text": [
      "/tmp/ipykernel_931760/1397222941.py:30: RuntimeWarning: All-NaN slice encountered\n",
      "  np.nanmedian(dat[:, :, start:end], axis=2)\n",
      "/tmp/ipykernel_931760/1397222941.py:43: RuntimeWarning: All-NaN slice encountered\n",
      "  np.nanmin(dat[:, :, start:end], axis=2)\n",
      "/tmp/ipykernel_931760/1397222941.py:53: RuntimeWarning: All-NaN slice encountered\n",
      "  np.nanmax(dat[:, :, start:end], axis=2)\n"
     ]
    },
    {
     "name": "stdout",
     "output_type": "stream",
     "text": [
      "/data/Aldhani/eoagritwin/et/Sentinel3/raw/Germany_2018-03.nc\n"
     ]
    },
    {
     "name": "stderr",
     "output_type": "stream",
     "text": [
      "/tmp/ipykernel_931760/1397222941.py:30: RuntimeWarning: All-NaN slice encountered\n",
      "  np.nanmedian(dat[:, :, start:end], axis=2)\n",
      "/tmp/ipykernel_931760/1397222941.py:43: RuntimeWarning: All-NaN slice encountered\n",
      "  np.nanmin(dat[:, :, start:end], axis=2)\n",
      "/tmp/ipykernel_931760/1397222941.py:53: RuntimeWarning: All-NaN slice encountered\n",
      "  np.nanmax(dat[:, :, start:end], axis=2)\n"
     ]
    },
    {
     "name": "stdout",
     "output_type": "stream",
     "text": [
      "/data/Aldhani/eoagritwin/et/Sentinel3/raw/Germany_2018-04.nc\n"
     ]
    },
    {
     "name": "stderr",
     "output_type": "stream",
     "text": [
      "/tmp/ipykernel_931760/1397222941.py:30: RuntimeWarning: All-NaN slice encountered\n",
      "  np.nanmedian(dat[:, :, start:end], axis=2)\n",
      "/tmp/ipykernel_931760/1397222941.py:43: RuntimeWarning: All-NaN slice encountered\n",
      "  np.nanmin(dat[:, :, start:end], axis=2)\n",
      "/tmp/ipykernel_931760/1397222941.py:53: RuntimeWarning: All-NaN slice encountered\n",
      "  np.nanmax(dat[:, :, start:end], axis=2)\n"
     ]
    },
    {
     "name": "stdout",
     "output_type": "stream",
     "text": [
      "/data/Aldhani/eoagritwin/et/Sentinel3/raw/Germany_2018-05.nc\n"
     ]
    },
    {
     "name": "stderr",
     "output_type": "stream",
     "text": [
      "/tmp/ipykernel_931760/1397222941.py:30: RuntimeWarning: All-NaN slice encountered\n",
      "  np.nanmedian(dat[:, :, start:end], axis=2)\n",
      "/tmp/ipykernel_931760/1397222941.py:43: RuntimeWarning: All-NaN slice encountered\n",
      "  np.nanmin(dat[:, :, start:end], axis=2)\n",
      "/tmp/ipykernel_931760/1397222941.py:53: RuntimeWarning: All-NaN slice encountered\n",
      "  np.nanmax(dat[:, :, start:end], axis=2)\n"
     ]
    },
    {
     "name": "stdout",
     "output_type": "stream",
     "text": [
      "/data/Aldhani/eoagritwin/et/Sentinel3/raw/Germany_2018-06.nc\n"
     ]
    },
    {
     "name": "stderr",
     "output_type": "stream",
     "text": [
      "/tmp/ipykernel_931760/1397222941.py:30: RuntimeWarning: All-NaN slice encountered\n",
      "  np.nanmedian(dat[:, :, start:end], axis=2)\n",
      "/tmp/ipykernel_931760/1397222941.py:43: RuntimeWarning: All-NaN slice encountered\n",
      "  np.nanmin(dat[:, :, start:end], axis=2)\n",
      "/tmp/ipykernel_931760/1397222941.py:53: RuntimeWarning: All-NaN slice encountered\n",
      "  np.nanmax(dat[:, :, start:end], axis=2)\n"
     ]
    },
    {
     "name": "stdout",
     "output_type": "stream",
     "text": [
      "/data/Aldhani/eoagritwin/et/Sentinel3/raw/Germany_2018-07.nc\n"
     ]
    },
    {
     "name": "stderr",
     "output_type": "stream",
     "text": [
      "/tmp/ipykernel_931760/1397222941.py:30: RuntimeWarning: All-NaN slice encountered\n",
      "  np.nanmedian(dat[:, :, start:end], axis=2)\n",
      "/tmp/ipykernel_931760/1397222941.py:43: RuntimeWarning: All-NaN slice encountered\n",
      "  np.nanmin(dat[:, :, start:end], axis=2)\n",
      "/tmp/ipykernel_931760/1397222941.py:53: RuntimeWarning: All-NaN slice encountered\n",
      "  np.nanmax(dat[:, :, start:end], axis=2)\n"
     ]
    },
    {
     "name": "stdout",
     "output_type": "stream",
     "text": [
      "/data/Aldhani/eoagritwin/et/Sentinel3/raw/Germany_2018-08.nc\n"
     ]
    },
    {
     "name": "stderr",
     "output_type": "stream",
     "text": [
      "/tmp/ipykernel_931760/1397222941.py:30: RuntimeWarning: All-NaN slice encountered\n",
      "  np.nanmedian(dat[:, :, start:end], axis=2)\n",
      "/tmp/ipykernel_931760/1397222941.py:43: RuntimeWarning: All-NaN slice encountered\n",
      "  np.nanmin(dat[:, :, start:end], axis=2)\n",
      "/tmp/ipykernel_931760/1397222941.py:53: RuntimeWarning: All-NaN slice encountered\n",
      "  np.nanmax(dat[:, :, start:end], axis=2)\n"
     ]
    },
    {
     "name": "stdout",
     "output_type": "stream",
     "text": [
      "/data/Aldhani/eoagritwin/et/Sentinel3/raw/Germany_2018-09.nc\n"
     ]
    },
    {
     "name": "stderr",
     "output_type": "stream",
     "text": [
      "/tmp/ipykernel_931760/1397222941.py:30: RuntimeWarning: All-NaN slice encountered\n",
      "  np.nanmedian(dat[:, :, start:end], axis=2)\n",
      "/tmp/ipykernel_931760/1397222941.py:43: RuntimeWarning: All-NaN slice encountered\n",
      "  np.nanmin(dat[:, :, start:end], axis=2)\n",
      "/tmp/ipykernel_931760/1397222941.py:53: RuntimeWarning: All-NaN slice encountered\n",
      "  np.nanmax(dat[:, :, start:end], axis=2)\n"
     ]
    },
    {
     "name": "stdout",
     "output_type": "stream",
     "text": [
      "/data/Aldhani/eoagritwin/et/Sentinel3/raw/Germany_2018-10.nc\n"
     ]
    },
    {
     "name": "stderr",
     "output_type": "stream",
     "text": [
      "/tmp/ipykernel_931760/1397222941.py:30: RuntimeWarning: All-NaN slice encountered\n",
      "  np.nanmedian(dat[:, :, start:end], axis=2)\n",
      "/tmp/ipykernel_931760/1397222941.py:43: RuntimeWarning: All-NaN slice encountered\n",
      "  np.nanmin(dat[:, :, start:end], axis=2)\n",
      "/tmp/ipykernel_931760/1397222941.py:53: RuntimeWarning: All-NaN slice encountered\n",
      "  np.nanmax(dat[:, :, start:end], axis=2)\n"
     ]
    },
    {
     "name": "stdout",
     "output_type": "stream",
     "text": [
      "/data/Aldhani/eoagritwin/et/Sentinel3/raw/Germany_2018-11.nc\n"
     ]
    },
    {
     "name": "stderr",
     "output_type": "stream",
     "text": [
      "/tmp/ipykernel_931760/1397222941.py:30: RuntimeWarning: All-NaN slice encountered\n",
      "  np.nanmedian(dat[:, :, start:end], axis=2)\n",
      "/tmp/ipykernel_931760/1397222941.py:43: RuntimeWarning: All-NaN slice encountered\n",
      "  np.nanmin(dat[:, :, start:end], axis=2)\n",
      "/tmp/ipykernel_931760/1397222941.py:53: RuntimeWarning: All-NaN slice encountered\n",
      "  np.nanmax(dat[:, :, start:end], axis=2)\n"
     ]
    },
    {
     "name": "stdout",
     "output_type": "stream",
     "text": [
      "/data/Aldhani/eoagritwin/et/Sentinel3/raw/Germany_2018-12.nc\n"
     ]
    },
    {
     "name": "stderr",
     "output_type": "stream",
     "text": [
      "/tmp/ipykernel_931760/1397222941.py:30: RuntimeWarning: All-NaN slice encountered\n",
      "  np.nanmedian(dat[:, :, start:end], axis=2)\n",
      "/tmp/ipykernel_931760/1397222941.py:43: RuntimeWarning: All-NaN slice encountered\n",
      "  np.nanmin(dat[:, :, start:end], axis=2)\n",
      "/tmp/ipykernel_931760/1397222941.py:53: RuntimeWarning: All-NaN slice encountered\n",
      "  np.nanmax(dat[:, :, start:end], axis=2)\n"
     ]
    }
   ],
   "source": [
    "# set storPath for exported tiffs\n",
    "storPath = '/data/Aldhani/eoagritwin/et/Sentinel3/tiffs/'\n",
    "LST_path = f'{storPath}LST/daily_observations_all/{year}/'\n",
    "monthly_composites_path = f'{storPath}LST/monthly_composites/{year}/'\n",
    "os.makedirs(LST_path, exist_ok=True)\n",
    "os.makedirs(monthly_composites_path, exist_ok=True)\n",
    "yearCont = []\n",
    "# loop over files and export to .tif at location storPath\n",
    "for i, file in enumerate(yearFiles):\n",
    "    print(file)\n",
    "    accDateTimes = getAllDatesS3(file) # possible to take annual subset if entire files list would be passed here\n",
    "#     convertNCtoTIF(file, LST_path, file.split('/')[-1].split('.')[0] + '.tif', accDateTimes, False, True)\n",
    "\n",
    "    # write filenames and corresponding dates into dictionary for easier datesearch later\n",
    "    lookUp[file.split('.nc')[0]] = accDateTimes\n",
    "\n",
    "    dat = getDataFromNC(file)\n",
    "    monthCont = []\n",
    "    df = pd.Series(accDateTimes)\n",
    "    counts_per_day = df.dt.floor(\"D\").value_counts().sort_index()\n",
    "    # vectors for indexing over days\n",
    "    cumulative_day_counts_end = np.asarray(np.cumsum(counts_per_day))\n",
    "    cumulative_day_counts_start = np.insert(cumulative_day_counts_end, 0 ,0)\n",
    "\n",
    "    # cumulative_day_counts_start = np.array(cumulative_day_counts_start)\n",
    "    # cumulative_day_counts_end = np.array(cumulative_day_counts_end)\n",
    "\n",
    "    # aggreagate by median\n",
    "    stack_list = [\n",
    "        np.nanmedian(dat[:, :, start:end], axis=2)\n",
    "        for start, end in zip(cumulative_day_counts_start[:-1], cumulative_day_counts_end)\n",
    "    ] \n",
    "    fin_block = np.dstack(stack_list)\n",
    "\n",
    "    MM = int_to_Month[file.rsplit('-', maxsplit=1)[-1].split('.')[0]]\n",
    "    bands = [f'{MM}_Day_{b+1}' for b in range(fin_block.shape[2])]\n",
    "    fin_block = fin_block * mask[:, :, np.newaxis]\n",
    "    fin_block[fin_block == 0] = np.nan\n",
    "    exportNCarrayDerivatesComp(file, monthly_composites_path, f'Germany_{year}_{MM}_mean.tif', bands, fin_block)\n",
    "\n",
    "    # aggreagate by min\n",
    "    stack_list = [\n",
    "        np.nanmin(dat[:, :, start:end], axis=2)\n",
    "        for start, end in zip(cumulative_day_counts_start[:-1], cumulative_day_counts_end)\n",
    "    ] \n",
    "    fin_block = np.dstack(stack_list)\n",
    "    fin_block = fin_block * mask[:, :, np.newaxis]\n",
    "    fin_block[fin_block == 0] = np.nan\n",
    "    exportNCarrayDerivatesComp(file, monthly_composites_path, f'Germany_{year}_{MM}_min.tif', bands, fin_block)\n",
    "\n",
    "    # aggreagate by max\n",
    "    stack_list = [\n",
    "        np.nanmax(dat[:, :, start:end], axis=2)\n",
    "        for start, end in zip(cumulative_day_counts_start[:-1], cumulative_day_counts_end)\n",
    "    ] \n",
    "    fin_block = np.dstack(stack_list)\n",
    "    fin_block = fin_block * mask[:, :, np.newaxis]\n",
    "    fin_block[fin_block == 0] = np.nan\n",
    "    exportNCarrayDerivatesComp(file, monthly_composites_path, f'Germany_{year}_{MM}_max.tif', bands, fin_block)\n",
    "\n",
    "#     for l in range(len(counts_per_day)):\n",
    "#         monthCont.append(np.any(~np.isnan(dat[:, :, t1[l]:t2[l]]),axis=2)) # minimum dail obs\n",
    "#     # exportNCarrayDerivatesInt(file, storPath + 'Analytics/', f'Minimum_DailyObservations_{('_').join(file.split('_')[-1].split('-')[:2])}.tif', 'monthly_sum_of_daily_obs', np.nansum(np.dstack((monthCont)), axis = 2), True)\n",
    "#     yearCont.append(np.nansum(np.dstack((monthCont)), axis = 2))\n",
    "# exportNCarrayDerivatesInt(file, storPath + 'Analytics/', f'Minimum_DailyObservations_{file.split('_')[-1].split('-')[0]}.tif', 'annual_sum_of_daily_obs', np.nansum(np.dstack((yearCont)), axis = 2), True)\n"
   ]
  },
  {
   "cell_type": "code",
   "execution_count": 6,
   "metadata": {},
   "outputs": [],
   "source": [
    "ncfile= file\n",
    "storPath= monthly_composites_path\n",
    "fileName= file.rsplit('/', maxsplit=1)[-1].split('.')[0] + '_mean.tif'\n",
    "bandnames=bands\n",
    "arr=fin_block\n",
    "\n",
    "   "
   ]
  }
 ],
 "metadata": {
  "kernelspec": {
   "display_name": "evapo_sentinelhub",
   "language": "python",
   "name": "python3"
  },
  "language_info": {
   "codemirror_mode": {
    "name": "ipython",
    "version": 3
   },
   "file_extension": ".py",
   "mimetype": "text/x-python",
   "name": "python",
   "nbconvert_exporter": "python",
   "pygments_lexer": "ipython3",
   "version": "3.13.2"
  }
 },
 "nbformat": 4,
 "nbformat_minor": 2
}
