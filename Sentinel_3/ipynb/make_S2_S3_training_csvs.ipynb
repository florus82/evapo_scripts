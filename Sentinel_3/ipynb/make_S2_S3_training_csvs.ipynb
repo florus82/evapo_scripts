{
 "cells": [
  {
   "cell_type": "code",
   "execution_count": 2,
   "id": "49602789",
   "metadata": {},
   "outputs": [],
   "source": [
    "import sys\n",
    "sys.path.append('/home/potzschf/repos/')\n",
    "from helperToolz.helpsters import *\n",
    "from helperToolz.evapo import *\n",
    "import re \n",
    "\n",
    "workhorse = True\n",
    "\n",
    "if workhorse:\n",
    "    origin = 'Aldhani/eoagritwin/'\n",
    "else:\n",
    "    origin = ''\n",
    "\n",
    "indices = ['EVI', 'NDM', 'NDV', 'TCB', 'TCG', 'TCW']\n",
    "metrics = ['mean', 'median']\n",
    "\n",
    "Month_to_DOY_start_reg = {'January': 1, 'February': 32, 'March': 60, 'April': 91, 'May': 121, 'June': 152, 'July': 182,\n",
    "    'August': 213, 'September': 244, 'October': 274, 'November': 305, 'December': 335}\n",
    "\n",
    "Month_to_DOY_start_gap = {'January': 1, 'February': 32, 'March': 61, 'April': 92, 'May': 122, 'June': 153, 'July': 183,\n",
    "    'August': 214, 'September': 245, 'October': 275, 'November': 306, 'December': 333}\n",
    "\n",
    "Month_to_Int = {'January': 1, 'February': 2,  'March': 3,  'April': 4, 'May': 5,  'June': 6,  'July': 7, \n",
    "    'August': 8, 'September': 9,  'October': 10,  'November': 11, 'December': 12}\n",
    "\n",
    "def extract_month(file_path):\n",
    "    match = re.search(r'(S3|S2)_\\d{4}_(\\w+)_(mean|median)', file_path)\n",
    "    if match:\n",
    "        return match.group(2)\n",
    "    else:\n",
    "        return None"
   ]
  },
  {
   "cell_type": "code",
   "execution_count": null,
   "id": "4ad8da38",
   "metadata": {},
   "outputs": [],
   "source": [
    "# get the indices\n",
    "# read csv for valid row_cols for samples to draw. They are based on the share of agriculture (HR Landcover maps) within a S3 pixel\n",
    "thresh_csv = pd.read_csv(f'/data/{origin}et/Auxiliary/landcover/csv/row_cols.csv')\n",
    "rows_cols = thresh_csv['Thresh50'].str.split('_', expand=True).astype(int)\n",
    "ind_rows, ind_cols = rows_cols[0].tolist(), rows_cols[1].tolist()\n",
    "# equivalent to the following\n",
    "# rows, cols = zip(*(map(lambda x: map(int, x.split('_')), thresh_csv['Thresh50'])))\n",
    "# rows, cols = list(rows), list(cols)"
   ]
  },
  {
   "cell_type": "code",
   "execution_count": null,
   "id": "ecf9995b",
   "metadata": {},
   "outputs": [],
   "source": [
    "########################################################################## Sentinel 3\n",
    "S3_path = f'/data/{origin}et/Sentinel3/tiffs/LST/daily_observations_all/'\n",
    "years = [year for year in os.listdir(S3_path) if os.path.isdir(os.path.join(S3_path, year))]\n",
    "years.sort()"
   ]
  },
  {
   "cell_type": "code",
   "execution_count": null,
   "id": "38949465",
   "metadata": {},
   "outputs": [],
   "source": [
    "years"
   ]
  },
  {
   "cell_type": "code",
   "execution_count": null,
   "id": "b4a84bf4",
   "metadata": {},
   "outputs": [],
   "source": [
    "for year in years:\n",
    "    # print(f'Extracting S3 data for year {year}')\n",
    "    # get the right dict --> needed to get the proper DOYs from the monthly files\n",
    "    if int(year) in range(2000,2040,4):\n",
    "        conv = Month_to_DOY_start_gap\n",
    "    else:\n",
    "        conv = Month_to_DOY_start_reg\n",
    "    #print(conv)\n",
    "\n",
    "    year_files = getFilelist(os.path.join(S3_path, year), '.tif')\n",
    "    # print(year_files)\n",
    "    for metric in metrics:\n",
    "        #print(f'....for metric {metric}')\n",
    "        metric_paths = [file for file in year_files if metric in file]\n",
    "        #print(metric_paths)\n",
    "        for metric_path in metric_paths:\n",
    "            # get the right doy starting point --> needed because files are stored monthly and doy needed to merge with S2\n",
    "            for month, doy_start_ind in conv.items():\n",
    "                if month in metric_path:\n",
    "                    doy_start = doy_start_ind\n",
    "                    monthi = month\n",
    "                    break\n",
    "            #print(f' work on {monthi}')\n",
    "            outPath1 = f'/data/{origin}et/Training_ML/training_data/S3_{year}_{month}_{metric}.parquet'\n",
    "            print(outPath1)"
   ]
  },
  {
   "cell_type": "code",
   "execution_count": null,
   "id": "364446bc",
   "metadata": {},
   "outputs": [],
   "source": [
    "\n",
    "\n",
    "    \n",
    "\n",
    "        if os.path.isfile(outPath1):\n",
    "            print('really??')\n",
    "            continue\n",
    "        else:\n",
    "            # read in stack\n",
    "            ds = gdal.Open(metric_path)\n",
    "            bands = ds.RasterCount\n",
    "            conti = []\n",
    "\n",
    "            for band in range(bands):\n",
    "                conti.append(ds.GetRasterBand(band+1).ReadAsArray())\n",
    "            arr = np.dstack(conti)\n",
    "            # write in dicts\n",
    "            s3_dicts = []\n",
    "            sub_arr = arr[ind_rows, ind_cols,:].T\n",
    "\n",
    "            for row in range(sub_arr.shape[0]):\n",
    "                for col in range(sub_arr.shape[1]): \n",
    "                        s3_dicts.append({\n",
    "                            'row': ind_rows[col],\n",
    "                            'col': ind_cols[col],\n",
    "                            'doy': doy_start + row,\n",
    "                            f'S3_{metric}': sub_arr[row,col]\n",
    "                        })\n",
    "\n",
    "            s3_dict = pd.DataFrame(s3_dicts)\n",
    "            s3_dict.to_parquet(outPath1, index=False)"
   ]
  },
  {
   "cell_type": "code",
   "execution_count": null,
   "id": "ce09c7ae",
   "metadata": {},
   "outputs": [],
   "source": [
    "s3_dict = pd.DataFrame(s3_dicts)\n",
    "s3_dict.to_parquet(f'/data/Aldhani/eoagritwin/et/Training_ML/training_data/S3_{year}_{metric}.parquet', index=False)"
   ]
  },
  {
   "cell_type": "code",
   "execution_count": null,
   "id": "059e983b",
   "metadata": {},
   "outputs": [],
   "source": [
    "# get FORCE extracts\n",
    "npy_files = getFilelist('/data/Aldhani/eoagritwin/et/Auxiliary/dumps_for_training_collecting/', '.npy')\n",
    "\n",
    "for year in range(2017, 2025, 1):\n",
    "    year_list = [npy_file for npy_file in npy_files if str(year) in npy_file]\n",
    "    if not year_list:\n",
    "        continue\n",
    "    for index in indices:\n",
    "        dat = [np.load(file) for file in year_list if index in file]\n",
    "        if not dat:\n",
    "            continue\n",
    "        else:\n",
    "            npy_dicts = []\n",
    "            dat = dat[0]\n",
    "            for row in range(dat.shape[0]):\n",
    "                for col in range(dat.shape[1]): \n",
    "                    npy_dicts.append({'row': ind_rows[col],\n",
    "                                    'col': ind_cols[col],\n",
    "                                    'index': index,\n",
    "                                    'doy': row+1,\n",
    "                                    'S2': dat[row,col]})\n",
    "                    \n",
    "            npy_dict = pd.DataFrame(npy_dicts)\n",
    "            npy_dict.to_parquet(f'/data/Aldhani/eoagritwin/et/Training_ML/training_data/S2_{year}_{index}.parquet', index=False)\n",
    "            "
   ]
  },
  {
   "cell_type": "code",
   "execution_count": null,
   "id": "3346e06f",
   "metadata": {},
   "outputs": [],
   "source": [
    "S3_files = [file for file in getFilelist(f'/data/{origin}et/Training_ML/training_data/', '.parquet') if 'S3' in file]\n",
    "years = sorted(list(set([re.search(r'_(\\d{4})_', S3_file).group(1) for S3_file in S3_files])))\n",
    "for year in years:\n",
    "    for metric in metrics:\n",
    "        # get files for one year and one metric\n",
    "        annual_files = [S3_file for S3_file in S3_files if year in S3_file and metric in S3_file]\n",
    "        # sort them chronological\n",
    "        annual_files = sorted(annual_files, key=lambda f: Month_to_Int.get(extract_month(f), 0))\n",
    "        # load and merge them\n",
    "        merged_files = pd.concat([pd.read_parquet(annual_file) for annual_file in annual_files], ignore_index=False)\n",
    "        # export\n",
    "        merged_files.to_parquet(f'/data/{origin}et/Training_ML/training_data/S3_{year}_{metric}.parquet', index=False)\n",
    "        _ = [os.remove(file) for file in annual_files]\n"
   ]
  },
  {
   "cell_type": "code",
   "execution_count": null,
   "id": "990b2681",
   "metadata": {},
   "outputs": [
    {
     "data": {
      "text/plain": [
       "['/data/Aldhani/eoagritwin/et/Training_ML/training_data/S3_2020_January_mean.parquet',\n",
       " '/data/Aldhani/eoagritwin/et/Training_ML/training_data/S3_2020_February_mean.parquet',\n",
       " '/data/Aldhani/eoagritwin/et/Training_ML/training_data/S3_2020_March_mean.parquet',\n",
       " '/data/Aldhani/eoagritwin/et/Training_ML/training_data/S3_2020_April_mean.parquet',\n",
       " '/data/Aldhani/eoagritwin/et/Training_ML/training_data/S3_2020_May_mean.parquet',\n",
       " '/data/Aldhani/eoagritwin/et/Training_ML/training_data/S3_2020_June_mean.parquet',\n",
       " '/data/Aldhani/eoagritwin/et/Training_ML/training_data/S3_2020_July_mean.parquet',\n",
       " '/data/Aldhani/eoagritwin/et/Training_ML/training_data/S3_2020_August_mean.parquet',\n",
       " '/data/Aldhani/eoagritwin/et/Training_ML/training_data/S3_2020_September_mean.parquet',\n",
       " '/data/Aldhani/eoagritwin/et/Training_ML/training_data/S3_2020_October_mean.parquet',\n",
       " '/data/Aldhani/eoagritwin/et/Training_ML/training_data/S3_2020_November_mean.parquet',\n",
       " '/data/Aldhani/eoagritwin/et/Training_ML/training_data/S3_2020_December_mean.parquet']"
      ]
     },
     "execution_count": 47,
     "metadata": {},
     "output_type": "execute_result"
    }
   ],
   "source": [
    "S3_files = [file for file in getFilelist(f'/data/{origin}et/Training_ML/training_data/', '.parquet') if 'S3' in file]\n",
    "years = sorted(list(set([re.search(r'_(\\d{4})_', S3_file).group(1) for S3_file in S3_files])))\n",
    "for year in years:\n",
    "    # get files for one year and one metric\n",
    "    annual_files = [S3_file for S3_file in S3_files if year in S3_file]\n",
    "    # load and join them\n",
    "    df1 = annual_files[0]\n",
    "    df2 = annual_files[1]\n",
    "    merged_df = pd.merge(df1, df2, on=['row', 'col', 'doy'], how='left')\n",
    "    # export\n",
    "    merged_df.to_parquet(f'/data/{origin}et/Training_ML/training_data/S3_{year}.parquet', index=False)\n",
    "    _ = [os.remove(file) for file in annual_files]\n"
   ]
  },
  {
   "cell_type": "code",
   "execution_count": 15,
   "id": "1f56473d",
   "metadata": {},
   "outputs": [],
   "source": [
    "dat = pd.read_parquet(f'/data/{origin}et/Training_ML/training_data/S3_{2018}.parquet')\n",
    "qq = dat['S3_mean'] - dat['S3_median']\n",
    "mask = qq.notna() & (qq != 0)\n",
    "diff_rows = dat[mask]"
   ]
  },
  {
   "cell_type": "code",
   "execution_count": 18,
   "id": "b9ef1d21",
   "metadata": {},
   "outputs": [
    {
     "data": {
      "application/vnd.microsoft.datawrangler.viewer.v0+json": {
       "columns": [
        {
         "name": "index",
         "rawType": "int64",
         "type": "integer"
        },
        {
         "name": "row",
         "rawType": "int64",
         "type": "integer"
        },
        {
         "name": "col",
         "rawType": "int64",
         "type": "integer"
        },
        {
         "name": "doy",
         "rawType": "int64",
         "type": "integer"
        },
        {
         "name": "S3_mean",
         "rawType": "float32",
         "type": "float"
        },
        {
         "name": "S3_median",
         "rawType": "float32",
         "type": "float"
        }
       ],
       "ref": "42250bee-4630-43e4-8e32-67d36ea716df",
       "rows": [
        [
         "19905344",
         "100",
         "806",
         "121",
         "268.52066",
         "267.088"
        ],
        [
         "19905370",
         "100",
         "856",
         "121",
         "276.00067",
         "281.492"
        ],
        [
         "19905371",
         "100",
         "857",
         "121",
         "275.75064",
         "281.038"
        ],
        [
         "19905372",
         "100",
         "858",
         "121",
         "275.75598",
         "281.054"
        ],
        [
         "19905375",
         "100",
         "861",
         "121",
         "280.6135",
         "280.582"
        ],
        [
         "19905376",
         "100",
         "862",
         "121",
         "280.6735",
         "280.642"
        ],
        [
         "19905377",
         "100",
         "863",
         "121",
         "283.49002",
         "285.368"
        ],
        [
         "19905492",
         "101",
         "804",
         "121",
         "267.65268",
         "266.864"
        ],
        [
         "19905494",
         "101",
         "806",
         "121",
         "267.47067",
         "266.448"
        ],
        [
         "19905496",
         "101",
         "808",
         "121",
         "267.4005",
         "267.391"
        ],
        [
         "19905524",
         "101",
         "856",
         "121",
         "273.65552",
         "273.734"
        ],
        [
         "19905525",
         "101",
         "857",
         "121",
         "272.646",
         "272.549"
        ],
        [
         "19905529",
         "101",
         "861",
         "121",
         "278.20398",
         "281.352"
        ],
        [
         "19905673",
         "102",
         "807",
         "121",
         "268.1575",
         "268.125"
        ],
        [
         "19905674",
         "102",
         "808",
         "121",
         "268.272",
         "268.24402"
        ],
        [
         "19905675",
         "102",
         "809",
         "121",
         "269.5275",
         "269.237"
        ],
        [
         "19905678",
         "102",
         "812",
         "121",
         "275.0145",
         "275.047"
        ],
        [
         "19905679",
         "102",
         "813",
         "121",
         "275.805",
         "275.94397"
        ],
        [
         "19905682",
         "102",
         "818",
         "121",
         "278.039",
         "277.939"
        ],
        [
         "19905703",
         "102",
         "855",
         "121",
         "273.634",
         "273.837"
        ],
        [
         "19905704",
         "102",
         "856",
         "121",
         "273.617",
         "273.837"
        ],
        [
         "19905709",
         "102",
         "861",
         "121",
         "278.332",
         "281.468"
        ],
        [
         "19905710",
         "102",
         "862",
         "121",
         "278.624",
         "281.468"
        ],
        [
         "19905712",
         "102",
         "864",
         "121",
         "281.8875",
         "281.899"
        ],
        [
         "19905851",
         "103",
         "804",
         "121",
         "267.98068",
         "267.016"
        ],
        [
         "19905852",
         "103",
         "805",
         "121",
         "268.1653",
         "267.186"
        ],
        [
         "19905853",
         "103",
         "806",
         "121",
         "268.20898",
         "268.2"
        ],
        [
         "19905854",
         "103",
         "807",
         "121",
         "268.541",
         "268.552"
        ],
        [
         "19905855",
         "103",
         "808",
         "121",
         "268.6075",
         "268.626"
        ],
        [
         "19905856",
         "103",
         "809",
         "121",
         "269.883",
         "269.948"
        ],
        [
         "19905857",
         "103",
         "810",
         "121",
         "270.2965",
         "270.391"
        ],
        [
         "19905876",
         "103",
         "861",
         "121",
         "277.20447",
         "277.168"
        ],
        [
         "19905877",
         "103",
         "862",
         "121",
         "279.2435",
         "281.22"
        ],
        [
         "19906008",
         "104",
         "808",
         "121",
         "268.84933",
         "268.778"
        ],
        [
         "19906177",
         "105",
         "807",
         "121",
         "269.18066",
         "269.134"
        ],
        [
         "19906178",
         "105",
         "809",
         "121",
         "273.4535",
         "273.616"
        ],
        [
         "19906219",
         "105",
         "870",
         "121",
         "282.84598",
         "281.27"
        ],
        [
         "19906385",
         "106",
         "855",
         "121",
         "275.46802",
         "280.272"
        ],
        [
         "19906386",
         "106",
         "856",
         "121",
         "274.1025",
         "274.142"
        ],
        [
         "19906393",
         "106",
         "868",
         "121",
         "282.02",
         "281.028"
        ],
        [
         "19906394",
         "106",
         "869",
         "121",
         "282.696",
         "282.75702"
        ],
        [
         "19906396",
         "106",
         "871",
         "121",
         "282.81265",
         "281.736"
        ],
        [
         "19906538",
         "107",
         "804",
         "121",
         "267.8815",
         "267.248"
        ],
        [
         "19906539",
         "107",
         "805",
         "121",
         "268.53598",
         "268.557"
        ],
        [
         "19906574",
         "107",
         "855",
         "121",
         "275.392",
         "280.17"
        ],
        [
         "19906575",
         "107",
         "856",
         "121",
         "276.9195",
         "276.90997"
        ],
        [
         "19906576",
         "107",
         "857",
         "121",
         "278.56647",
         "280.242"
        ],
        [
         "19906580",
         "107",
         "868",
         "121",
         "282.25198",
         "281.884"
        ],
        [
         "19906734",
         "108",
         "802",
         "121",
         "268.3035",
         "268.09003"
        ],
        [
         "19906769",
         "108",
         "854",
         "121",
         "272.8935",
         "272.891"
        ]
       ],
       "shape": {
        "columns": 5,
        "rows": 18197529
       }
      },
      "text/html": [
       "<div>\n",
       "<style scoped>\n",
       "    .dataframe tbody tr th:only-of-type {\n",
       "        vertical-align: middle;\n",
       "    }\n",
       "\n",
       "    .dataframe tbody tr th {\n",
       "        vertical-align: top;\n",
       "    }\n",
       "\n",
       "    .dataframe thead th {\n",
       "        text-align: right;\n",
       "    }\n",
       "</style>\n",
       "<table border=\"1\" class=\"dataframe\">\n",
       "  <thead>\n",
       "    <tr style=\"text-align: right;\">\n",
       "      <th></th>\n",
       "      <th>row</th>\n",
       "      <th>col</th>\n",
       "      <th>doy</th>\n",
       "      <th>S3_mean</th>\n",
       "      <th>S3_median</th>\n",
       "    </tr>\n",
       "  </thead>\n",
       "  <tbody>\n",
       "    <tr>\n",
       "      <th>19905344</th>\n",
       "      <td>100</td>\n",
       "      <td>806</td>\n",
       "      <td>121</td>\n",
       "      <td>268.520660</td>\n",
       "      <td>267.088013</td>\n",
       "    </tr>\n",
       "    <tr>\n",
       "      <th>19905370</th>\n",
       "      <td>100</td>\n",
       "      <td>856</td>\n",
       "      <td>121</td>\n",
       "      <td>276.000671</td>\n",
       "      <td>281.492004</td>\n",
       "    </tr>\n",
       "    <tr>\n",
       "      <th>19905371</th>\n",
       "      <td>100</td>\n",
       "      <td>857</td>\n",
       "      <td>121</td>\n",
       "      <td>275.750641</td>\n",
       "      <td>281.037994</td>\n",
       "    </tr>\n",
       "    <tr>\n",
       "      <th>19905372</th>\n",
       "      <td>100</td>\n",
       "      <td>858</td>\n",
       "      <td>121</td>\n",
       "      <td>275.755981</td>\n",
       "      <td>281.053986</td>\n",
       "    </tr>\n",
       "    <tr>\n",
       "      <th>19905375</th>\n",
       "      <td>100</td>\n",
       "      <td>861</td>\n",
       "      <td>121</td>\n",
       "      <td>280.613495</td>\n",
       "      <td>280.582001</td>\n",
       "    </tr>\n",
       "    <tr>\n",
       "      <th>...</th>\n",
       "      <td>...</td>\n",
       "      <td>...</td>\n",
       "      <td>...</td>\n",
       "      <td>...</td>\n",
       "      <td>...</td>\n",
       "    </tr>\n",
       "    <tr>\n",
       "      <th>60545095</th>\n",
       "      <td>99</td>\n",
       "      <td>851</td>\n",
       "      <td>365</td>\n",
       "      <td>272.647980</td>\n",
       "      <td>272.211975</td>\n",
       "    </tr>\n",
       "    <tr>\n",
       "      <th>60545096</th>\n",
       "      <td>99</td>\n",
       "      <td>852</td>\n",
       "      <td>365</td>\n",
       "      <td>272.713989</td>\n",
       "      <td>272.211975</td>\n",
       "    </tr>\n",
       "    <tr>\n",
       "      <th>60545097</th>\n",
       "      <td>99</td>\n",
       "      <td>853</td>\n",
       "      <td>365</td>\n",
       "      <td>273.093353</td>\n",
       "      <td>271.761993</td>\n",
       "    </tr>\n",
       "    <tr>\n",
       "      <th>60545098</th>\n",
       "      <td>99</td>\n",
       "      <td>854</td>\n",
       "      <td>365</td>\n",
       "      <td>273.144684</td>\n",
       "      <td>271.761993</td>\n",
       "    </tr>\n",
       "    <tr>\n",
       "      <th>60545099</th>\n",
       "      <td>99</td>\n",
       "      <td>855</td>\n",
       "      <td>365</td>\n",
       "      <td>272.493317</td>\n",
       "      <td>271.234009</td>\n",
       "    </tr>\n",
       "  </tbody>\n",
       "</table>\n",
       "<p>18197529 rows × 5 columns</p>\n",
       "</div>"
      ],
      "text/plain": [
       "          row  col  doy     S3_mean   S3_median\n",
       "19905344  100  806  121  268.520660  267.088013\n",
       "19905370  100  856  121  276.000671  281.492004\n",
       "19905371  100  857  121  275.750641  281.037994\n",
       "19905372  100  858  121  275.755981  281.053986\n",
       "19905375  100  861  121  280.613495  280.582001\n",
       "...       ...  ...  ...         ...         ...\n",
       "60545095   99  851  365  272.647980  272.211975\n",
       "60545096   99  852  365  272.713989  272.211975\n",
       "60545097   99  853  365  273.093353  271.761993\n",
       "60545098   99  854  365  273.144684  271.761993\n",
       "60545099   99  855  365  272.493317  271.234009\n",
       "\n",
       "[18197529 rows x 5 columns]"
      ]
     },
     "execution_count": 18,
     "metadata": {},
     "output_type": "execute_result"
    }
   ],
   "source": [
    "diff_rows"
   ]
  },
  {
   "cell_type": "code",
   "execution_count": null,
   "id": "5825a50a",
   "metadata": {},
   "outputs": [
    {
     "data": {
      "text/plain": [
       "array([-24.933594, -22.943329, -20.54602 , ...,  19.22879 ,  19.337585,\n",
       "              nan], shape=(346190,), dtype=float32)"
      ]
     },
     "execution_count": 10,
     "metadata": {},
     "output_type": "execute_result"
    }
   ],
   "source": []
  }
 ],
 "metadata": {
  "kernelspec": {
   "display_name": "workhorse",
   "language": "python",
   "name": "python3"
  },
  "language_info": {
   "codemirror_mode": {
    "name": "ipython",
    "version": 3
   },
   "file_extension": ".py",
   "mimetype": "text/x-python",
   "name": "python",
   "nbconvert_exporter": "python",
   "pygments_lexer": "ipython3",
   "version": "3.12.10"
  }
 },
 "nbformat": 4,
 "nbformat_minor": 5
}
