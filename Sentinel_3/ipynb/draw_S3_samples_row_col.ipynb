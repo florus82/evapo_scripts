{
 "cells": [
  {
   "cell_type": "code",
   "execution_count": 1,
   "id": "326ee735",
   "metadata": {},
   "outputs": [],
   "source": [
    "import sys\n",
    "sys.path.append('/home/potzschf/repos/')\n",
    "from helperToolz.helpsters import *\n",
    "from helperToolz.evapo import *\n",
    "from datetime import datetime\n",
    "workhorse = True\n",
    "\n",
    "if workhorse:\n",
    "    origin = 'Aldhani/eoagritwin/'\n",
    "else:\n",
    "    origin = ''\n",
    "\n",
    "def get_folders_in_dir(dir):\n",
    "    return [f for f in os.listdir(dir) if os.path.isdir(os.path.join(dir, f))]\n",
    "\n",
    "trash = '/data/Aldhani/eoagritwin/et/Auxiliary/trash/band_intermediate/'\n",
    "temp = '/data/Aldhani/eoagritwin/et/Auxiliary/trash/vrt/'\n",
    "os.makedirs(trash, exist_ok=True)\n",
    "os.makedirs(temp, exist_ok=True)"
   ]
  },
  {
   "cell_type": "code",
   "execution_count": 2,
   "id": "d95a2dc8",
   "metadata": {},
   "outputs": [
    {
     "name": "stderr",
     "output_type": "stream",
     "text": [
      "/tmp/ipykernel_3395698/3154273301.py:2: DtypeWarning: Columns (0,1,2,3,4) have mixed types. Specify dtype option on import or set low_memory=False.\n",
      "  thresh_csv = pd.read_csv(f'/data/{origin}et/Auxiliary/landcover/csv/row_cols.csv')\n"
     ]
    }
   ],
   "source": [
    "# read csv for valid row_cols for samples to draw. They are based on the share of agriculture (HR Landcover maps) within a S3 pixel\n",
    "thresh_csv = pd.read_csv(f'/data/{origin}et/Auxiliary/landcover/csv/row_cols.csv')\n",
    "\n",
    "for col in thresh_csv.columns:\n",
    "    #print(f'finding indices for {col}')\n",
    "    nested = [entry.split('_') for entry in thresh_csv[col] if type(entry) == str]\n",
    "    rows, cols = zip(*nested)\n",
    "    #print(len(rows))\n",
    "# only use Thresh50, as all valid row_col will be here. For other THresh sets, a subset from this can be taken\n",
    "# this are the last instances of rows and cols\n",
    "rows = [int(row) for row in rows]\n",
    "cols = [int(col) for col in cols]"
   ]
  },
  {
   "cell_type": "code",
   "execution_count": 2,
   "id": "63e51b0f",
   "metadata": {},
   "outputs": [
    {
     "ename": "ValueError",
     "evalue": "the folders do not contain the same number of images...",
     "output_type": "error",
     "traceback": [
      "\u001b[31m---------------------------------------------------------------------------\u001b[39m",
      "\u001b[31mValueError\u001b[39m                                Traceback (most recent call last)",
      "\u001b[36mCell\u001b[39m\u001b[36m \u001b[39m\u001b[32mIn[2]\u001b[39m\u001b[32m, line 7\u001b[39m\n\u001b[32m      5\u001b[39m folder_to_clean = [os.path.join(force_path, folder) \u001b[38;5;28;01mfor\u001b[39;00m folder \u001b[38;5;129;01min\u001b[39;00m folders \u001b[38;5;28;01mif\u001b[39;00m \u001b[38;5;28mlen\u001b[39m(getFilelist(os.path.join(force_path, folder), \u001b[33m'\u001b[39m\u001b[33m.tif\u001b[39m\u001b[33m'\u001b[39m, deep=\u001b[38;5;28;01mTrue\u001b[39;00m)) != \u001b[32m6\u001b[39m]\n\u001b[32m      6\u001b[39m \u001b[38;5;28;01mif\u001b[39;00m \u001b[38;5;28mlen\u001b[39m(folder_to_clean) > \u001b[32m0\u001b[39m:\n\u001b[32m----> \u001b[39m\u001b[32m7\u001b[39m     \u001b[38;5;28;01mraise\u001b[39;00m \u001b[38;5;167;01mValueError\u001b[39;00m(\u001b[33m'\u001b[39m\u001b[33mthe folders do not contain the same number of images...\u001b[39m\u001b[33m'\u001b[39m)\n\u001b[32m      8\u001b[39m \u001b[38;5;66;03m# for folder in folder_to_clean:\u001b[39;00m\n\u001b[32m      9\u001b[39m \u001b[38;5;66;03m#     [os.remove(file) for file in getFilelist(folder, '.tif', deep=True) if '_EVI_' in file]\u001b[39;00m\n\u001b[32m     10\u001b[39m indices = \u001b[38;5;28mlist\u001b[39m(\u001b[38;5;28mset\u001b[39m([file_annual.split(\u001b[33m'\u001b[39m\u001b[33m_\u001b[39m\u001b[33m'\u001b[39m)[-\u001b[32m2\u001b[39m] \u001b[38;5;28;01mfor\u001b[39;00m file_annual \u001b[38;5;129;01min\u001b[39;00m getFilelist(os.path.join(force_path, folders[\u001b[32m0\u001b[39m]), \u001b[33m'\u001b[39m\u001b[33m.tif\u001b[39m\u001b[33m'\u001b[39m, deep=\u001b[38;5;28;01mTrue\u001b[39;00m)]))\n",
      "\u001b[31mValueError\u001b[39m: the folders do not contain the same number of images..."
     ]
    }
   ],
   "source": [
    "# check if all data is there and get the the different stacks (indices)\n",
    "year = 2019\n",
    "force_path = f'/data/Aldhani/eoagritwin/force/output/S3/{year}/'\n",
    "folders = get_folders_in_dir(force_path)\n",
    "folder_to_clean = [os.path.join(force_path, folder) for folder in folders if len(getFilelist(os.path.join(force_path, folder), '.tif', deep=True)) != 6]\n",
    "if len(folder_to_clean) > 0:\n",
    "    raise ValueError('the folders do not contain the same number of images...')\n",
    "# for folder in folder_to_clean:\n",
    "#     [os.remove(file) for file in getFilelist(folder, '.tif', deep=True) if '_EVI_' in file]\n",
    "indices = list(set([file_annual.split('_')[-2] for file_annual in getFilelist(os.path.join(force_path, folders[0]), '.tif', deep=True)]))\n",
    "indices.sort()\n"
   ]
  },
  {
   "cell_type": "code",
   "execution_count": 3,
   "id": "366902c0",
   "metadata": {},
   "outputs": [
    {
     "data": {
      "text/plain": [
       "['/data/Aldhani/eoagritwin/force/output/S3/2019/X0073_Y0049']"
      ]
     },
     "execution_count": 3,
     "metadata": {},
     "output_type": "execute_result"
    }
   ],
   "source": [
    "folder_to_clean"
   ]
  },
  {
   "cell_type": "code",
   "execution_count": 9,
   "id": "8c600ff4",
   "metadata": {},
   "outputs": [
    {
     "name": "stderr",
     "output_type": "stream",
     "text": [
      "/home/potzschf/mambaforge/envs/workhorse/lib/python3.12/site-packages/osgeo/gdal.py:311: FutureWarning: Neither gdal.UseExceptions() nor gdal.DontUseExceptions() has been explicitly called. In GDAL 4.0, exceptions will be enabled by default.\n",
      "  warnings.warn(\n"
     ]
    }
   ],
   "source": [
    "# find the bands in raster stacks that belong to the year of interest\n",
    "ds = gdal.Open(getFilelist(os.path.join(force_path, folders[0]), '.tif', deep=True)[0], 0)\n",
    "if ds.RasterCount > 366:\n",
    "    bandname = str(ds.GetRasterBand(93).GetDescription())\n",
    "    if bandname == f'{year}0101':\n",
    "        start_index = 93\n",
    "        end_index = 457\n",
    "        if year in [2016,2020,2024]:\n",
    "            end_index +=1\n",
    "    else:\n",
    "        raise ValueError('band for Jan 01 not found!')\n",
    "\n",
    "files = [getFilelist(os.path.join(force_path, folder), '.tif', deep=True) for folder in folders]\n",
    "files = [file for list in files for file in list]"
   ]
  },
  {
   "cell_type": "code",
   "execution_count": 10,
   "id": "859a1f8e",
   "metadata": {},
   "outputs": [
    {
     "ename": "KeyboardInterrupt",
     "evalue": "",
     "output_type": "error",
     "traceback": [
      "\u001b[31m---------------------------------------------------------------------------\u001b[39m",
      "\u001b[31mKeyboardInterrupt\u001b[39m                         Traceback (most recent call last)",
      "\u001b[36mCell\u001b[39m\u001b[36m \u001b[39m\u001b[32mIn[10]\u001b[39m\u001b[32m, line 10\u001b[39m\n\u001b[32m      8\u001b[39m \u001b[38;5;28;01mfor\u001b[39;00m i, tif \u001b[38;5;129;01min\u001b[39;00m \u001b[38;5;28menumerate\u001b[39m(index_files):\n\u001b[32m      9\u001b[39m     output = trash + tif.split(\u001b[33m'\u001b[39m\u001b[33m/\u001b[39m\u001b[33m'\u001b[39m)[-\u001b[32m1\u001b[39m].split(\u001b[33m'\u001b[39m\u001b[33m.\u001b[39m\u001b[33m'\u001b[39m)[\u001b[32m0\u001b[39m] + \u001b[33m'\u001b[39m\u001b[33m_\u001b[39m\u001b[33m'\u001b[39m + \u001b[38;5;28mstr\u001b[39m(band_number) + \u001b[33m'\u001b[39m\u001b[33m_\u001b[39m\u001b[33m'\u001b[39m + \u001b[38;5;28mstr\u001b[39m(i) + \u001b[33m'\u001b[39m\u001b[33m.tif\u001b[39m\u001b[33m'\u001b[39m\n\u001b[32m---> \u001b[39m\u001b[32m10\u001b[39m     \u001b[43mgdal\u001b[49m\u001b[43m.\u001b[49m\u001b[43mTranslate\u001b[49m\u001b[43m(\u001b[49m\u001b[43moutput\u001b[49m\u001b[43m,\u001b[49m\u001b[43m \u001b[49m\u001b[43mtif\u001b[49m\u001b[43m,\u001b[49m\u001b[43m \u001b[49m\u001b[43mbandList\u001b[49m\u001b[43m=\u001b[49m\u001b[43m[\u001b[49m\u001b[43mband_number\u001b[49m\u001b[43m]\u001b[49m\u001b[43m)\u001b[49m\n\u001b[32m     12\u001b[39m \u001b[38;5;66;03m# Now build VRT\u001b[39;00m\n\u001b[32m     13\u001b[39m vrt_options = gdal.BuildVRTOptions(separate=\u001b[38;5;28;01mFalse\u001b[39;00m)\n",
      "\u001b[36mFile \u001b[39m\u001b[32m~/mambaforge/envs/workhorse/lib/python3.12/site-packages/osgeo/gdal.py:862\u001b[39m, in \u001b[36mTranslate\u001b[39m\u001b[34m(destName, srcDS, **kwargs)\u001b[39m\n\u001b[32m    859\u001b[39m \u001b[38;5;28;01mif\u001b[39;00m \u001b[38;5;28misinstance\u001b[39m(srcDS, (\u001b[38;5;28mstr\u001b[39m, os.PathLike)):\n\u001b[32m    860\u001b[39m     srcDS = Open(srcDS)\n\u001b[32m--> \u001b[39m\u001b[32m862\u001b[39m \u001b[38;5;28;01mreturn\u001b[39;00m \u001b[43mTranslateInternal\u001b[49m\u001b[43m(\u001b[49m\u001b[43mdestName\u001b[49m\u001b[43m,\u001b[49m\u001b[43m \u001b[49m\u001b[43msrcDS\u001b[49m\u001b[43m,\u001b[49m\u001b[43m \u001b[49m\u001b[43mopts\u001b[49m\u001b[43m,\u001b[49m\u001b[43m \u001b[49m\u001b[43mcallback\u001b[49m\u001b[43m,\u001b[49m\u001b[43m \u001b[49m\u001b[43mcallback_data\u001b[49m\u001b[43m)\u001b[49m\n",
      "\u001b[36mFile \u001b[39m\u001b[32m~/mambaforge/envs/workhorse/lib/python3.12/site-packages/osgeo/gdal.py:9353\u001b[39m, in \u001b[36mTranslateInternal\u001b[39m\u001b[34m(*args)\u001b[39m\n\u001b[32m   9351\u001b[39m \u001b[38;5;28;01mdef\u001b[39;00m\u001b[38;5;250m \u001b[39m\u001b[34mTranslateInternal\u001b[39m(*args):\n\u001b[32m   9352\u001b[39m \u001b[38;5;250m    \u001b[39m\u001b[33mr\u001b[39m\u001b[33;03m\"\"\"TranslateInternal(char const * dest, Dataset dataset, GDALTranslateOptions translateOptions, GDALProgressFunc callback=0, void * callback_data=None) -> Dataset\"\"\"\u001b[39;00m\n\u001b[32m-> \u001b[39m\u001b[32m9353\u001b[39m     \u001b[38;5;28;01mreturn\u001b[39;00m \u001b[43m_gdal\u001b[49m\u001b[43m.\u001b[49m\u001b[43mTranslateInternal\u001b[49m\u001b[43m(\u001b[49m\u001b[43m*\u001b[49m\u001b[43margs\u001b[49m\u001b[43m)\u001b[49m\n",
      "\u001b[31mKeyboardInterrupt\u001b[39m: "
     ]
    }
   ],
   "source": [
    "#for index in indices:\n",
    "index = indices[1]\n",
    "index_files = [file for file in files if index in file]\n",
    "conti = []\n",
    "for band_number in range(start_index,end_index+1,1):\n",
    "    # create daily vrts and extract\n",
    "\n",
    "    for i, tif in enumerate(index_files):\n",
    "        output = trash + tif.split('/')[-1].split('.')[0] + '_' + str(band_number) + '_' + str(i) + '.tif'\n",
    "        gdal.Translate(output, tif, bandList=[band_number])\n",
    "\n",
    "    # Now build VRT\n",
    "    vrt_options = gdal.BuildVRTOptions(separate=False)\n",
    "    vrt_ds = gdal.BuildVRT(f'{temp}{year}_{index}_{band_number}.vrt', getFilelist(trash, '.tif'), options=vrt_options)\n",
    "    # vrt_ds.FlushCache()\n",
    "    # vrt = gdal.Open(f'{temp}{year}_{index}_{band_number}.vrt')\n",
    "    warpi = warp_to_template(vrt_ds, \n",
    "            '/data/Aldhani/eoagritwin/et/Auxiliary/S3_tif_GER_maks/powermask.tif',\n",
    "            mask_path='/data/Aldhani/eoagritwin/et/Auxiliary/S3_tif_GER_maks/powermask.tif',\n",
    "            #outPath=f'/data/Aldhani/eoagritwin/et/FORCE/vrt_dumps/{year}_{index}_{band_number}.tif',\n",
    "            outType=gdal.GDT_Int16)\n",
    "    conti.append(warpi)\n",
    "    [os.remove(file) for file in getFilelist(trash, '.tif')]"
   ]
  },
  {
   "cell_type": "code",
   "execution_count": null,
   "id": "86006537",
   "metadata": {},
   "outputs": [
    {
     "name": "stdout",
     "output_type": "stream",
     "text": [
      "the shape after fancy indexing:(165877,)\n",
      "check if the extracted values are stored row-wise in new 1d array\n",
      "at a randomly selected index for a row(5) and one for a col(8079)\n",
      "this related to the agri-indices at row:100 and col:367\n",
      "\n",
      "Therefore warpi[rows[a], cols[b]] results in 1707\n",
      "This should be the same as 1707\n"
     ]
    }
   ],
   "source": [
    "# sanity check\n",
    "arr = warpi[rows,cols]\n",
    "print(f'the shape after fancy indexing:{arr.shape}\\ncheck if the extracted values are stored row-wise in new 1d array')\n",
    "a = 5\n",
    "print(f'at a randomly selected index for a row({a}) and one for a col({a})\\nthis related to the agri-indices at row:{rows[a]} and col:{cols[a]}')\n",
    "\n",
    "print(f'\\nTherefore warpi[rows[a], cols[b]] results in {warpi[rows[a], cols[a]]}')\n",
    "\n",
    "rl = [e for e, row in enumerate(rows) if row == rows[a]]\n",
    "cl = [e for e, col in enumerate(cols) if col == cols[a]]\n",
    "indi = [r for r in rl if r in cl]\n",
    "\n",
    "print(f'This should be the same as {arr[indi][0]}')\n"
   ]
  },
  {
   "cell_type": "code",
   "execution_count": 31,
   "id": "33fe7c68",
   "metadata": {},
   "outputs": [],
   "source": [
    "for a in range(arr.shape[0]):\n",
    "    r1 = warpi[rows[a], cols[a]]\n",
    "    rl = [e for e, row in enumerate(rows) if row == rows[a]]\n",
    "    cl = [e for e, col in enumerate(cols) if col == cols[a]]\n",
    "    indi = [r for r in rl if r in cl]\n",
    "    r2 = arr[indi][0]\n",
    "    if r1 != r2:\n",
    "        print('noooooo')\n"
   ]
  }
 ],
 "metadata": {
  "kernelspec": {
   "display_name": "workhorse",
   "language": "python",
   "name": "python3"
  },
  "language_info": {
   "codemirror_mode": {
    "name": "ipython",
    "version": 3
   },
   "file_extension": ".py",
   "mimetype": "text/x-python",
   "name": "python",
   "nbconvert_exporter": "python",
   "pygments_lexer": "ipython3",
   "version": "3.12.10"
  }
 },
 "nbformat": 4,
 "nbformat_minor": 5
}
