{
 "cells": [
  {
   "cell_type": "code",
   "execution_count": 1,
   "id": "d3dd3776",
   "metadata": {},
   "outputs": [],
   "source": [
    "import sys\n",
    "sys.path.append('/home/potzschf/repos/')\n",
    "from helperToolz.helpsters import *"
   ]
  },
  {
   "cell_type": "code",
   "execution_count": 2,
   "id": "c0358dc5",
   "metadata": {},
   "outputs": [
    {
     "name": "stderr",
     "output_type": "stream",
     "text": [
      "/home/potzschf/mambaforge/envs/evapo_sentinelhub/lib/python3.13/site-packages/osgeo/ogr.py:601: FutureWarning: Neither ogr.UseExceptions() nor ogr.DontUseExceptions() has been explicitly called. In GDAL 4.0, exceptions will be enabled by default.\n",
      "  warnings.warn(\n"
     ]
    }
   ],
   "source": [
    "path_to_NC_file = '/data/Aldhani/eoagritwin/et/Sentinel3/raw/Germany_2017-01.nc'\n",
    "\n",
    "gtiff_driver = gdal.GetDriverByName('GTiff')\n",
    "drvMemR = gdal.GetDriverByName('MEM')\n",
    "\n",
    "# load shapefile\n",
    "shp = ogr.Open('/data/Aldhani/eoagritwin/misc/gadm41_DEU_shp/gadm41_DEU_0.shp', 0)\n",
    "shp_lyr = shp.GetLayer()\n",
    "\n",
    "numberOfXpixels, numberOfYpixels, _ = getShapeFromNC(path_to_NC_file)\n",
    "sub = gtiff_driver.Create('/data/Aldhani/eoagritwin/et/Auxiliary/S3_tif_GER_maks/powermask.tif', numberOfXpixels, numberOfYpixels, 1, gdal.GDT_Int16)\n",
    "sub.SetGeoTransform(getGeoTransFromNC(path_to_NC_file))\n",
    "sub.SetProjection(getCRS_WKTfromNC(path_to_NC_file))\n",
    "band = sub.GetRasterBand(1)\n",
    "band.SetNoDataValue(0)\n",
    "gdal.RasterizeLayer(sub, [1], shp_lyr, burn_values=[1])\n",
    "\n",
    "del sub\n"
   ]
  }
 ],
 "metadata": {
  "kernelspec": {
   "display_name": "evapo_sentinelhub",
   "language": "python",
   "name": "python3"
  },
  "language_info": {
   "codemirror_mode": {
    "name": "ipython",
    "version": 3
   },
   "file_extension": ".py",
   "mimetype": "text/x-python",
   "name": "python",
   "nbconvert_exporter": "python",
   "pygments_lexer": "ipython3",
   "version": "3.13.2"
  }
 },
 "nbformat": 4,
 "nbformat_minor": 5
}
