{
 "cells": [
  {
   "cell_type": "code",
   "execution_count": 1,
   "id": "326ee735",
   "metadata": {},
   "outputs": [],
   "source": [
    "import sys\n",
    "sys.path.append('/home/potzschf/repos/')\n",
    "from helperToolz.helpsters import *\n",
    "from helperToolz.evapo import *\n",
    "import geopandas as gpd\n",
    "import zipfile\n",
    "from collections import defaultdict\n",
    "workhorse = True\n",
    "\n",
    "if workhorse:\n",
    "    origin = 'Aldhani/eoagritwin/'\n",
    "else:\n",
    "    origin = ''"
   ]
  },
  {
   "cell_type": "code",
   "execution_count": 2,
   "id": "1c043855",
   "metadata": {},
   "outputs": [
    {
     "name": "stderr",
     "output_type": "stream",
     "text": [
      "/tmp/ipykernel_2988869/2653007668.py:2: DtypeWarning: Columns (0,1,2,3,4) have mixed types. Specify dtype option on import or set low_memory=False.\n",
      "  thresh_csv = pd.read_csv(f'/data/{origin}et/Auxiliary/landcover/csv/row_cols.csv')\n"
     ]
    }
   ],
   "source": [
    "# read csv for valid row_cols for samples to draw. They are based on the share of agriculture (HR Landcover maps) within a S3 pixel\n",
    "thresh_csv = pd.read_csv(f'/data/{origin}et/Auxiliary/landcover/csv/row_cols.csv')"
   ]
  },
  {
   "cell_type": "code",
   "execution_count": 3,
   "id": "d95a2dc8",
   "metadata": {},
   "outputs": [
    {
     "name": "stdout",
     "output_type": "stream",
     "text": [
      "finding indices for Thresh100\n",
      "4941\n",
      "finding indices for Thresh90\n",
      "32250\n",
      "finding indices for Thresh80\n",
      "60666\n",
      "finding indices for Thresh70\n",
      "92847\n",
      "finding indices for Thresh60\n",
      "127768\n",
      "finding indices for Thresh50\n",
      "165877\n"
     ]
    }
   ],
   "source": [
    "for col in thresh_csv.columns:\n",
    "    print(f'finding indices for {col}')\n",
    "    nested = [entry.split('_') for entry in thresh_csv[col] if type(entry) == str]\n",
    "    rows, cols = zip(*nested)\n",
    "    print(len(rows))\n",
    "# only use Thresh50, as all valid row_col will be here. For other THresh sets, a subset from this can be taken"
   ]
  },
  {
   "cell_type": "code",
   "execution_count": 4,
   "id": "63e51b0f",
   "metadata": {},
   "outputs": [],
   "source": [
    "year = 2018\n",
    "force_path = '/data/Aldhani/eoagritwin/force/output/S3/2018/X0073_Y0046/TSI/'\n",
    "files = getFilelist(force_path, '.tif')\n",
    "files_annual = [file for file in files if str(year) in file]\n",
    "# delete all other files\n",
    "[RasterKiller(file) for file in files if str(year) not in file.split('_')[-1]]\n",
    "indices = list(set([file_annual.split('_')[-3] for file_annual in files_annual]))"
   ]
  },
  {
   "cell_type": "code",
   "execution_count": null,
   "id": "b69db2d6",
   "metadata": {},
   "outputs": [],
   "source": [
    "# warp em\n",
    "#for index in indices:\n",
    "index = indices[3]\n",
    "index_files = [file_annual for file_annual in files_annual if index in file_annual]\n",
    "aa = warp_to_template(index_files[0], \n",
    "                      '/data/Aldhani/eoagritwin/et/Auxiliary/S3_tif_GER_maks/powermask.tif',\n",
    "                      #mask_path='/data/Aldhani/eoagritwin/et/Auxiliary/S3_tif_GER_maks/powermask.tif',\n",
    "                      outPath='/data/Aldhani/eoagritwin/et/Auxiliary/trash/uuint_nomask.tif',\n",
    "                      outType=gdal.GDT_Int16)"
   ]
  },
  {
   "cell_type": "code",
   "execution_count": 25,
   "id": "a5908a5d",
   "metadata": {},
   "outputs": [
    {
     "data": {
      "text/plain": [
       "'/data/Aldhani/eoagritwin/force/output/S3/2018/X0073_Y0046/TSI/20171001-20190228_001-365_HL_TSA_SEN2L_EVI_TSI_20180104.tif'"
      ]
     },
     "execution_count": 25,
     "metadata": {},
     "output_type": "execute_result"
    }
   ],
   "source": [
    "index_files[3]"
   ]
  },
  {
   "cell_type": "code",
   "execution_count": 23,
   "id": "cc0ffdf9",
   "metadata": {},
   "outputs": [
    {
     "data": {
      "text/plain": [
       "array([0, 1], dtype=int16)"
      ]
     },
     "execution_count": 23,
     "metadata": {},
     "output_type": "execute_result"
    }
   ],
   "source": [
    "q = gdal.Open('/data/Aldhani/eoagritwin/et/Auxiliary/S3_tif_GER_maks/powermask.tif')\n",
    "qq = q.GetRasterBand(1).ReadAsArray()\n",
    "np.unique(qq)\n"
   ]
  },
  {
   "cell_type": "code",
   "execution_count": 24,
   "id": "3a83e5ae",
   "metadata": {},
   "outputs": [
    {
     "data": {
      "text/plain": [
       "array([[3188, 3048, 3428, ..., 1514, 1201, 1173],\n",
       "       [3498, 3528, 3568, ..., 1457, 1767, 1746],\n",
       "       [3649, 3254, 3630, ..., 1384, 1190, 1641],\n",
       "       ...,\n",
       "       [3684, 3692, 3674, ..., 2132, 2099, 2199],\n",
       "       [3698, 3701, 3645, ..., 2119, 2109, 2242],\n",
       "       [3425, 3463, 3681, ..., 2085, 2075, 2269]],\n",
       "      shape=(3000, 3000), dtype=int16)"
      ]
     },
     "execution_count": 24,
     "metadata": {},
     "output_type": "execute_result"
    }
   ],
   "source": [
    "aa = gdal.Open(index_files[3])\n",
    "bb = aa.GetRasterBand(1).ReadAsArray()\n",
    "bb"
   ]
  },
  {
   "cell_type": "code",
   "execution_count": null,
   "id": "cdfe32f9",
   "metadata": {},
   "outputs": [],
   "source": [
    "files = sorted(getFilelist('/data/Aldhani/eoagritwin/et/Sentinel3/raw', '.nc'))\n",
    "aa = getDataFromNC(files[0])\n",
    "bb = getAllDatesS3(files[0])\n",
    "year = 2020"
   ]
  },
  {
   "cell_type": "code",
   "execution_count": 38,
   "id": "cc3a3aac",
   "metadata": {},
   "outputs": [],
   "source": [
    "yearFiles = [file for file in files if int(file.split('/')[-1].split('_')[-1][0:4]) == year]\n",
    "\n",
    "# create a maks for germany\n",
    "mask = makeGermanyMaskforNC('/data/Aldhani/eoagritwin/misc/gadm41_DEU_shp/gadm41_DEU_0.shp', yearFiles[0])\n",
    "\n",
    "# make dictionary that stores .tif names and related accDates to easier search to close observations with S2 data\n",
    "lookUp = {}\n",
    "\n",
    "# set storPath for exported tiffs\n",
    "storPath = '/data/Aldhani/eoagritwin/et/Sentinel3/tiffs/'\n",
    "LST_path = f'{storPath}LST/daily_observations_all/{year}/'\n",
    "monthly_composites_path = f'{storPath}LST/monthly_composites/{year}/'\n",
    "os.makedirs(LST_path, exist_ok=True)\n",
    "os.makedirs(monthly_composites_path, exist_ok=True)\n",
    "yearCont = []\n",
    "file = yearFiles[0]\n"
   ]
  },
  {
   "cell_type": "code",
   "execution_count": 40,
   "id": "39afabce",
   "metadata": {},
   "outputs": [
    {
     "name": "stdout",
     "output_type": "stream",
     "text": [
      "/data/Aldhani/eoagritwin/et/Sentinel3/raw/Germany_2020-01.nc\n"
     ]
    }
   ],
   "source": [
    "# loop over files and export to .tif at location storPath\n",
    "#for i, file in enumerate(yearFiles):\n",
    "print(file)\n",
    "accDateTimes = getAllDatesS3(file) # possible to take annual subset if entire files list would be passed here\n",
    "#     convertNCtoTIF(file, LST_path, file.split('/')[-1].split('.')[0] + '.tif', accDateTimes, False, True)\n",
    "\n",
    "# write filenames and corresponding dates into dictionary for easier datesearch later\n",
    "lookUp[file.split('.nc')[0]] = accDateTimes\n",
    "\n",
    "dat = getDataFromNC(file)\n",
    "monthCont = []\n",
    "df = pd.Series(accDateTimes)\n",
    "counts_per_day = df.dt.floor(\"D\").value_counts().sort_index()\n",
    "# vectors for indexing over days\n",
    "cumulative_day_counts_end = np.asarray(np.cumsum(counts_per_day))\n",
    "cumulative_day_counts_start = np.insert(cumulative_day_counts_end, 0 ,0)\n",
    "\n",
    "# cumulative_day_counts_start = np.array(cumulative_day_counts_start)\n",
    "# cumulative_day_counts_end = np.array(cumulative_day_counts_end)\n",
    "\n",
    "# aggreagate by median\n",
    "# stack_list = [\n",
    "#     np.nanmedian(dat[:, :, start:end], axis=2)\n",
    "#     for start, end in zip(cumulative_day_counts_start[:-1], cumulative_day_counts_end)\n",
    "# ] \n",
    "# fin_block = np.dstack(stack_list)\n",
    "\n",
    "# MM = int_to_Month[file.rsplit('-', maxsplit=1)[-1].split('.')[0]]\n",
    "# bands = [f'{MM}_Day_{b+1}' for b in range(fin_block.shape[2])]\n",
    "# fin_block = fin_block * mask[:, :, np.newaxis]\n",
    "# fin_block[fin_block == 0] = np.nan\n",
    "# exportNCarrayDerivatesComp(file, monthly_composites_path, f'Germany_{year}_{MM}_mean.tif', bands, fin_block)\n",
    "\n",
    "# # aggreagate by min\n",
    "# stack_list = [\n",
    "#     np.nanmin(dat[:, :, start:end], axis=2)\n",
    "#     for start, end in zip(cumulative_day_counts_start[:-1], cumulative_day_counts_end)\n",
    "# ] \n",
    "# fin_block = np.dstack(stack_list)\n",
    "# fin_block = fin_block * mask[:, :, np.newaxis]\n",
    "# fin_block[fin_block == 0] = np.nan\n",
    "# exportNCarrayDerivatesComp(file, monthly_composites_path, f'Germany_{year}_{MM}_min.tif', bands, fin_block)\n",
    "\n",
    "# # aggreagate by max\n",
    "# stack_list = [\n",
    "#     np.nanmax(dat[:, :, start:end], axis=2)\n",
    "#     for start, end in zip(cumulative_day_counts_start[:-1], cumulative_day_counts_end)\n",
    "# ] \n",
    "# fin_block = np.dstack(stack_list)\n",
    "# fin_block = fin_block * mask[:, :, np.newaxis]\n",
    "# fin_block[fin_block == 0] = np.nan\n",
    "# exportNCarrayDerivatesComp(file, monthly_composites_path, f'Germany_{year}_{MM}_max.tif', bands, fin_block)\n"
   ]
  },
  {
   "cell_type": "code",
   "execution_count": null,
   "id": "1c8dc920",
   "metadata": {},
   "outputs": [
    {
     "data": {
      "text/plain": [
       "'2020-01-01'"
      ]
     },
     "execution_count": 54,
     "metadata": {},
     "output_type": "execute_result"
    }
   ],
   "source": [
    "str(counts_per_day.index[0].date())"
   ]
  },
  {
   "cell_type": "code",
   "execution_count": 58,
   "id": "d2df7c39",
   "metadata": {},
   "outputs": [
    {
     "data": {
      "text/plain": [
       "'/data/Aldhani/eoagritwin/et/Sentinel3/raw/Germany_2020-01.nc'"
      ]
     },
     "execution_count": 58,
     "metadata": {},
     "output_type": "execute_result"
    }
   ],
   "source": [
    "file"
   ]
  }
 ],
 "metadata": {
  "kernelspec": {
   "display_name": "workhorse",
   "language": "python",
   "name": "python3"
  },
  "language_info": {
   "codemirror_mode": {
    "name": "ipython",
    "version": 3
   },
   "file_extension": ".py",
   "mimetype": "text/x-python",
   "name": "python",
   "nbconvert_exporter": "python",
   "pygments_lexer": "ipython3",
   "version": "3.12.10"
  }
 },
 "nbformat": 4,
 "nbformat_minor": 5
}
