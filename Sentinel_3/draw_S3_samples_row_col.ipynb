{
 "cells": [
  {
   "cell_type": "code",
   "execution_count": 72,
   "id": "326ee735",
   "metadata": {},
   "outputs": [],
   "source": [
    "import sys\n",
    "sys.path.append('/home/potzschf/repos/')\n",
    "from helperToolz.helpsters import *\n",
    "from helperToolz.evapo import *\n",
    "import geopandas as gpd\n",
    "import zipfile\n",
    "from collections import defaultdict\n",
    "workhorse = True\n",
    "\n",
    "if workhorse:\n",
    "    origin = 'Aldhani/eoagritwin/'\n",
    "else:\n",
    "    origin = ''"
   ]
  },
  {
   "cell_type": "code",
   "execution_count": 73,
   "id": "d95a2dc8",
   "metadata": {},
   "outputs": [
    {
     "name": "stderr",
     "output_type": "stream",
     "text": [
      "/tmp/ipykernel_3098642/2538488.py:2: DtypeWarning: Columns (0,1,2,3,4) have mixed types. Specify dtype option on import or set low_memory=False.\n",
      "  thresh_csv = pd.read_csv(f'/data/{origin}et/Auxiliary/landcover/csv/row_cols.csv')\n"
     ]
    }
   ],
   "source": [
    "# read csv for valid row_cols for samples to draw. They are based on the share of agriculture (HR Landcover maps) within a S3 pixel\n",
    "thresh_csv = pd.read_csv(f'/data/{origin}et/Auxiliary/landcover/csv/row_cols.csv')\n",
    "\n",
    "for col in thresh_csv.columns:\n",
    "    #print(f'finding indices for {col}')\n",
    "    nested = [entry.split('_') for entry in thresh_csv[col] if type(entry) == str]\n",
    "    rows, cols = zip(*nested)\n",
    "    #print(len(rows))\n",
    "# only use Thresh50, as all valid row_col will be here. For other THresh sets, a subset from this can be taken\n",
    "# this are the last instances of rows and cols\n",
    "rows = [int(row) for row in rows]\n",
    "cols = [int(col) for col in cols]\n"
   ]
  },
  {
   "cell_type": "code",
   "execution_count": 123,
   "id": "63e51b0f",
   "metadata": {},
   "outputs": [],
   "source": [
    "year = 2018\n",
    "force_path = '/data/Aldhani/eoagritwin/force/output/S3/2018/X0063_Y0044/TSI/'\n",
    "files = getFilelist(force_path, '.tif')\n",
    "# delete all other files\n",
    "[RasterKiller(file) for file in files if str(year) not in file.split('_')[-1]]\n",
    "files = getFilelist(force_path, '.tif')\n",
    "files_annual = [file for file in files if str(year) in file]\n",
    "indices = list(set([file_annual.split('_')[-3] for file_annual in files_annual]))\n",
    "indices.sort()"
   ]
  },
  {
   "cell_type": "code",
   "execution_count": 124,
   "id": "b69db2d6",
   "metadata": {},
   "outputs": [],
   "source": [
    "# warp em\n",
    "#for index in indices:\n",
    "vals = []\n",
    "index = indices[0]\n",
    "index_files = [file_annual for file_annual in files_annual if index in file_annual]\n",
    "#for index_file in index_files:\n",
    "warpi = warp_to_template(index_files[0], \n",
    "        '/data/Aldhani/eoagritwin/et/Auxiliary/S3_tif_GER_maks/powermask.tif',\n",
    "        mask_path='/data/Aldhani/eoagritwin/et/Auxiliary/S3_tif_GER_maks/powermask.tif',\n",
    "        outPath='/data/Aldhani/eoagritwin/et/Auxiliary/trash/100_nomask.tif',\n",
    "        outType=gdal.GDT_Int16)\n",
    "# vals.append(warpi[rows,cols])\n",
    "# arr = np.stack(vals)\n",
    "# mask = np.all(arr == -9999, axis=0)\n",
    "# small_arr = arr[:, ~mask]\n",
    "\n",
    "# np.save(f'/data/{origin}et/Auxiliary/dumps_for_training_collecting/{year}_{index}_X0063_Y0044_arr10', small_arr)\n",
    "# nested_masked = [row_col for row_col, valid in zip(nested, ~mask) if valid]\n",
    "# np.save(f'/data/{origin}et/Auxiliary/dumps_for_training_collecting/{year}_{index}_X0063_Y0044_rowcols10', nested_masked)"
   ]
  },
  {
   "cell_type": "code",
   "execution_count": 97,
   "id": "8347059c",
   "metadata": {},
   "outputs": [],
   "source": [
    "rc100 = np.load(f'/data/{origin}et/Auxiliary/dumps_for_training_collecting/{year}_{index}_X0063_Y0044_arr100.npy')\n",
    "rc10 = np.load(f'/data/{origin}et/Auxiliary/dumps_for_training_collecting/{year}_{index}_X0063_Y0044_arr10.npy')"
   ]
  },
  {
   "cell_type": "code",
   "execution_count": 105,
   "id": "6b36cddd",
   "metadata": {},
   "outputs": [
    {
     "name": "stdout",
     "output_type": "stream",
     "text": [
      "[3602 3602 3602 3602 3602 3602 3602 3602 3602 3602]\n",
      "[3622 3622 3622 3622 3622 3622 3622 3622 3622 3622]\n"
     ]
    }
   ],
   "source": [
    "print(rc100[0:10,5])\n",
    "print(rc10[0:10,5])"
   ]
  },
  {
   "cell_type": "code",
   "execution_count": 125,
   "id": "0eb9496c",
   "metadata": {},
   "outputs": [
    {
     "name": "stdout",
     "output_type": "stream",
     "text": [
      "--- Metadata for domain: IMAGE_STRUCTURE ---\n",
      "COMPRESSION: LZW\n",
      "INTERLEAVE: BAND\n",
      "PREDICTOR: 2\n",
      "\n",
      "--- Metadata for domain: FORCE ---\n",
      "FORCE_description: FORCE Time Series Analysis\n",
      "FORCE_param: DIR_LOWER: /data/Aldhani/dc/deu/ard/, DIR_HIGHER: /data/Aldhani/eoagritwin/force/output/S3/, DIR_PROVENANCE: /data/Aldhani/eoagritwin/force/output/provenance/, DIR_MASK: NULL, BASE_MASK: NULL, FILE_TILE: NULL, X_TILE_RANGE: 63 63, Y_TILE_RANGE: 44 44, RESOLUTION: 10.000000, BLOCK_SIZE: 0.000000, FILE_OUTPUT_OPTIONS: NULL, OUTPUT_FORMAT: 1, OUTPUT_EXPLODE: 1, OUTPUT_SUBFOLDERS: 1, NTHREAD_READ: 12, NTHREAD_WRITE: 18, NTHREAD_COMPUTE: 24, STREAMING: 1, PRETTY_PROGRESS: 1, SENSORS: 5 6 7, PRODUCT_TYPE_MAIN: BOA, PRODUCT_TYPE_QUALITY: QAI, SPECTRAL_ADJUST: 0, SCREEN_QAI: 0 1 2 3 4 5 10 11, DATE_RANGE: 2017-10-01 2019-02-28, DOY_RANGE: 1 365, REDUCE_PSF: 0, USE_L2_IMPROPHE: 0, ABOVE_NOISE: 3.000000, BELOW_NOISE: 1.000000, INDEX: 10 28 11 16 17 18, STANDARDIZE_TSS: 0, OUTPUT_TSS: 0, FILE_ENDMEM: NULL, SMA_SUM_TO_ONE: 1, SMA_NON_NEG: 1, SMA_SHD_NORM: 1, SMA_ENDMEMBER: 1, OUTPUT_RMS: 0, INTERPOLATE: 3, MOVING_MAX: 16, RBF_SIGMA: 8 16 32, RBF_CUTOFF: 0.950000, HARMONIC_MODES: 3, HARMONIC_TREND: 1, HARMONIC_FIT_RANGE: 2018-01-01 2018-12-31, INT_DAY: 1, STANDARDIZE_TSI: 0, OUTPUT_TSI: 1, OUTPUT_NRT: 0, STM: 32 57 82 4 5, OUTPUT_STM: 0, FOLD_TYPE: 57, STANDARDIZE_FOLD: 0, OUTPUT_FBY: 0, OUTPUT_FBQ: 0, OUTPUT_FBM: 0, OUTPUT_FBW: 0, OUTPUT_FBD: 0, OUTPUT_TRY: 0, OUTPUT_TRQ: 0, OUTPUT_TRM: 0, OUTPUT_TRW: 0, OUTPUT_TRD: 0, OUTPUT_CAY: 0, OUTPUT_CAQ: 0, OUTPUT_CAM: 0, OUTPUT_CAW: 0, OUTPUT_CAD: 0, POL_START_THRESHOLD: 0.200000, POL_MID_THRESHOLD: 0.500000, POL_END_THRESHOLD: 0.800000, POL_ADAPTIVE: 1, POL: 15 14 17 23 37 32, STANDARDIZE_POL: 0, OUTPUT_PCT: 0, OUTPUT_POL: 0, OUTPUT_TRO: 0, OUTPUT_CAO: 0, TREND_TAIL: 1, TREND_CONF: 0.950000, CHANGE_PENALTY: 0, FILE_PYTHON: NULL, PYTHON_TYPE: 0, OUTPUT_PYP: 0, FILE_RSTATS: NULL, RSTATS_TYPE: 0, OUTPUT_RSP: 0\n",
      "FORCE_product: TSI\n",
      "FORCE_version: 3.8.01\n",
      "Sys_host_name: d357fd379e44\n",
      "Sys_machine: x86_64\n",
      "Sys_operator: unknown\n",
      "Sys_OS_release: 5.15.0-139-generic\n",
      "Sys_OS_version: #149-Ubuntu SMP Fri Apr 11 22:06:13 UTC 2025\n",
      "Sys_system_name: Linux\n",
      "\n",
      "--- Metadata for domain: DERIVED_SUBDATASETS ---\n",
      "DERIVED_SUBDATASET_1_NAME: DERIVED_SUBDATASET:LOGAMPLITUDE:/data/Aldhani/eoagritwin/force/output/S3/X0063_Y0044/TSI/20171001-20190228_001-365_HL_TSA_SEN2L_EVI_TSI_20181231.tif\n",
      "DERIVED_SUBDATASET_1_DESC: log10 of amplitude of input bands from /data/Aldhani/eoagritwin/force/output/S3/X0063_Y0044/TSI/20171001-20190228_001-365_HL_TSA_SEN2L_EVI_TSI_20181231.tif\n",
      "\n",
      "--- Metadata for domain:  ---\n",
      "AREA_OR_POINT: Area\n",
      "\n",
      "Band Metadata: {}\n",
      "Min/Max: None None\n",
      "Scale: None\n",
      "Offset: None\n",
      "Unit Type: \n",
      "NoData Value: -9999.0\n"
     ]
    }
   ],
   "source": [
    "ds = gdal.Open(index_file,0)\n",
    "# Get list of all metadata domains\n",
    "domains = ds.GetMetadataDomainList()\n",
    "\n",
    "# Collect metadata from all domains\n",
    "metadata_all = {}\n",
    "\n",
    "for domain in domains:\n",
    "    metadata = ds.GetMetadata(domain)\n",
    "    metadata_all[domain] = metadata\n",
    "    print(f\"--- Metadata for domain: {domain} ---\")\n",
    "    for key, value in metadata.items():\n",
    "        print(f\"{key}: {value}\")\n",
    "    print()\n",
    "\n",
    "band = ds.GetRasterBand(1)\n",
    "# Band-specific metadata\n",
    "print(\"Band Metadata:\", band.GetMetadata())\n",
    "\n",
    "# Band-specific statistics and other info\n",
    "print(\"Min/Max:\", band.GetMinimum(), band.GetMaximum())\n",
    "print(\"Scale:\", band.GetScale())       # for scaled values\n",
    "print(\"Offset:\", band.GetOffset())\n",
    "print(\"Unit Type:\", band.GetUnitType())\n",
    "print(\"NoData Value:\", band.GetNoDataValue())"
   ]
  },
  {
   "cell_type": "code",
   "execution_count": 140,
   "id": "12d916e8",
   "metadata": {},
   "outputs": [
    {
     "name": "stderr",
     "output_type": "stream",
     "text": [
      "/tmp/ipykernel_3098642/3435070080.py:6: RuntimeWarning: overflow encountered in power\n",
      "  real_amplitude = 10 ** (arr-4)\n"
     ]
    }
   ],
   "source": [
    "arr = ds.GetRasterBand(1).ReadAsArray()\n",
    "# Replace nodata with NaN\n",
    "arr = np.where(arr == -9999, np.nan, arr)\n",
    "\n",
    "# Invert the log10 transform\n",
    "real_amplitude = 10 ** (arr-4)"
   ]
  },
  {
   "cell_type": "code",
   "execution_count": 142,
   "id": "a2f70d99",
   "metadata": {},
   "outputs": [
    {
     "data": {
      "text/plain": [
       "array([[6304., 6246., 6380., ..., 1997., 2103., 2165.],\n",
       "       [6456., 6298., 6364., ..., 2318., 2301., 2254.],\n",
       "       [6551., 6477., 6356., ..., 2285., 2283., 2201.],\n",
       "       ...,\n",
       "       [1546., 1692., 1782., ..., 5228., 4605., 4360.],\n",
       "       [1509., 1806., 1767., ..., 5045., 4502., 4313.],\n",
       "       [1327., 1623., 1559., ..., 4923., 4528., 4307.]],\n",
       "      shape=(3000, 3000))"
      ]
     },
     "execution_count": 142,
     "metadata": {},
     "output_type": "execute_result"
    }
   ],
   "source": [
    "arr\n",
    "\n"
   ]
  },
  {
   "cell_type": "code",
   "execution_count": null,
   "id": "fd82a7d0",
   "metadata": {},
   "outputs": [],
   "source": [
    "print(np.unique(warpi))\n",
    "\n",
    "plt.imshow(warpi[300:335,580:640])\n",
    "plt.axis('off')  # Hide axis for cleaner image display\n",
    "\n",
    "plt.show()"
   ]
  },
  {
   "cell_type": "code",
   "execution_count": null,
   "id": "8e42ad51",
   "metadata": {},
   "outputs": [],
   "source": [
    "# Build a dict of dicts: row_col → {year: value}\n",
    "data_dict = {rc: {} for rc in row_col_list}\n",
    "\n",
    "for year, values in yearly_values.items():\n",
    "    for rc, val in zip(row_col_list, values):\n",
    "        data_dict[rc][year] = val"
   ]
  },
  {
   "cell_type": "code",
   "execution_count": null,
   "id": "df36a33c",
   "metadata": {},
   "outputs": [
    {
     "name": "stdout",
     "output_type": "stream",
     "text": [
      "Rows with all -9999 values: [0 2]\n"
     ]
    }
   ],
   "source": [
    "# Create a small test array (5 rows, 4 columns)\n",
    "arr = np.array([\n",
    "    [-9999, -9999, -9999, -9999],  # all -9999 → should be flagged\n",
    "    [1, 2, 3, 4],                  # valid\n",
    "    [-9999, -9999, -9999, -9999],  # all -9999 → should be flagged\n",
    "    [0, -9999, 5, -9999],          # mixed\n",
    "    [9, 8, 7, 6]                   # valid\n",
    "])\n",
    "\n",
    "# Find row indices where all values are -9999\n",
    "mask = np.all(arr == -9999, axis=1)\n",
    "bad_row_indices = np.where(mask)[0]\n",
    "arr[~mask]\n",
    "print(\"Rows with all -9999 values:\", bad_row_indices)"
   ]
  },
  {
   "cell_type": "code",
   "execution_count": null,
   "id": "53fbe1a2",
   "metadata": {},
   "outputs": [
    {
     "data": {
      "text/plain": [
       "array([[    1,     2,     3,     4],\n",
       "       [    0, -9999,     5, -9999],\n",
       "       [    9,     8,     7,     6]])"
      ]
     },
     "execution_count": 20,
     "metadata": {},
     "output_type": "execute_result"
    }
   ],
   "source": []
  }
 ],
 "metadata": {
  "kernelspec": {
   "display_name": "workhorse",
   "language": "python",
   "name": "python3"
  },
  "language_info": {
   "codemirror_mode": {
    "name": "ipython",
    "version": 3
   },
   "file_extension": ".py",
   "mimetype": "text/x-python",
   "name": "python",
   "nbconvert_exporter": "python",
   "pygments_lexer": "ipython3",
   "version": "3.12.10"
  }
 },
 "nbformat": 4,
 "nbformat_minor": 5
}
