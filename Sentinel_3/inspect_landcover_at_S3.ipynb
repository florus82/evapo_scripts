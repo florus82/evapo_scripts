{
 "cells": [
  {
   "cell_type": "code",
   "execution_count": 10,
   "id": "c530f4e3",
   "metadata": {},
   "outputs": [],
   "source": [
    "import sys\n",
    "sys.path.append('/home/potzschf/repos/')\n",
    "from helperToolz.helpsters import *\n",
    "from helperToolz.evapo import *\n",
    "import geopandas as gpd\n",
    "import zipfile\n",
    "from collections import defaultdict\n",
    "workhorse = True\n",
    "\n",
    "if workhorse:\n",
    "    origin = 'Aldhani/eoagritwin/'\n",
    "else:\n",
    "    origin = ''\n",
    "\n",
    "base_path = f'/data/{origin}et/Auxiliary/landcover/'\n",
    "LCs = ['Forest_type', 'Crop_types', 'Grassland', 'Impervious', 'Water_and_wetness']\n",
    "nodata_vals = [255, 65535, 255, 255, 255]\n",
    "\n",
    "lc_uniq = {'Crop_types' : [0, 1110, 1120, 1130, 1140, 1150, 1210, 1220, 1310, 1320, 1410, 1420, 1430, 1440, 2100, 2200, 2310, 2320, 3100, 3200], \n",
    "            'Forest_type' : [0, 1, 2],\n",
    "            'Grassland' : [0, 1],\n",
    "            'Impervious' : [0, 1],\n",
    "            'Water_and_wetness' : [0, 1, 2, 3, 4, 253, 254]\n",
    "            }\n",
    "\n",
    "lc_codes = {'Crop_types' : ['No_cropland', 'Wheat', 'Barley', 'Maize', 'Rice', 'Other_Cereals', 'Fresh_Vegetables', 'Dry_Pulses',\n",
    "                            'Potatoes', 'Sugar_Beet', 'Sunflower', 'Soybeans', 'Rapeseed', 'Flax_cotton_hemp', 'Grapes',\n",
    "                            'Olives', 'Fruits', 'Nuts', 'Undecided_arable_crop', 'Undecided_perrenial_crop'], \n",
    "            'Forest_type' : ['No_forest', 'Broadleaved_forest', 'Coniferous_forest'],\n",
    "            'Grassland' : ['No_grassland', 'Grassland'],\n",
    "            'Impervious' : ['No_impervious', 'Impervious'],\n",
    "            'Water_and_wetness' : ['Dry', 'Permanent_water', 'Temporary_water',  'Permanent_wet', 'Temporary_wet', 'Sea_water', \n",
    "                                    'unclassifiable']}\n",
    "\n",
    "def count_known_vals_bincount(slice, known_vals):\n",
    "    counts = np.bincount(slice, minlength=np.max(known_vals) + 1)\n",
    "    return dict(zip([str(known_val) for known_val in known_vals], [int(c) for c in counts[known_vals]])) # counts[known_vals]"
   ]
  },
  {
   "cell_type": "code",
   "execution_count": null,
   "id": "268d526f",
   "metadata": {},
   "outputs": [],
   "source": [
    "# extract downloaded landcover files\n",
    "for fold in ['Forest_type', 'Crop_types', 'Grassland']:\n",
    "    outPath = f'{base_path}extracted/{fold}'\n",
    "    if os.path.isdir(outPath):\n",
    "        continue\n",
    "    else:\n",
    "        os.makedirs(outPath)\n",
    "        for file in getFilelist(f'{base_path}raw/{fold}', '.zip'):\n",
    "            with zipfile.ZipFile(file, 'r') as zip:\n",
    "                zip.extractall(outPath)"
   ]
  },
  {
   "cell_type": "code",
   "execution_count": null,
   "id": "a4dcbfd4",
   "metadata": {},
   "outputs": [],
   "source": [
    "# make vrts\n",
    "\n",
    "for i, LC in enumerate(LCs):\n",
    "    files = getFilelist(f'{base_path}extracted/{LC}', 'tif')\n",
    "    vrt = gdal.BuildVRT(f'{base_path}extracted/{LC}/{LC}.vrt', files, separate = False, options=gdal.BuildVRTOptions(VRTNodata=nodata_vals[i]))\n",
    "    vrt = None\n",
    "    "
   ]
  },
  {
   "cell_type": "code",
   "execution_count": null,
   "id": "706e9517",
   "metadata": {},
   "outputs": [],
   "source": [
    "####### press landcover into S3\n",
    "# when warping the Lc raster, their spatial resolution should be kept while aligning them with the mask (S3 pixels). As a trade-off, the pixel_size from the \n",
    "# landcovermaps (reprojected to the mask's crs) will be divided by the pixel_size from mask, and then rounded (floor)\n",
    "xsize, ysize = get_pixel_size_in_target_crs(getFilelist(f'{base_path}extracted/{LCs[0]}', '.vrt')[0],'/data/Aldhani/eoagritwin/et/Auxiliary/S3_tif_GER_maks/powermask.tif')\n",
    "mask = gdal.Open('/data/Aldhani/eoagritwin/et/Auxiliary/S3_tif_GER_maks/powermask.tif')\n",
    "gt = mask.GetGeoTransform()\n",
    "xdiv = math.floor(gt[1] / xsize)\n",
    "ydiv = math.floor(-gt[5] / ysize)\n",
    "\n",
    "if xdiv == ydiv:\n",
    "    for LC in LCs:\n",
    "        files = getFilelist(f'{base_path}extracted/{LC}', '.vrt')\n",
    "        if os.path.exists(f'{base_path}warped/{LC}.tif'):\n",
    "            continue\n",
    "        else:\n",
    "            for file in files:\n",
    "                warp_raster_to_reference(file, '/data/Aldhani/eoagritwin/et/Auxiliary/S3_tif_GER_maks/powermask.tif', f'{base_path}warped/{LC}.tif', 'nearest', xdiv) \n",
    "# mask them\n",
    "if os.path.exists( f'/data/Aldhani/eoagritwin/et/Auxiliary/S3_tif_GER_maks/powermask{xdiv}.tif'):\n",
    "    pass\n",
    "else:\n",
    "    warp_raster_to_reference('/data/Aldhani/eoagritwin/et/Auxiliary/S3_tif_GER_maks/powermask.tif', \n",
    "                            f'{base_path}warped/{LCs[0]}.tif', \n",
    "                            f'/data/Aldhani/eoagritwin/et/Auxiliary/S3_tif_GER_maks/powermask{xdiv}.tif', 'nearest')\n"
   ]
  },
  {
   "cell_type": "code",
   "execution_count": null,
   "id": "2658a401",
   "metadata": {},
   "outputs": [],
   "source": [
    "# mask em\n",
    "warped = getFilelist(f'{base_path}warped/', '.tif')\n",
    "for warp in warped:\n",
    "    if 'Crop_types' in warp:\n",
    "        nodata_val = 65535\n",
    "    else:\n",
    "        nodata_val = 255\n",
    "    print(warp)\n",
    "    print(nodata_val)\n",
    "    mask_raster(warp, f'/data/Aldhani/eoagritwin/et/Auxiliary/S3_tif_GER_maks/powermask{xdiv}.tif', warp.split('.tif')[0] + '_masked.tif', nodata_val)\n",
    "    os.remove(file)"
   ]
  },
  {
   "cell_type": "code",
   "execution_count": null,
   "id": "8af063d1",
   "metadata": {},
   "outputs": [],
   "source": [
    "# get warped and masked tifs\n",
    "S3 = gdal.Open(f'/data/Aldhani/eoagritwin/et/Auxiliary/S3_tif_GER_maks/powermask.tif')\n",
    "S3_arr = S3.GetRasterBand(1).ReadAsArray()\n",
    "start_ind_row = [i for i in range(0, (S3_arr.shape[0] * xdiv) + 1, xdiv)]\n",
    "end_ind_row = start_ind_row[1:]\n",
    "start_ind_col = [i for i in range(0, (S3_arr.shape[1] * xdiv) + 1, xdiv)]\n",
    "end_ind_col = start_ind_col[1:]\n",
    "\n",
    "warpedM = getFilelist(f'{base_path}warped/', '.tif')"
   ]
  },
  {
   "cell_type": "code",
   "execution_count": 13,
   "id": "e252a524",
   "metadata": {},
   "outputs": [],
   "source": [
    "for LC in LCs:\n",
    "    # read-in Lc raster\n",
    "    ds = gdal.Open([warp for warp in warpedM if LC in warp][0], 0)\n",
    "    arr = ds.GetRasterBand(1).ReadAsArray()\n",
    "    conti = []\n",
    "    for row in range(len(end_ind_row)):\n",
    "        for col in range(len(end_ind_col)):\n",
    "            # print(f'row: {row}\\ncol: {col}\\nstart_ind_row: {start_ind[row]}\\nend_ind_row: {end_ind[row]}\\nstart_ind_col: {start_ind[col]}\\nend_ind_col: {end_ind[col]}')\n",
    "            # conti.append(count_known_vals_bincount(arr[start_ind_row[row]:end_ind_row[row], start_ind_col[col]:end_ind_col[col]].flatten(), lc_uniq[LC]))\n",
    "            res = count_known_vals_bincount(arr[start_ind_row[row]:end_ind_row[row], start_ind_col[col]:end_ind_col[col]].flatten(), lc_uniq[LC])\n",
    "            res = dict(zip(lc_codes[LC], list(res.values())))\n",
    "            res['LC'] = LC\n",
    "            res['row_col'] = f'{row}_{col}'\n",
    "            conti.append(res)\n",
    "\n",
    "    merged = defaultdict(list)\n",
    "    for d in conti:\n",
    "        for k, v in d.items():\n",
    "            merged[k].append(v)\n",
    "\n",
    "    df = pd.DataFrame(merged)\n",
    "    df.to_csv(f'/data/{origin}et/Auxiliary/landcover/csv/extract_{LC}.csv', index=False)"
   ]
  }
 ],
 "metadata": {
  "kernelspec": {
   "display_name": "workhorse",
   "language": "python",
   "name": "python3"
  },
  "language_info": {
   "codemirror_mode": {
    "name": "ipython",
    "version": 3
   },
   "file_extension": ".py",
   "mimetype": "text/x-python",
   "name": "python",
   "nbconvert_exporter": "python",
   "pygments_lexer": "ipython3",
   "version": "3.12.10"
  }
 },
 "nbformat": 4,
 "nbformat_minor": 5
}
