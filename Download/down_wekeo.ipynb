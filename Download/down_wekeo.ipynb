{
 "cells": [
  {
   "cell_type": "code",
   "execution_count": 1,
   "id": "ac54ef6b",
   "metadata": {},
   "outputs": [],
   "source": [
    "from hda import Client, Configuration\n",
    "# Configure user's credentials without a .hdarc\n",
    "conf = Configuration(user = \"florus82\", password = \"P1lFk8oijpokjp$fsopk!!OPksf\")\n",
    "hda_client = Client(config = conf)"
   ]
  },
  {
   "cell_type": "code",
   "execution_count": null,
   "id": "ef6a3b95",
   "metadata": {},
   "outputs": [],
   "source": [
    "query = {\n",
    "  \"dataset_id\": \"EO:EEA:DAT:HRL:TCF\",\n",
    "  \"product_type\": \"Forest Type\",\n",
    "  \"resolution\": \"10m\",\n",
    "  \"year\": \"2018\",\n",
    "  \"bbox\": [\n",
    "    5.592041,\n",
    "    47.129951,\n",
    "    15.26001,\n",
    "    55.09723\n",
    "  ],\n",
    "  \"itemsPerPage\": 200,\n",
    "  \"startIndex\": 0\n",
    "}\n",
    "\n",
    "# Ask the result for the query passed in parameter\n",
    "matches = hda_client.search(query)\n",
    "\n",
    "# List the results\n",
    "print(matches)"
   ]
  },
  {
   "cell_type": "code",
   "execution_count": null,
   "id": "d3142332",
   "metadata": {},
   "outputs": [],
   "source": [
    "# matches.download(download_dir='/data/Aldhani/eoagritwin/et/Auxiliary/raw/landcover/')"
   ]
  },
  {
   "cell_type": "code",
   "execution_count": 3,
   "id": "9f3c7a59",
   "metadata": {},
   "outputs": [
    {
     "name": "stdout",
     "output_type": "stream",
     "text": [
      "SearchResults[items=75,volume=361.9MB]\n"
     ]
    }
   ],
   "source": [
    "query2 = {\n",
    "  \"dataset_id\": \"EO:EEA:DAT:HRL:GRA\",\n",
    "  \"product_type\": \"Grassland\",\n",
    "  \"resolution\": \"10m\",\n",
    "  \"year\": \"2018\",\n",
    "  \"bbox\": [\n",
    "    5.592041,\n",
    "    47.129951,\n",
    "    15.26001,\n",
    "    55.09723\n",
    "  ],\n",
    "  \"itemsPerPage\": 200,\n",
    "  \"startIndex\": 0\n",
    "}\n",
    "\n",
    "# Ask the result for the query passed in parameter\n",
    "matches2 = hda_client.search(query2)\n",
    "\n",
    "# List the results\n",
    "print(matches2)"
   ]
  },
  {
   "cell_type": "code",
   "execution_count": null,
   "id": "61c9a39d",
   "metadata": {},
   "outputs": [
    {
     "name": "stderr",
     "output_type": "stream",
     "text": [
      "                                                    \r"
     ]
    }
   ],
   "source": [
    "# matches2.download(download_dir='/data/Aldhani/eoagritwin/et/Auxiliary/landcover/raw/Grassland/')"
   ]
  },
  {
   "cell_type": "code",
   "execution_count": 2,
   "id": "ecff5102",
   "metadata": {},
   "outputs": [
    {
     "name": "stdout",
     "output_type": "stream",
     "text": [
      "SearchResults[items=75,volume=509.5MB]\n"
     ]
    }
   ],
   "source": [
    "query3 = {\n",
    "  \"dataset_id\": \"EO:EEA:DAT:HRL:CRL\",\n",
    "  \"product_type\": \"Crop Types\",\n",
    "  \"resolution\": \"10m\",\n",
    "  \"year\": \"2018\",\n",
    "  \"bbox\": [\n",
    "    5.592041,\n",
    "    47.129951,\n",
    "    15.26001,\n",
    "    55.09723\n",
    "  ],\n",
    "  \"itemsPerPage\": 200,\n",
    "  \"startIndex\": 0\n",
    "}\n",
    "\n",
    "# Ask the result for the query passed in parameter\n",
    "matches3 = hda_client.search(query3)\n",
    "\n",
    "# List the results\n",
    "print(matches3)"
   ]
  },
  {
   "cell_type": "code",
   "execution_count": null,
   "id": "54e5d30d",
   "metadata": {},
   "outputs": [
    {
     "name": "stderr",
     "output_type": "stream",
     "text": [
      "                                                    \r"
     ]
    }
   ],
   "source": [
    "# matches3.download(download_dir='/data/Aldhani/eoagritwin/et/Auxiliary/landcover/raw/Crop_types/')"
   ]
  },
  {
   "cell_type": "code",
   "execution_count": null,
   "id": "f8a6b843",
   "metadata": {},
   "outputs": [],
   "source": [
    "# matches2[0].results[0]['properties']['location']"
   ]
  }
 ],
 "metadata": {
  "kernelspec": {
   "display_name": "hda",
   "language": "python",
   "name": "python3"
  },
  "language_info": {
   "codemirror_mode": {
    "name": "ipython",
    "version": 3
   },
   "file_extension": ".py",
   "mimetype": "text/x-python",
   "name": "python",
   "nbconvert_exporter": "python",
   "pygments_lexer": "ipython3",
   "version": "3.13.3"
  }
 },
 "nbformat": 4,
 "nbformat_minor": 5
}
