{
 "cells": [
  {
   "cell_type": "code",
   "execution_count": 1,
   "metadata": {},
   "outputs": [],
   "source": [
    "import openeo\n",
    "import matplotlib.pyplot as plt\n",
    "import xarray as xr"
   ]
  },
  {
   "cell_type": "code",
   "execution_count": 2,
   "metadata": {},
   "outputs": [
    {
     "name": "stdout",
     "output_type": "stream",
     "text": [
      "Authenticated using refresh token.\n"
     ]
    }
   ],
   "source": [
    "connection = openeo.connect(\"openeo.dataspace.copernicus.eu\").authenticate_oidc()"
   ]
  },
  {
   "cell_type": "code",
   "execution_count": 3,
   "metadata": {},
   "outputs": [
    {
     "data": {
      "text/plain": [
       "['SENTINEL3_OLCI_L1B',\n",
       " 'SENTINEL3_SLSTR',\n",
       " 'SENTINEL_5P_L2',\n",
       " 'COPERNICUS_VEGETATION_PHENOLOGY_PRODUCTIVITY_10M_SEASON1',\n",
       " 'COPERNICUS_VEGETATION_PHENOLOGY_PRODUCTIVITY_10M_SEASON2',\n",
       " 'COPERNICUS_PLANT_PHENOLOGY_INDEX',\n",
       " 'ESA_WORLDCOVER_10M_2020_V1',\n",
       " 'ESA_WORLDCOVER_10M_2021_V2',\n",
       " 'COPERNICUS_VEGETATION_INDICES',\n",
       " 'SENTINEL2_L1C',\n",
       " 'SENTINEL2_L2A',\n",
       " 'SENTINEL1_GRD',\n",
       " 'COPERNICUS_30',\n",
       " 'LANDSAT8_L2',\n",
       " 'SENTINEL3_SYN_L2_SYN',\n",
       " 'SENTINEL3_SLSTR_L2_LST',\n",
       " 'SENTINEL1_GLOBAL_MOSAICS']"
      ]
     },
     "execution_count": 3,
     "metadata": {},
     "output_type": "execute_result"
    }
   ],
   "source": [
    "connection.list_collection_ids()"
   ]
  },
  {
   "cell_type": "code",
   "execution_count": 10,
   "metadata": {},
   "outputs": [
    {
     "data": {
      "text/html": [
       "\n",
       "    <script>\n",
       "    if (!window.customElements || !window.customElements.get('openeo-collection')) {\n",
       "        var el = document.createElement('script');\n",
       "        el.src = \"https://cdn.jsdelivr.net/npm/@openeo/vue-components@2/assets/openeo.min.js\";\n",
       "        document.head.appendChild(el);\n",
       "\n",
       "        var font = document.createElement('font');\n",
       "        font.as = \"font\";\n",
       "        font.type = \"font/woff2\";\n",
       "        font.crossOrigin = true;\n",
       "        font.href = \"https://use.fontawesome.com/releases/v5.13.0/webfonts/fa-solid-900.woff2\"\n",
       "        document.head.appendChild(font);\n",
       "    }\n",
       "    </script>\n",
       "    <openeo-collection>\n",
       "        <script type=\"application/json\">{\"mapOptions\": {}, \"data\": {\"cube:dimensions\": {\"bands\": {\"type\": \"bands\", \"values\": [\"LST\", \"LST_uncertainty\", \"exception\", \"confidence_in\", \"sunAzimuthAngles\", \"sunZenithAngles\", \"viewAzimuthAngles\", \"viewZenithAngles\"]}, \"t\": {\"extent\": [\"2016-04-17T11:33:13Z\", null], \"step\": \"P2D\", \"type\": \"temporal\"}, \"x\": {\"axis\": \"x\", \"extent\": [-180, 180], \"reference_system\": 4326, \"step\": 0.008928571428571, \"type\": \"spatial\"}, \"y\": {\"axis\": \"y\", \"extent\": [-90, 90], \"reference_system\": 4326, \"step\": 0.008928571428571, \"type\": \"spatial\"}}, \"description\": \"*Experimental* Daily global Sentinel-3 land surface temperature at 1km resolution. Land surface temperature is defined as the effective radiometric temperature of the Earth's surface \\\"skin\\\" in the instrument field of view. Here, \\\"skin\\\" is referring to the top surface in bare soil conditions and to the effective emitting temperature of vegetation \\\"canopies\\\" as determined from a view of the top of a canopy.\\n This product is derived from the SLSTR (Sea and Land Surface Temperature Radiometer) instrument on board the Sentinel-3 satellite.\\n\\n Multiple observations may be available per day, we recommend temporal aggregation to create daily composites. \", \"experimental\": true, \"extent\": {\"spatial\": {\"bbox\": [[-180, -90, 180, 90]]}, \"temporal\": {\"interval\": [[\"2016-04-17T11:33:13Z\", null]]}}, \"id\": \"SENTINEL3_SLSTR_L2_LST\", \"keywords\": [\"COPERNICUS\", \"ESA\", \"Sentinel-3\", \"SLSTR\"], \"license\": \"proprietary\", \"links\": [{\"href\": \"https://sentinels.copernicus.eu/documents/247904/690755/Sentinel_Data_Legal_Notice\", \"rel\": \"license\", \"type\": \"application/pdf\"}, {\"href\": \"https://documentation.dataspace.copernicus.eu/Data/SentinelMissions/Sentinel3.html#sentinel-3-slstr-level-2\", \"rel\": \"alternate\", \"title\": \"Data space collection documentation\", \"type\": \"application/html\"}, {\"href\": \"https://sentinels.copernicus.eu/web/sentinel/user-guides/sentinel-3-slstr/processing-levels/level-2\", \"rel\": \"about\", \"title\": \"User guide\"}, {\"href\": \"https://catalogue.dataspace.copernicus.eu/resto/api/collections/Sentinel3/search.json?productType=SL_2_LST___\", \"rel\": \"opensearch\", \"title\": \"Catalog API\"}, {\"href\": \"https://sentinel.esa.int/documents/247904/4598082/Sentinel-3-SLSTR-Land-Handbook.pdf\", \"rel\": \"about\", \"title\": \"Handbook\", \"type\": \"application/pdf\"}, {\"href\": \"https://github.com/Open-EO/openeo-community-examples/blob/main/python/Heatwave/HeatwaveNL.ipynb\", \"rel\": \"example\", \"title\": \"Heatwave example\"}, {\"href\": \"https://openeo.dataspace.copernicus.eu/openeo/1.2/collections\", \"rel\": \"root\"}, {\"href\": \"https://openeo.dataspace.copernicus.eu/openeo/1.2/collections\", \"rel\": \"parent\"}, {\"href\": \"https://openeo.dataspace.copernicus.eu/openeo/1.2/collections/SENTINEL3_SLSTR_L2_LST\", \"rel\": \"self\"}], \"providers\": [{\"name\": \"ESA\", \"roles\": [\"producer\"], \"url\": \"https://esa.int/\"}, {\"name\": \"CDSE\", \"roles\": [\"processor\", \"host\"], \"url\": \"https://dataspace.copernicus.eu/\"}], \"stac_extensions\": [\"https://stac-extensions.github.io/datacube/v2.2.0/schema.json\", \"https://stac-extensions.github.io/eo/v1.1.0/schema.json\"], \"stac_version\": \"0.9.0\", \"summaries\": {\"eo:bands\": [{\"aliases\": [\"LST_in:LST\"], \"common_name\": \"surface_temperature\", \"gsd\": 1000, \"name\": \"LST\", \"offset\": 290, \"scale\": 0.0020000001, \"unit\": \"K\"}, {\"aliases\": [\"LST_in:LST_uncertainty\"], \"common_name\": \"surface_temperature_standard_error\", \"gsd\": 1000, \"name\": \"LST_uncertainty\", \"offset\": 0, \"scale\": 0.0020000001, \"unit\": \"K\"}, {\"aliases\": [\"LST_in:exception\"], \"gsd\": 1000, \"name\": \"exception\", \"offset\": 0, \"scale\": 1}, {\"aliases\": [\"flags_in:confidence_in\"], \"description\": \"quality control flags including summary_cloud flag\", \"gsd\": 1000, \"name\": \"confidence_in\"}, {\"aliases\": [\"geometry_tn:solar_azimuth_tn\"], \"description\": \"nadir view solar azimuth angles\", \"gsd\": 1000, \"name\": \"sunAzimuthAngles\", \"unit\": \"deg\"}, {\"aliases\": [\"geometry_tn:solar_zenith_tn\"], \"description\": \"nadir view solar zenith angles\", \"gsd\": 1000, \"name\": \"sunZenithAngles\", \"unit\": \"deg\"}, {\"aliases\": [\"geometry_tn:sat_azimuth_tn\"], \"description\": \"nadir view satellite azimuth angles\", \"gsd\": 1000, \"name\": \"viewAzimuthAngles\", \"unit\": \"deg\"}, {\"aliases\": [\"geometry_tn:sat_zenith_tn\"], \"description\": \"nadir view satellite zenith angles\", \"gsd\": 1000, \"name\": \"viewZenithAngles\", \"unit\": \"deg\"}], \"raster:bands\": [{}, {}, {\"classification:bitfields\": [{\"classes\": [{\"name\": \"not_absent\", \"value\": 0}, {\"name\": \"absent\", \"value\": 1}], \"description\": \"ISP absent\", \"length\": 1, \"name\": \"ISP_absent\", \"offset\": 0}, {\"classes\": [{\"name\": \"not_absent\", \"value\": 0}, {\"name\": \"absent\", \"value\": 1}], \"description\": \"Pixel absent\", \"length\": 1, \"name\": \"Pixel_absent\", \"offset\": 1}, {\"classes\": [{\"name\": \"decompressed\", \"value\": 0}, {\"name\": \"not_decompressed\", \"value\": 1}], \"description\": \"Not decompressed\", \"length\": 1, \"name\": \"Not_decompressed\", \"offset\": 2}, {\"classes\": [{\"name\": \"signal\", \"value\": 0}, {\"name\": \"no_signal\", \"value\": 1}], \"description\": \"No signal in channel\", \"length\": 1, \"name\": \"No_signal\", \"offset\": 3}, {\"classes\": [{\"name\": \"no_saturation\", \"value\": 0}, {\"name\": \"saturated\", \"value\": 1}], \"description\": \"Saturation in channel\", \"length\": 1, \"name\": \"Saturation\", \"offset\": 4}, {\"classes\": [{\"name\": \"not_invalid\", \"value\": 0}, {\"name\": \"invalid\", \"value\": 1}], \"description\": \"Derived radiance outside calibration\", \"length\": 1, \"name\": \"Invalid_radiance\", \"offset\": 5}, {\"classes\": [{\"name\": \"parameters_available\", \"value\": 0}, {\"name\": \"parameters_unavailable\", \"value\": 1}], \"description\": \"Calibration parameters unavailable\", \"length\": 1, \"name\": \"No_parameters\", \"offset\": 6}, {\"classes\": [{\"name\": \"not_unfilled\", \"value\": 0}, {\"name\": \"unfilled\", \"value\": 1}], \"description\": \"Unfilled pixe\", \"length\": 1, \"name\": \"Unfilled_pixel\", \"offset\": 7}, {\"classes\": [{\"name\": \"no_underflow\", \"value\": 0}, {\"name\": \"underflow\", \"value\": 1}], \"description\": \"LST underflow\", \"length\": 1, \"name\": \"LST_underflow\", \"offset\": 8}, {\"classes\": [{\"name\": \"no_overflow\", \"value\": 0}, {\"name\": \"overflow\", \"value\": 1}], \"description\": \"LST overflow\", \"length\": 1, \"name\": \"LST_overflow\", \"offset\": 9}, {\"classes\": [{\"name\": \"no\", \"value\": 0}, {\"name\": \"yes\", \"value\": 1}], \"description\": \"LST could not be calculated for this biome type\", \"length\": 1, \"name\": \"biome\", \"offset\": 10}]}, {}, {}, {}, {}, {}]}, \"title\": \"Daily global Sentinel-3 Land surface temperature at 1km resolution\"}}</script>\n",
       "    </openeo-collection>\n",
       "    "
      ],
      "text/plain": [
       "{'cube:dimensions': {'bands': {'type': 'bands',\n",
       "   'values': ['LST',\n",
       "    'LST_uncertainty',\n",
       "    'exception',\n",
       "    'confidence_in',\n",
       "    'sunAzimuthAngles',\n",
       "    'sunZenithAngles',\n",
       "    'viewAzimuthAngles',\n",
       "    'viewZenithAngles']},\n",
       "  't': {'extent': ['2016-04-17T11:33:13Z', None],\n",
       "   'step': 'P2D',\n",
       "   'type': 'temporal'},\n",
       "  'x': {'axis': 'x',\n",
       "   'extent': [-180, 180],\n",
       "   'reference_system': 4326,\n",
       "   'step': 0.008928571428571,\n",
       "   'type': 'spatial'},\n",
       "  'y': {'axis': 'y',\n",
       "   'extent': [-90, 90],\n",
       "   'reference_system': 4326,\n",
       "   'step': 0.008928571428571,\n",
       "   'type': 'spatial'}},\n",
       " 'description': '*Experimental* Daily global Sentinel-3 land surface temperature at 1km resolution. Land surface temperature is defined as the effective radiometric temperature of the Earth\\'s surface \"skin\" in the instrument field of view. Here, \"skin\" is referring to the top surface in bare soil conditions and to the effective emitting temperature of vegetation \"canopies\" as determined from a view of the top of a canopy.\\n This product is derived from the SLSTR (Sea and Land Surface Temperature Radiometer) instrument on board the Sentinel-3 satellite.\\n\\n Multiple observations may be available per day, we recommend temporal aggregation to create daily composites. ',\n",
       " 'experimental': True,\n",
       " 'extent': {'spatial': {'bbox': [[-180, -90, 180, 90]]},\n",
       "  'temporal': {'interval': [['2016-04-17T11:33:13Z', None]]}},\n",
       " 'id': 'SENTINEL3_SLSTR_L2_LST',\n",
       " 'keywords': ['COPERNICUS', 'ESA', 'Sentinel-3', 'SLSTR'],\n",
       " 'license': 'proprietary',\n",
       " 'links': [{'href': 'https://sentinels.copernicus.eu/documents/247904/690755/Sentinel_Data_Legal_Notice',\n",
       "   'rel': 'license',\n",
       "   'type': 'application/pdf'},\n",
       "  {'href': 'https://documentation.dataspace.copernicus.eu/Data/SentinelMissions/Sentinel3.html#sentinel-3-slstr-level-2',\n",
       "   'rel': 'alternate',\n",
       "   'title': 'Data space collection documentation',\n",
       "   'type': 'application/html'},\n",
       "  {'href': 'https://sentinels.copernicus.eu/web/sentinel/user-guides/sentinel-3-slstr/processing-levels/level-2',\n",
       "   'rel': 'about',\n",
       "   'title': 'User guide'},\n",
       "  {'href': 'https://catalogue.dataspace.copernicus.eu/resto/api/collections/Sentinel3/search.json?productType=SL_2_LST___',\n",
       "   'rel': 'opensearch',\n",
       "   'title': 'Catalog API'},\n",
       "  {'href': 'https://sentinel.esa.int/documents/247904/4598082/Sentinel-3-SLSTR-Land-Handbook.pdf',\n",
       "   'rel': 'about',\n",
       "   'title': 'Handbook',\n",
       "   'type': 'application/pdf'},\n",
       "  {'href': 'https://github.com/Open-EO/openeo-community-examples/blob/main/python/Heatwave/HeatwaveNL.ipynb',\n",
       "   'rel': 'example',\n",
       "   'title': 'Heatwave example'},\n",
       "  {'href': 'https://openeo.dataspace.copernicus.eu/openeo/1.2/collections',\n",
       "   'rel': 'root'},\n",
       "  {'href': 'https://openeo.dataspace.copernicus.eu/openeo/1.2/collections',\n",
       "   'rel': 'parent'},\n",
       "  {'href': 'https://openeo.dataspace.copernicus.eu/openeo/1.2/collections/SENTINEL3_SLSTR_L2_LST',\n",
       "   'rel': 'self'}],\n",
       " 'providers': [{'name': 'ESA',\n",
       "   'roles': ['producer'],\n",
       "   'url': 'https://esa.int/'},\n",
       "  {'name': 'CDSE',\n",
       "   'roles': ['processor', 'host'],\n",
       "   'url': 'https://dataspace.copernicus.eu/'}],\n",
       " 'stac_extensions': ['https://stac-extensions.github.io/datacube/v2.2.0/schema.json',\n",
       "  'https://stac-extensions.github.io/eo/v1.1.0/schema.json'],\n",
       " 'stac_version': '0.9.0',\n",
       " 'summaries': {'eo:bands': [{'aliases': ['LST_in:LST'],\n",
       "    'common_name': 'surface_temperature',\n",
       "    'gsd': 1000,\n",
       "    'name': 'LST',\n",
       "    'offset': 290,\n",
       "    'scale': 0.0020000001,\n",
       "    'unit': 'K'},\n",
       "   {'aliases': ['LST_in:LST_uncertainty'],\n",
       "    'common_name': 'surface_temperature_standard_error',\n",
       "    'gsd': 1000,\n",
       "    'name': 'LST_uncertainty',\n",
       "    'offset': 0,\n",
       "    'scale': 0.0020000001,\n",
       "    'unit': 'K'},\n",
       "   {'aliases': ['LST_in:exception'],\n",
       "    'gsd': 1000,\n",
       "    'name': 'exception',\n",
       "    'offset': 0,\n",
       "    'scale': 1},\n",
       "   {'aliases': ['flags_in:confidence_in'],\n",
       "    'description': 'quality control flags including summary_cloud flag',\n",
       "    'gsd': 1000,\n",
       "    'name': 'confidence_in'},\n",
       "   {'aliases': ['geometry_tn:solar_azimuth_tn'],\n",
       "    'description': 'nadir view solar azimuth angles',\n",
       "    'gsd': 1000,\n",
       "    'name': 'sunAzimuthAngles',\n",
       "    'unit': 'deg'},\n",
       "   {'aliases': ['geometry_tn:solar_zenith_tn'],\n",
       "    'description': 'nadir view solar zenith angles',\n",
       "    'gsd': 1000,\n",
       "    'name': 'sunZenithAngles',\n",
       "    'unit': 'deg'},\n",
       "   {'aliases': ['geometry_tn:sat_azimuth_tn'],\n",
       "    'description': 'nadir view satellite azimuth angles',\n",
       "    'gsd': 1000,\n",
       "    'name': 'viewAzimuthAngles',\n",
       "    'unit': 'deg'},\n",
       "   {'aliases': ['geometry_tn:sat_zenith_tn'],\n",
       "    'description': 'nadir view satellite zenith angles',\n",
       "    'gsd': 1000,\n",
       "    'name': 'viewZenithAngles',\n",
       "    'unit': 'deg'}],\n",
       "  'raster:bands': [{},\n",
       "   {},\n",
       "   {'classification:bitfields': [{'classes': [{'name': 'not_absent',\n",
       "        'value': 0},\n",
       "       {'name': 'absent', 'value': 1}],\n",
       "      'description': 'ISP absent',\n",
       "      'length': 1,\n",
       "      'name': 'ISP_absent',\n",
       "      'offset': 0},\n",
       "     {'classes': [{'name': 'not_absent', 'value': 0},\n",
       "       {'name': 'absent', 'value': 1}],\n",
       "      'description': 'Pixel absent',\n",
       "      'length': 1,\n",
       "      'name': 'Pixel_absent',\n",
       "      'offset': 1},\n",
       "     {'classes': [{'name': 'decompressed', 'value': 0},\n",
       "       {'name': 'not_decompressed', 'value': 1}],\n",
       "      'description': 'Not decompressed',\n",
       "      'length': 1,\n",
       "      'name': 'Not_decompressed',\n",
       "      'offset': 2},\n",
       "     {'classes': [{'name': 'signal', 'value': 0},\n",
       "       {'name': 'no_signal', 'value': 1}],\n",
       "      'description': 'No signal in channel',\n",
       "      'length': 1,\n",
       "      'name': 'No_signal',\n",
       "      'offset': 3},\n",
       "     {'classes': [{'name': 'no_saturation', 'value': 0},\n",
       "       {'name': 'saturated', 'value': 1}],\n",
       "      'description': 'Saturation in channel',\n",
       "      'length': 1,\n",
       "      'name': 'Saturation',\n",
       "      'offset': 4},\n",
       "     {'classes': [{'name': 'not_invalid', 'value': 0},\n",
       "       {'name': 'invalid', 'value': 1}],\n",
       "      'description': 'Derived radiance outside calibration',\n",
       "      'length': 1,\n",
       "      'name': 'Invalid_radiance',\n",
       "      'offset': 5},\n",
       "     {'classes': [{'name': 'parameters_available', 'value': 0},\n",
       "       {'name': 'parameters_unavailable', 'value': 1}],\n",
       "      'description': 'Calibration parameters unavailable',\n",
       "      'length': 1,\n",
       "      'name': 'No_parameters',\n",
       "      'offset': 6},\n",
       "     {'classes': [{'name': 'not_unfilled', 'value': 0},\n",
       "       {'name': 'unfilled', 'value': 1}],\n",
       "      'description': 'Unfilled pixe',\n",
       "      'length': 1,\n",
       "      'name': 'Unfilled_pixel',\n",
       "      'offset': 7},\n",
       "     {'classes': [{'name': 'no_underflow', 'value': 0},\n",
       "       {'name': 'underflow', 'value': 1}],\n",
       "      'description': 'LST underflow',\n",
       "      'length': 1,\n",
       "      'name': 'LST_underflow',\n",
       "      'offset': 8},\n",
       "     {'classes': [{'name': 'no_overflow', 'value': 0},\n",
       "       {'name': 'overflow', 'value': 1}],\n",
       "      'description': 'LST overflow',\n",
       "      'length': 1,\n",
       "      'name': 'LST_overflow',\n",
       "      'offset': 9},\n",
       "     {'classes': [{'name': 'no', 'value': 0}, {'name': 'yes', 'value': 1}],\n",
       "      'description': 'LST could not be calculated for this biome type',\n",
       "      'length': 1,\n",
       "      'name': 'biome',\n",
       "      'offset': 10}]},\n",
       "   {},\n",
       "   {},\n",
       "   {},\n",
       "   {},\n",
       "   {}]},\n",
       " 'title': 'Daily global Sentinel-3 Land surface temperature at 1km resolution'}"
      ]
     },
     "execution_count": 10,
     "metadata": {},
     "output_type": "execute_result"
    }
   ],
   "source": [
    "connection.describe_collection('SENTINEL3_SLSTR_L2_LST')"
   ]
  },
  {
   "cell_type": "code",
   "execution_count": 4,
   "metadata": {},
   "outputs": [],
   "source": [
    "import json\n",
    "\n",
    "with open('/data/Aldhani/eoagritwin/et/data/stations/ICOS_stations.geojson') as f:\n",
    "    d = json.load(f)\n",
    "\n",
    "posL = [feature['properties']['Position'].split(' ') for feature in d['features']]\n",
    "datL = [feature['properties']['labelingDate'].split('-') for feature in d['features']]"
   ]
  },
  {
   "cell_type": "code",
   "execution_count": null,
   "metadata": {},
   "outputs": [
    {
     "name": "stdout",
     "output_type": "stream",
     "text": [
      "13.51259 50.95004\n",
      "['2024-01-01', '2024-02-01']\n",
      "{'west': 5.592041, 'south': 47.129951, 'east': 15.26001, 'north': 55.09723}\n"
     ]
    }
   ],
   "source": [
    "X, Y = float(posL[0][0]), float(posL[0][1])\n",
    "print(X,Y)\n",
    "dat = [int(dat) for dat in datL[0]]\n",
    "\n",
    "date = [\"-\".join(map(str, [dat[0], dat[1]-1, dat[2]])), \"-\".join(map(str, [dat[0], dat[1], dat[2]]))]\n",
    "aoi = {\"west\": X - 0.1, \"south\": Y - .1, \"east\": X + .1, \"north\": Y + .1}\n",
    "\n",
    "date = ['2024-01-01', '2024-02-01']\n",
    "aoi = {\"west\": 5.592041, \"south\": 47.129951, \"east\": 15.26001, \"north\": 55.09723}\n",
    "print(date)\n",
    "print(aoi)\n",
    "\n",
    "sentinel3_cube = connection.load_collection(\n",
    "    \"SENTINEL3_SLSTR_L2_LST\",\n",
    "    spatial_extent = aoi,\n",
    "    temporal_extent = date,\n",
    "    bands=[\"LST\"]#, \"cloud_in_visible\", \"cloud_in_thin_cirrus\", \"bayes_in_single_moderate\"]\n",
    ")\n"
   ]
  },
  {
   "cell_type": "code",
   "execution_count": null,
   "metadata": {},
   "outputs": [],
   "source": [
    "band1 = sentinel3_cube.band('confidence_in')\n",
    "band2 = sentinel3_cube.band('LST')\n",
    "band3 = sentinel3_cube.band('exception')\n",
    "\n",
    "cloud_mask = (band1 >= 16384) | (band2 < -32768) | (band3 != 0)\n",
    "sentinel3_cube_masked = sentinel3_cube.mask(cloud_mask)\n",
    "sentinel3_cube_masked = sentinel3_cube_masked.filter_bands(['LST'])"
   ]
  },
  {
   "cell_type": "code",
   "execution_count": 41,
   "metadata": {},
   "outputs": [],
   "source": [
    "sentinel3_cube_masked.download(\"LST-2.nc\")\n",
    "#sentinel3_cube.download('S3test.nc')"
   ]
  },
  {
   "cell_type": "code",
   "execution_count": null,
   "metadata": {},
   "outputs": [],
   "source": [
    "ds = xr.load_dataset(\"LST-1.nc\")\n",
    "ds[\"LST\"].plot.imshow(col=\"t\", col_wrap=2, vmin=200, vmax=400)"
   ]
  },
  {
   "cell_type": "code",
   "execution_count": null,
   "metadata": {},
   "outputs": [],
   "source": [
    "ds[\"LST_celsius\"] = ds[\"LST\"] - 273.15\n",
    "\n",
    "# Plot the LST in Celsius with a rainbow colormap\n",
    "img_c = ds[\"LST_celsius\"].plot.imshow(col=\"t\", col_wrap=4, vmin=-10, vmax=45, cmap='rainbow')\n",
    "plt.show()"
   ]
  },
  {
   "cell_type": "code",
   "execution_count": null,
   "metadata": {},
   "outputs": [],
   "source": [
    "job = sentinel3_cube.create_job(out_format=\"GTiff\")"
   ]
  },
  {
   "cell_type": "code",
   "execution_count": null,
   "metadata": {},
   "outputs": [],
   "source": [
    "\n",
    "#job.start_and_wait()\n",
    "#job.get_results()"
   ]
  },
  {
   "cell_type": "code",
   "execution_count": null,
   "metadata": {},
   "outputs": [],
   "source": [
    "job_options = {\n",
    "    \"executor-memory\": \"3G\",\n",
    "    \"executor-memoryOverhead\": \"4G\",\n",
    "    \"executor-cores\": \"2\",\n",
    "}\n",
    "\n",
    "job = LST.execute_batch(\n",
    "    outputfile=\"lst.nc\"\n",
    ")"
   ]
  },
  {
   "cell_type": "code",
   "execution_count": null,
   "metadata": {},
   "outputs": [],
   "source": [
    "connection.job('j-250220175546475684630774e1358c51').logs()"
   ]
  },
  {
   "cell_type": "code",
   "execution_count": 3,
   "metadata": {},
   "outputs": [],
   "source": [
    "date = [\"2021-06-15\", \"2021-06-19\"]\n",
    "aoi = {\"west\": 33.895, \"south\": -0.062, \"east\": 34.451, \"north\": 0.785}\n",
    "\n",
    "sentinel3_cube = connection.load_collection(\n",
    "    \"SENTINEL3_SLSTR_L2_LST\",\n",
    "    spatial_extent = aoi,\n",
    "    temporal_extent = date,\n",
    "    bands=[\"LST_in:LST\"]\n",
    ")\n",
    "sentinel3_cube = sentinel3_cube.rename_labels(dimension=\"bands\", source=[\"LST_in:LST\"], target=[\"LST\"])\n",
    "\n"
   ]
  },
  {
   "cell_type": "code",
   "execution_count": 4,
   "metadata": {},
   "outputs": [],
   "source": [
    "cloud_mask = connection.load_collection(\n",
    "    \"SENTINEL3_SLSTR_L2_LST\",\n",
    "    temporal_extent = date,\n",
    "    spatial_extent = aoi,\n",
    "    bands=[\"flags_in:confidence_in\"]\n",
    ")\n",
    "\n",
    "cloud_mask = cloud_mask >= 16384\n",
    "\n",
    "LST = sentinel3_cube.mask(cloud_mask)\n",
    "\n"
   ]
  },
  {
   "cell_type": "code",
   "execution_count": 6,
   "metadata": {},
   "outputs": [],
   "source": [
    "LST.download(\"LST-busia.nc\")"
   ]
  }
 ],
 "metadata": {
  "kernelspec": {
   "display_name": "evapo_sentinelhub",
   "language": "python",
   "name": "python3"
  },
  "language_info": {
   "codemirror_mode": {
    "name": "ipython",
    "version": 3
   },
   "file_extension": ".py",
   "mimetype": "text/x-python",
   "name": "python",
   "nbconvert_exporter": "python",
   "pygments_lexer": "ipython3",
   "version": "3.13.2"
  }
 },
 "nbformat": 4,
 "nbformat_minor": 2
}
