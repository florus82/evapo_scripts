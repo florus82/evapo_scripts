{
 "cells": [
  {
   "cell_type": "code",
   "execution_count": null,
   "id": "3dd8f9a6",
   "metadata": {},
   "outputs": [],
   "source": [
    "import sys\n",
    "sys.path.append('/home/potzschf/repos/')\n",
    "from helperToolz.helpsters import *\n",
    "from helperToolz.evapo import *\n",
    "from collections import defaultdict\n",
    "import re\n",
    "import itertools\n",
    "\n",
    "workhorse = True\n",
    "\n",
    "if workhorse:\n",
    "    origin = 'Aldhani/eoagritwin/'\n",
    "else:\n",
    "    origin = ''"
   ]
  },
  {
   "cell_type": "code",
   "execution_count": null,
   "id": "28eb4eef",
   "metadata": {},
   "outputs": [],
   "source": [
    "# get files and check if years are same for both sensors. Also check what indices and metrics are available\n",
    "training_files = getFilelist('/data/Aldhani/eoagritwin/et/Training_ML/training_data/', '.parquet')\n",
    "\n",
    "indices_by_year = defaultdict(set)\n",
    "\n",
    "for file in training_files:\n",
    " \n",
    "    match  = re.search(r'/(S2|S3)_(\\d{4})(?:_([A-Za-z]{3,10}))?', file) # (?:_([A-Z]{3}))? --> the ? at the end makes the whole group optional, i.e. also files where \n",
    "                                                                    # only the first 2 groups match will be considered. the first question mark stops the loop from breaking,\n",
    "                                                                    # if a file with only the first 2 groups is encountered\n",
    "    if match:\n",
    "        sensor, year, index = match.groups()\n",
    "        if index:  # Only S2 has metrics in filename\n",
    "            indices_by_year[year].add(f'{sensor}:{index}')\n",
    "    \n",
    "\n",
    "# Get all unique indices\n",
    "all_indices = sorted({index for indices in indices_by_year.values() for index in indices})\n",
    "\n",
    "# Prepare a table: rows = years, columns = indices\n",
    "table_data = []\n",
    "for year in sorted(indices_by_year):\n",
    "    row = {index: '✔' if index in indices_by_year[year] else 'X' for index in all_indices}\n",
    "    row['Year'] = year\n",
    "    table_data.append(row)\n",
    "\n",
    "# Create and show DataFrame\n",
    "df = pd.DataFrame(table_data)\n",
    "df = df.set_index('Year')\n",
    "print('\\nDatasets available for training\\n')\n",
    "print(df)\n"
   ]
  },
  {
   "cell_type": "code",
   "execution_count": null,
   "id": "f3051a34",
   "metadata": {},
   "outputs": [],
   "source": [
    "result = []\n",
    "\n",
    "for r1 in range(1, len(S2_years) + 1):\n",
    "    for combo1 in itertools.combinations(S2_years, r1):\n",
    "        prefix = ' '.join(combo1)\n",
    "\n",
    "        # For each, combine with all non-empty combinations of list2\n",
    "        for r2 in range(1, len(S2_indices) + 1):\n",
    "            for combo2 in itertools.combinations(S2_indices, r2):\n",
    "                suffix = ' + '.join(combo2)\n",
    "                result.append(f'{prefix} with {suffix}')\n",
    "\n"
   ]
  },
  {
   "cell_type": "code",
   "execution_count": null,
   "id": "80f48553",
   "metadata": {},
   "outputs": [],
   "source": [
    "S2_years = [str(year) for year in range(2017,2025)]\n",
    "S2_indices = ['EVI', 'NDM', 'NDV', 'TCB', 'TCG', 'TCW']"
   ]
  },
  {
   "cell_type": "code",
   "execution_count": 22,
   "id": "7c36d2ab",
   "metadata": {},
   "outputs": [
    {
     "data": {
      "text/plain": [
       "['/data/Aldhani/eoagritwin/et/Training_ML/training_data/S2_2019_NDV.parquet',\n",
       " '/data/Aldhani/eoagritwin/et/Training_ML/training_data/S2_2019_TCB.parquet',\n",
       " '/data/Aldhani/eoagritwin/et/Training_ML/training_data/S2_2020_NDV.parquet',\n",
       " '/data/Aldhani/eoagritwin/et/Training_ML/training_data/S2_2020_TCB.parquet']"
      ]
     },
     "execution_count": 22,
     "metadata": {},
     "output_type": "execute_result"
    }
   ],
   "source": [
    "[file for file in training_files if any(substr in file for substr in S2_indices[2:4]) and any(substr in file for substr in S2_years[2:4])]"
   ]
  },
  {
   "cell_type": "code",
   "execution_count": 21,
   "id": "88782ce6",
   "metadata": {},
   "outputs": [
    {
     "data": {
      "text/plain": [
       "'NDV'"
      ]
     },
     "execution_count": 21,
     "metadata": {},
     "output_type": "execute_result"
    }
   ],
   "source": [
    "S2_indices[2]"
   ]
  }
 ],
 "metadata": {
  "kernelspec": {
   "display_name": "workhorse",
   "language": "python",
   "name": "python3"
  },
  "language_info": {
   "codemirror_mode": {
    "name": "ipython",
    "version": 3
   },
   "file_extension": ".py",
   "mimetype": "text/x-python",
   "name": "python",
   "nbconvert_exporter": "python",
   "pygments_lexer": "ipython3",
   "version": "3.12.10"
  }
 },
 "nbformat": 4,
 "nbformat_minor": 5
}
