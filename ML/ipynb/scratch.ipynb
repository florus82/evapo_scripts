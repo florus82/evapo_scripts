{
 "cells": [
  {
   "cell_type": "code",
   "execution_count": 3,
   "id": "8aeddf50",
   "metadata": {},
   "outputs": [],
   "source": [
    "from sklearn.model_selection import GridSearchCV\n",
    "from sklearn.model_selection import train_test_split\n",
    "from sklearn.ensemble import GradientBoostingRegressor\n",
    "import joblib\n",
    "import time\n",
    "from sklearn import metrics\n",
    "\n",
    "import sys\n",
    "sys.path.append('/home/potzschf/repos/')\n",
    "from helperToolz.helpsters import *\n",
    "from helperToolz.evapo import *\n",
    "from collections import defaultdict\n",
    "import re\n",
    "import itertools\n",
    "\n",
    "workhorse = True\n",
    "\n",
    "if workhorse:\n",
    "    origin = 'Aldhani/eoagritwin/'\n",
    "else:\n",
    "    origin = ''"
   ]
  },
  {
   "cell_type": "code",
   "execution_count": null,
   "id": "f3f53eb9",
   "metadata": {},
   "outputs": [],
   "source": [
    "# access test files created with Prepare_S1_points.R\n",
    "training_files = getFilelist('/data/Aldhani/eoagritwin/et/Training_ML/training_data/', '.parquet')\n",
    "\n"
   ]
  },
  {
   "cell_type": "code",
   "execution_count": null,
   "id": "1e7e3d64",
   "metadata": {},
   "outputs": [],
   "source": [
    "# before dante; with dbh differentiation\n",
    "# def ModelRun():\n",
    "#     # iterate over input files\n",
    "#     for iteri in range(0,100):\n",
    "#         for file in files:\n",
    "#             dat = pd.read_csv(file)\n",
    "#             y_mod = dat.DbH_year.unique()\n",
    "#             for setti in y_mod:\n",
    "#                 sub = dat[dat['DbH_year'] == setti].drop(['Point_ID', 'DbH_year'], axis = 1)\n",
    "#                 sub.reset_index()\n",
    "#                 res['no_obs'].append(sub.shape[0])\n",
    "#                 x_Train, x_Test, y_Train, y_Test = train_test_split(\n",
    "#                             sub.iloc[:, np.where((sub.columns.values == 'AGB') == False)[0]],\n",
    "#                             sub['AGB'], random_state = iteri, test_size = 0.3)\n",
    "#                 res['Iteration'].append(str(iteri))\n",
    "#                 res['Input'].append(file.split('/')[-1].split('.')[0])\n",
    "#                 res['DbH_Set'].append(setti)\n",
    "#\n",
    "#\n",
    "#                 stor = 'K:/Seafile/Uni_Life/CarbonPaper/2nd_round/Modelling/S1_predictor_tests/savs/' + \\\n",
    "#                        file.split('/')[-1].split('.')[0] + '_' + setti + '_' + str(iteri) + '.sav'\n",
    "#                 ModPerfor(Model(y_Train, x_Train, stor, 54),\n",
    "#                           y_Test, x_Test)\n",
    "#                 print(setti)\n",
    "#             print(file)\n",
    "#         print(iteri)\n",
    "\n",
    "def ModelRun():\n",
    "    # iterate over input files\n",
    "    for iteri in range(0,100):\n",
    "        for file in files:\n",
    "            dat = pd.read_csv(file)\n",
    "            sub = dat.drop(['POINT_ID', 'YEAR', 'DbH'], axis = 1)\n",
    "            sub.reset_index()\n",
    "            res['no_obs'].append(sub.shape[0])\n",
    "            x_Train, x_Test, y_Train, y_Test = train_test_split(\n",
    "                        sub.iloc[:, np.where((sub.columns.values == 'AGB') == False)[0]],\n",
    "                        sub['AGB'], random_state = iteri, test_size = 0.3)\n",
    "            res['Iteration'].append(str(iteri))\n",
    "            res['Input'].append(file.split('/')[-1].split('.')[0])\n",
    "            res['DbH_Set'].append(file.split('_')[-1].split('.')[0])\n",
    "\n",
    "            stor = 'K:/MSc_outside_Seafile\\savs_2nd_round\\withDante_old_BM_correct/' + file.split('/')[-1].split('.')[0] + str(iteri) + '.sav'\n",
    "            ModPerfor(Model(y_Train, x_Train, stor, 15),\n",
    "                      y_Test, x_Test)\n",
    "            print(file)\n",
    "        print(iteri)"
   ]
  }
 ],
 "metadata": {
  "kernelspec": {
   "display_name": "workhorse",
   "language": "python",
   "name": "python3"
  },
  "language_info": {
   "codemirror_mode": {
    "name": "ipython",
    "version": 3
   },
   "file_extension": ".py",
   "mimetype": "text/x-python",
   "name": "python",
   "nbconvert_exporter": "python",
   "pygments_lexer": "ipython3",
   "version": "3.12.10"
  }
 },
 "nbformat": 4,
 "nbformat_minor": 5
}
