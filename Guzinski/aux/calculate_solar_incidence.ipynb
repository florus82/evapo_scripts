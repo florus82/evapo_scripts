{
 "cells": [
  {
   "cell_type": "code",
   "execution_count": 14,
   "id": "986c1068",
   "metadata": {},
   "outputs": [],
   "source": [
    "import sys\n",
    "import rasterio\n",
    "from datetime import datetime\n",
    "import time\n",
    "from pvlib import solarposition\n",
    "sys.path.append('/home/potzschf/repos/')\n",
    "from helperToolz.helpsters import *\n",
    "from helperToolz.guzinski import * \n",
    "\n",
    "name_list = ['maxLST', 'minVZA', 'readable', 'order']\n"
   ]
  },
  {
   "cell_type": "code",
   "execution_count": 22,
   "id": "32fe7a15",
   "metadata": {},
   "outputs": [],
   "source": [
    "tiles = [file.split('SLOPE_')[-1].split('.')[0] for file in getFilelist('/data/Aldhani/eoagritwin/et/Auxiliary/DEM/Force_Tiles/SLOPE/', '.tif')]\n",
    "comp = 'maxLST'\n",
    "\n",
    "\n",
    "year = 2019\n",
    "tile = 'X0052_Y0051'\n",
    "\n",
    "slope_path = f'/data/Aldhani/eoagritwin/et/Auxiliary/DEM/Force_Tiles/SLOPE/SLOPE_{tile}.tif'\n",
    "aspect_path = f'/data/Aldhani/eoagritwin/et/Auxiliary/DEM/Force_Tiles/ASPECT/ASPECT_{tile}.tif'\n",
    "dem_path = f'/data/Aldhani/eoagritwin/et/Auxiliary/DEM/Force_Tiles/DEM/DEM_{tile}.tif'\n",
    "lat_path = f'/data/Aldhani/eoagritwin/et/Auxiliary/DEM/Force_Tiles/LAT/Latitude_{tile}.tif'\n",
    "lon_path = f'/data/Aldhani/eoagritwin/et/Auxiliary/DEM/Force_Tiles/LON/Longitude_{tile}.tif'\n",
    "acq_times = getFilelist(f'/data/Aldhani/eoagritwin/et/Sentinel3/LST/LST_values/Acq_time/int_format/{year}', '.tif')\n",
    "acq_time_list = [file for file in acq_times if not any(substr in file for substr in [nam for nam in name_list if nam != comp])]\n",
    "stor_dir = f'/data/Aldhani/eoagritwin/et/Auxiliary/DEM/Force_Tiles/INCIDENCE3/{comp}/{tile}/{year}/'\n",
    "\n",
    "os.makedirs(stor_dir, exist_ok=True)\n",
    "\n",
    "    # load all data and convert if needed\n",
    "with rasterio.open(slope_path) as slope_src:\n",
    "    slope = slope_src.read(1)  # Read first band\n",
    "    \n",
    "with rasterio.open(aspect_path) as aspect_src:\n",
    "    aspect = aspect_src.read(1)\n",
    "\n",
    "with rasterio.open(lon_path) as lon_src:\n",
    "    lon = lon_src.read(1)\n",
    "\n",
    "with rasterio.open(lat_path) as lat_src:\n",
    "    lat = lat_src.read(1)\n",
    "\n",
    "with rasterio.open(dem_path) as dem_src:\n",
    "    dem = dem_src.read(1)\n",
    "\n",
    "# Replace no data or negative values with nan if needed\n",
    "slope = np.where(slope < 0, np.nan, slope)\n",
    "aspect = np.where(aspect < 0, np.nan, aspect)\n",
    "\n",
    "# Convert degrees to radians for trigonometric calculations\n",
    "slope_rad = np.deg2rad(slope)\n",
    "aspect_rad = np.deg2rad(aspect)"
   ]
  },
  {
   "cell_type": "code",
   "execution_count": 25,
   "id": "37bf8403",
   "metadata": {},
   "outputs": [],
   "source": [
    "file = acq_time_list[0]\n",
    "month = 'April'\n",
    "              \n",
    "# warp S3 dates into tile and read-in\n",
    "warped_ds = warp_raster_to_reference(file, reference_path=slope_path, output_path='MEM', resampling='near')\n",
    "days = warped_ds.RasterCount\n",
    "                            \n",
    "time_warp = warped_ds.GetRasterBand(5).ReadAsArray()\n",
    "try:\n",
    "    time_warp_intpol = interpol_Time(time_warp)\n",
    "except:\n",
    "    time_warp_intpol = time_warp"
   ]
  },
  {
   "cell_type": "code",
   "execution_count": 26,
   "id": "792d37e6",
   "metadata": {},
   "outputs": [
    {
     "data": {
      "image/png": "[encoded data removed]",
      "text/plain": [
       "<Figure size 500x500 with 1 Axes>"
      ]
     },
     "metadata": {},
     "output_type": "display_data"
    }
   ],
   "source": [
    "plotter(time_warp)"
   ]
  },
  {
   "cell_type": "code",
   "execution_count": null,
   "id": "a68a9cb2",
   "metadata": {},
   "outputs": [],
   "source": [
    "\n",
    "# flatten\n",
    "time_flat = time_warp.ravel()\n",
    "lat_flat = lat.ravel()\n",
    "lon_flat = lon.ravel()\n",
    "dem_flat = dem.ravel()\n",
    "shape = time_warp.shape\n",
    "\n",
    "# convert to tz-aware datetimes (assume unix seconds UTC)\n",
    "times = pd.to_datetime(time_flat, unit='s', utc=True)\n",
    "\n",
    "# handle nodata times (e.g. <= 0) -> mask them\n",
    "valid_time_mask = ~np.isnan(time_flat) & (time_flat > 0)\n",
    "\n",
    "incidence_flat = np.full(time_flat.shape, np.nan, dtype=np.float32)"
   ]
  },
  {
   "cell_type": "code",
   "execution_count": null,
   "id": "8f1fad32",
   "metadata": {},
   "outputs": [],
   "source": [
    "unique_times, inverse_idx = np.unique(times[valid_time_mask], return_inverse=True)"
   ]
  },
  {
   "cell_type": "code",
   "execution_count": null,
   "id": "5af38776",
   "metadata": {},
   "outputs": [],
   "source": [
    "valid_indices = np.nonzero(valid_time_mask)[0] "
   ]
  },
  {
   "cell_type": "code",
   "execution_count": null,
   "id": "56c911b1",
   "metadata": {},
   "outputs": [],
   "source": [
    "for ut_i, ut in enumerate(unique_times):\n",
    "    # indices (in flattened arrays) that correspond to this unique time\n",
    "    sel = valid_indices[inverse_idx == ut_i]"
   ]
  },
  {
   "cell_type": "code",
   "execution_count": null,
   "id": "960fd76f",
   "metadata": {},
   "outputs": [],
   "source": [
    "# speed: compute solar position grouped by unique timestamps that actually occur\n",
    "unique_times, inverse_idx = np.unique(times[valid_time_mask], return_inverse=True)\n",
    "# For each unique time, compute solar position for all valid pixels with that time.\n",
    "# Note: pvlib accepts vectorized latitude/longitude arrays of same length as lat/lon slice.\n",
    "# We'll iterate unique times (usually few) — cheaper than computing per-pixel if timestamps repeat.\n",
    "valid_indices = np.nonzero(valid_time_mask)[0]  # indices in flattened arrays\n",
    "\n",
    "for ut_i, ut in enumerate(unique_times):\n",
    "    # indices (in flattened arrays) that correspond to this unique time\n",
    "    sel = valid_indices[inverse_idx == ut_i]\n",
    "    if sel.size == 0:\n",
    "        continue\n",
    "\n",
    "    sel_lat = lat_flat[sel]\n",
    "    sel_lon = lon_flat[sel]\n",
    "    sel_dem = dem_flat[sel]\n",
    "\n",
    "    # compute solar position for these points at single time (pvlib will vectorize lat/lon)\n",
    "    sp = solarposition.get_solarposition(time=ut, latitude=sel_lat, longitude=sel_lon, altitude=sel_dem)\n"
   ]
  },
  {
   "cell_type": "code",
   "execution_count": null,
   "id": "a04e0982",
   "metadata": {},
   "outputs": [],
   "source": [
    "tiles = [file.split('SLOPE_')[-1].split('.')[0] for file in getFilelist('/data/Aldhani/eoagritwin/et/Auxiliary/DEM/Force_Tiles/SLOPE/', '.tif')]\n",
    "\n",
    "\n",
    "comp = 'maxLST'\n",
    "\n",
    "\n",
    "for year in [2019]:# range(2017, 2025, 1):\n",
    "    for tile in tiles:\n",
    "        if tile != 'X0073_Y0047':\n",
    "            continue\n",
    "        # File paths for slope and aspect rasters (in degrees)\n",
    "        slope_path = f'/data/Aldhani/eoagritwin/et/Auxiliary/DEM/Force_Tiles/SLOPE/SLOPE_{tile}.tif'\n",
    "        aspect_path = f'/data/Aldhani/eoagritwin/et/Auxiliary/DEM/Force_Tiles/ASPECT/ASPECT_{tile}.tif'\n",
    "        dem_path = f'/data/Aldhani/eoagritwin/et/Auxiliary/DEM/Force_Tiles/DEM/DEM_{tile}.tif'\n",
    "        lat_path = f'/data/Aldhani/eoagritwin/et/Auxiliary/DEM/Force_Tiles/LAT/Latitude_{tile}.tif'\n",
    "        lon_path = f'/data/Aldhani/eoagritwin/et/Auxiliary/DEM/Force_Tiles/LON/Longitude_{tile}.tif'\n",
    "        acq_times = getFilelist(f'/data/Aldhani/eoagritwin/et/Sentinel3/LST/LST_values/Acq_time/int_format/{year}', '.tif')\n",
    "        acq_time_list = [file for file in acq_times if not any(substr in file for substr in [nam for nam in name_list if nam != comp])]\n",
    "        stor_dir = f'/data/Aldhani/eoagritwin/et/Auxiliary/DEM/Force_Tiles/INCIDENCE3/{comp}/{tile}/{year}/'\n",
    "\n",
    "        os.makedirs(stor_dir, exist_ok=True)\n",
    "\n",
    "         # load all data and convert if needed\n",
    "        with rasterio.open(slope_path) as slope_src:\n",
    "            slope = slope_src.read(1)  # Read first band\n",
    "            \n",
    "        with rasterio.open(aspect_path) as aspect_src:\n",
    "            aspect = aspect_src.read(1)\n",
    "\n",
    "        with rasterio.open(lon_path) as lon_src:\n",
    "            lon = lon_src.read(1)\n",
    "\n",
    "        with rasterio.open(lat_path) as lat_src:\n",
    "            lat = lat_src.read(1)\n",
    "\n",
    "        with rasterio.open(dem_path) as dem_src:\n",
    "            dem = dem_src.read(1)\n",
    "\n",
    "        # Replace no data or negative values with nan if needed\n",
    "        slope = np.where(slope < 0, np.nan, slope)\n",
    "        aspect = np.where(aspect < 0, np.nan, aspect)\n",
    "\n",
    "        # Convert degrees to radians for trigonometric calculations\n",
    "        slope_rad = np.deg2rad(slope)\n",
    "        aspect_rad = np.deg2rad(aspect)\n",
    "        \n",
    "        for file in acq_time_list:\n",
    "            month = file.split('.tif')[0].split('_')[-1]\n",
    "            if month in ['April', 'May', 'June', 'July', 'August', 'September', 'October']:\n",
    "               \n",
    "                if month != 'July':\n",
    "                    continue\n",
    "                # warp S3 dates into tile and read-in\n",
    "                warped_ds = warp_raster_to_reference(file, reference_path=slope_path, output_path='MEM', resampling='near')\n",
    "                days = warped_ds.RasterCount\n",
    "\n",
    "                for day in range(days):\n",
    "                    if os.path.exists(f'{stor_dir}INCIDENCE_{tile}_{year}_{month}_{(day+1):02d}.tif'):\n",
    "                        t = time.localtime()\n",
    "                        ti = time.strftime(\"%H:%M:%S\", t)\n",
    "                        print(f\"already exists - next one at {ti}\")\n",
    "                    else:\n",
    "                        try:\n",
    "                            \n",
    "                            time_warp = warped_ds.GetRasterBand(day+1).ReadAsArray()\n",
    "                            time_warp_intpol = interpol_Time(time_warp)\n",
    "\n",
    "\n",
    "                            npTOdisk(time_warp,slope_path, f'{stor_dir}time_orig{day+1}.tif')\n",
    "                            npTOdisk(time_warp_intpol,slope_path, f'{stor_dir}time_intpol{day+1}.tif')\n",
    "\n",
    "    \n",
    "                            # compute incidence\n",
    "                            incidence_angle = compute_incidence_angle(time_warp, lat, lon, dem, slope_rad, aspect_rad)\n",
    "\n",
    "                            invalid_surface = np.isnan(slope) | np.isnan(aspect) | np.isnan(lat) | np.isnan(lon)\n",
    "                            incidence_angle[invalid_surface] = np.nan\n",
    "\n",
    "                            ds = gdal.Open(slope_path)\n",
    "                            gt = ds.GetGeoTransform()\n",
    "                            prj = ds.GetProjection()\n",
    "\n",
    "                            export_intermediate_products('0_0',\n",
    "                                                        incidence_angle, gt, prj, stor_dir,\n",
    "                                                        f'INCIDENCE_{tile}_{year}_{month}_{(day+1):02d}.tif',typ='float',\n",
    "                                                        comp=True)\n",
    "\n",
    "                        except Exception as e:\n",
    "                            print(e)\n",
    "                            t = time.localtime()\n",
    "                            ti = time.strftime(\"%H:%M:%S\", t)\n",
    "                            print(f\"thrown at {ti}\")\n",
    "                            continue\n",
    "            else:\n",
    "                print(f'{month} is not needed at the moment')\n",
    "\n"
   ]
  },
  {
   "cell_type": "code",
   "execution_count": 21,
   "id": "47fbee0d",
   "metadata": {},
   "outputs": [
    {
     "data": {
      "text/plain": [
       "True"
      ]
     },
     "execution_count": 21,
     "metadata": {},
     "output_type": "execute_result"
    }
   ],
   "source": [
    "growingSeasonChecker(int(MONTH_TO_02D['July']))"
   ]
  }
 ],
 "metadata": {
  "kernelspec": {
   "display_name": "workhorse",
   "language": "python",
   "name": "python3"
  },
  "language_info": {
   "codemirror_mode": {
    "name": "ipython",
    "version": 3
   },
   "file_extension": ".py",
   "mimetype": "text/x-python",
   "name": "python",
   "nbconvert_exporter": "python",
   "pygments_lexer": "ipython3",
   "version": "3.12.11"
  }
 },
 "nbformat": 4,
 "nbformat_minor": 5
}
