{
 "cells": [
  {
   "cell_type": "code",
   "execution_count": 1,
   "id": "7ef217bd",
   "metadata": {},
   "outputs": [],
   "source": [
    "import sys\n",
    "import rasterio\n",
    "from datetime import datetime\n",
    "from pvlib import solarposition\n",
    "sys.path.append('/home/potzschf/repos/')\n",
    "from helperToolz.helpsters import *"
   ]
  },
  {
   "cell_type": "code",
   "execution_count": 2,
   "id": "9d6589f2",
   "metadata": {},
   "outputs": [],
   "source": [
    "# here we don't need to care about if we actually use the related LST value to the time of observation. if we dont use it later, the solar value wont be used\n",
    "tile = 'X0070_Y0044'\n",
    "year = 2019\n",
    "\n",
    "# File paths for slope and aspect rasters (in degrees)\n",
    "slope_path = f'/data/Aldhani/eoagritwin/et/Auxiliary/DEM/Force_Tiles/SLOPE/SLOPE_{tile}.tif'\n",
    "aspect_path = f'/data/Aldhani/eoagritwin/et/Auxiliary/DEM/Force_Tiles/ASPECT/ASPECT_{tile}.tif'\n",
    "dem_path = f'/data/Aldhani/eoagritwin/et/Auxiliary/DEM/Force_Tiles/DEM/DEM_{tile}.tif'\n",
    "lat_path = f'/data/Aldhani/eoagritwin/et/Auxiliary/DEM/Force_Tiles/LAT/Latitude_{tile}.tif'\n",
    "lon_path = f'/data/Aldhani/eoagritwin/et/Auxiliary/DEM/Force_Tiles/LON/Longitude_{tile}.tif'\n",
    "acq_time_list = getFilelist(f'/data/Aldhani/eoagritwin/et/Sentinel3/tiffs/Acq_time/{year}', '.tif')\n",
    "stor_dir = f'/data/Aldhani/eoagritwin/et/Auxiliary/DEM/Force_Tiles/INCIDENCE/{year}/'\n",
    "\n",
    "os.makedirs(stor_dir, exist_ok=True)\n"
   ]
  },
  {
   "cell_type": "code",
   "execution_count": 3,
   "id": "6936bbe4",
   "metadata": {},
   "outputs": [],
   "source": [
    "# load all data and convert if needed\n",
    "with rasterio.open(slope_path) as slope_src:\n",
    "    slope = slope_src.read(1)  # Read first band\n",
    "    \n",
    "with rasterio.open(aspect_path) as aspect_src:\n",
    "    aspect = aspect_src.read(1)\n",
    "\n",
    "with rasterio.open(lon_path) as lon_src:\n",
    "    lon = lon_src.read(1)\n",
    "\n",
    "with rasterio.open(lat_path) as lat_src:\n",
    "    lat = lat_src.read(1)\n",
    "\n",
    "with rasterio.open(dem_path) as dem_src:\n",
    "    dem = dem_src.read(1)\n",
    "\n",
    "# Replace no data or negative values with nan if needed\n",
    "slope = np.where(slope < 0, np.nan, slope)\n",
    "aspect = np.where(aspect < 0, np.nan, aspect)\n",
    "\n",
    "# Convert degrees to radians for trigonometric calculations\n",
    "slope_rad = np.deg2rad(slope)\n",
    "aspect_rad = np.deg2rad(aspect)"
   ]
  },
  {
   "cell_type": "code",
   "execution_count": 4,
   "id": "1d0f2eee",
   "metadata": {},
   "outputs": [
    {
     "ename": "IndexError",
     "evalue": "list index out of range",
     "output_type": "error",
     "traceback": [
      "\u001b[0;31m---------------------------------------------------------------------------\u001b[0m",
      "\u001b[0;31mIndexError\u001b[0m                                Traceback (most recent call last)",
      "Cell \u001b[0;32mIn[4], line 2\u001b[0m\n\u001b[1;32m      1\u001b[0m \u001b[38;5;66;03m# warp S3 dates into tile and read-in\u001b[39;00m\n\u001b[0;32m----> 2\u001b[0m warped_ds \u001b[38;5;241m=\u001b[39m warp_raster_to_reference(\u001b[43macq_time_list\u001b[49m\u001b[43m[\u001b[49m\u001b[38;5;241;43m0\u001b[39;49m\u001b[43m]\u001b[49m, reference_path\u001b[38;5;241m=\u001b[39mslope_path, output_path\u001b[38;5;241m=\u001b[39m\u001b[38;5;124m'\u001b[39m\u001b[38;5;124mMEM\u001b[39m\u001b[38;5;124m'\u001b[39m, resampling\u001b[38;5;241m=\u001b[39m\u001b[38;5;124m'\u001b[39m\u001b[38;5;124mnear\u001b[39m\u001b[38;5;124m'\u001b[39m)\n\u001b[1;32m      3\u001b[0m time_warp \u001b[38;5;241m=\u001b[39m warped_ds\u001b[38;5;241m.\u001b[39mGetRasterBand(\u001b[38;5;241m1\u001b[39m)\u001b[38;5;241m.\u001b[39mReadAsArray()\n",
      "\u001b[0;31mIndexError\u001b[0m: list index out of range"
     ]
    }
   ],
   "source": [
    "# warp S3 dates into tile and read-in\n",
    "warped_ds = warp_raster_to_reference(acq_time_list[0], reference_path=slope_path, output_path='MEM', resampling='near')\n",
    "time_warp = warped_ds.GetRasterBand(1).ReadAsArray()"
   ]
  },
  {
   "cell_type": "code",
   "execution_count": 5,
   "id": "a0fe587c",
   "metadata": {},
   "outputs": [],
   "source": [
    "# Flatten Unix time and convert to datetime\n",
    "timestamps_flat = pd.to_datetime(time_warp.ravel(), unit='s', utc=True)\n",
    "\n",
    "# Flatten lat/lon and DEM\n",
    "lat_flat = lat.ravel()\n",
    "lon_flat = lon.ravel()\n",
    "dem_flat = dem.ravel()\n",
    "# Compute solar position\n",
    "solpos = solarposition.get_solarposition(time=timestamps_flat, latitude=lat_flat, longitude=lon_flat, altitude=dem_flat)\n",
    "\n",
    "# Convert degrees to radians and reshape to original 2D\n",
    "zenith_rad = np.deg2rad(solpos['zenith'].values).reshape(time_warp.shape)\n",
    "azimuth_rad = np.deg2rad(solpos['azimuth'].values).reshape(time_warp.shape)"
   ]
  },
  {
   "cell_type": "code",
   "execution_count": 6,
   "id": "22c3705c",
   "metadata": {},
   "outputs": [],
   "source": [
    "# cos(theta_i) = cos(theta_z)*cos(beta) + sin(theta_z)*sin(beta)*cos(gamma_s - gamma)\n",
    "\n",
    "cos_theta_i = (np.cos(zenith_rad) * np.cos(slope_rad) +\n",
    "               np.sin(zenith_rad) * np.sin(slope_rad) * \n",
    "               np.cos(azimuth_rad - aspect_rad))\n",
    "\n",
    "# convert incidence angle in degrees\n",
    "incidence_angle = np.rad2deg(np.arccos(cos_theta_i))\n",
    "\n",
    "ds = gdal.Open(slope_path)\n",
    "gt = ds.GetGeoTransform()\n",
    "prj = ds.GetProjection()\n",
    "\n",
    "export_intermediate_products('0_0', incidence_angle, gt, prj, stor_dir, f'INCIDENCE_{tile}.tif',typ='float')"
   ]
  }
 ],
 "metadata": {
  "kernelspec": {
   "display_name": "xdem",
   "language": "python",
   "name": "python3"
  },
  "language_info": {
   "codemirror_mode": {
    "name": "ipython",
    "version": 3
   },
   "file_extension": ".py",
   "mimetype": "text/x-python",
   "name": "python",
   "nbconvert_exporter": "python",
   "pygments_lexer": "ipython3",
   "version": "3.10.18"
  }
 },
 "nbformat": 4,
 "nbformat_minor": 5
}
