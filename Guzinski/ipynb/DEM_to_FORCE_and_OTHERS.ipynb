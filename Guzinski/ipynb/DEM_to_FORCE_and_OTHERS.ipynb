{
 "cells": [
  {
   "cell_type": "code",
   "execution_count": 2,
   "id": "49b4fc4e",
   "metadata": {},
   "outputs": [],
   "source": [
    "import sys\n",
    "sys.path.append('/home/potzschf/repos/')\n",
    "from helperToolz.helpsters import *\n",
    "import geopandas as gpd\n",
    "import xdem\n",
    "import rasterio\n",
    "DEM_folder = '/data/Aldhani/eoagritwin/et/Auxiliary/DEM/'"
   ]
  },
  {
   "cell_type": "code",
   "execution_count": 4,
   "id": "52a64a4e",
   "metadata": {},
   "outputs": [],
   "source": [
    "# make a vrt of raw tiles\n",
    "vrt = gdal.BuildVRT(f'{DEM_folder}vrt_and_derivates/DEM_GER.vrt', getFilelist(f'{DEM_folder}raw_tiles/', ',tif'), separate = False)\n",
    "vrt = None\n",
    "convertVRTpathsTOrelative(f'{DEM_folder}vrt_and_derivates/DEM_GER.vrt')\n",
    "\n",
    "vrt = gdal.BuildVRT(f'{DEM_folder}vrt_and_derivates/LAT_GER.vrt', getFilelist(f'{DEM_folder}Force_Tiles/LAT/', ',tif'), separate = False)\n",
    "vrt = None\n",
    "convertVRTpathsTOrelative(f'{DEM_folder}vrt_and_derivates/LAT_GER.vrt')\n",
    "\n",
    "vrt = gdal.BuildVRT(f'{DEM_folder}vrt_and_derivates/LON_GER.vrt', getFilelist(f'{DEM_folder}Force_Tiles/LON/', ',tif'), separate = False)\n",
    "vrt = None\n",
    "convertVRTpathsTOrelative(f'{DEM_folder}vrt_and_derivates/LON_GER.vrt')\n"
   ]
  },
  {
   "cell_type": "code",
   "execution_count": null,
   "id": "ee53d211",
   "metadata": {},
   "outputs": [],
   "source": [
    "# load shp to get projection and warp DEM vrt to match FORCE porjection\n",
    "force_grid = gpd.read_file('/data/Aldhani/eoagritwin/misc/FORCE_footprint/datacube-grid_DEU_10km.gpkg')\n",
    "ext = force_grid.total_bounds\n",
    "# manually change the first value due to rounding bug\n",
    "ext[0] = ext[0] - .25\n",
    "gt = (float(ext[0] - 30000), 20.0, 0.0, float(ext[3]) + 30000, 0.0, -20.0) # also extend, so that slope and aspect won't have a small gap at borders\n",
    "prj = 'PROJCS[\"ETRS89-extended / LAEA Europe\",GEOGCS[\"ETRS89\",DATUM[\"European_Terrestrial_Reference_System_1989\",SPHEROID[\"GRS 1980\",6378137,298.257222101,AUTHORITY[\"EPSG\",\"7019\"]],AUTHORITY[\"EPSG\",\"6258\"]],PRIMEM[\"Greenwich\",0,AUTHORITY[\"EPSG\",\"8901\"]],UNIT[\"degree\",0.0174532925199433,AUTHORITY[\"EPSG\",\"9122\"]],AUTHORITY[\"EPSG\",\"4258\"]],PROJECTION[\"Lambert_Azimuthal_Equal_Area\"],PARAMETER[\"latitude_of_center\",52],PARAMETER[\"longitude_of_center\",10],PARAMETER[\"false_easting\",4321000],PARAMETER[\"false_northing\",3210000],UNIT[\"metre\",1,AUTHORITY[\"EPSG\",\"9001\"]],AXIS[\"Northing\",NORTH],AXIS[\"Easting\",EAST],AUTHORITY[\"EPSG\",\"3035\"]]'\n",
    "cols = (np.unique(np.asarray(force_grid.bounds['minx'])).shape[0] + 2) * 1500\n",
    "rows = (np.unique(np.asarray(force_grid.bounds['miny'])).shape[0] + 2) * 1500\n",
    "out_ds = gdal.GetDriverByName('GTiff').Create(f'{DEM_folder}reprojected/FORCE_TILE_DUMMY.tif', cols, rows, 1, gdal.GDT_Int8)\n",
    "out_ds.SetGeoTransform(gt)\n",
    "out_ds.SetProjection(prj)\n",
    "out_ds.GetRasterBand(1).WriteArray(np.random.randint(-120, 121, size=(rows, cols)))\n",
    "del out_ds"
   ]
  },
  {
   "cell_type": "code",
   "execution_count": null,
   "id": "ee332ba2",
   "metadata": {},
   "outputs": [
    {
     "name": "stdout",
     "output_type": "stream",
     "text": [
      "Raster warped and saved to: /data/Aldhani/eoagritwin/et/Auxiliary/DEM/vrt_and_derivates/DEM_GER_FORCE_WARP.tif\n"
     ]
    }
   ],
   "source": [
    "warp_raster_to_reference(f'{DEM_folder}vrt_and_derivates/DEM_GER.vrt',\n",
    "                         f'{DEM_folder}reprojected/FORCE_TILE_DUMMY.tif',\n",
    "                         f'{DEM_folder}reprojected/DEM_GER_FORCE_WARP.tif')"
   ]
  },
  {
   "cell_type": "code",
   "execution_count": 3,
   "id": "925027f4",
   "metadata": {},
   "outputs": [],
   "source": [
    "# calculate slope and aspect\n",
    "dem = xdem.DEM(f'{DEM_folder}reprojected/DEM_GER_FORCE_WARP.tif')\n",
    "slope = dem.slope()\n",
    "aspect = dem.aspect()\n"
   ]
  },
  {
   "cell_type": "code",
   "execution_count": 4,
   "id": "1e3d9449",
   "metadata": {},
   "outputs": [],
   "source": [
    "opts = {\n",
    "    \"BIGTIFF\": \"YES\",\n",
    "    \"COMPRESS\": \"DEFLATE\", \n",
    "    \"TILED\": \"YES\"\n",
    "}\n",
    "\n",
    "slope.save(f'{DEM_folder}reprojected/SLOPE_GER_FORCE_WARP.tif', co_opts=opts)\n",
    "aspect.save(f'{DEM_folder}reprojected/ASPECT_GER_FORCE_WARP.tif', co_opts=opts)"
   ]
  },
  {
   "cell_type": "code",
   "execution_count": 7,
   "id": "f73b744c",
   "metadata": {},
   "outputs": [],
   "source": [
    "# now cut DEM, aspect, slope into FORCE TILES\n",
    "force_grid = gpd.read_file('/data/Aldhani/eoagritwin/misc/FORCE_footprint/datacube-grid_DEU_10km.gpkg')\n",
    "\n",
    "for product, name in zip([f'{DEM_folder}reprojected/DEM_GER_FORCE_WARP.tif', \n",
    "                          f'{DEM_folder}reprojected/SLOPE_GER_FORCE_WARP.tif',\n",
    "                          f'{DEM_folder}reprojected/ASPECT_GER_FORCE_WARP.tif'],\n",
    "                          ['DEM', 'SLOPE', 'ASPECT']):\n",
    "    with rasterio.open(product) as src:\n",
    "        varPath = f'{DEM_folder}Force_Tiles/{name}'\n",
    "        if not os.path.exists(varPath):\n",
    "            os.makedirs(varPath)\n",
    "        for tileID in force_grid['Tile_ID']:\n",
    "            tile = force_grid[force_grid['Tile_ID'] == tileID]\n",
    "            # print(Vector.crs)\n",
    "            out_image, out_transform=rasterio.mask.mask(src,tile.geometry,crop=True)\n",
    "            out_meta=src.meta.copy() # copy the metadata of the source DEM\n",
    "            \n",
    "            out_meta.update({\n",
    "                \"driver\":\"Gtiff\",\n",
    "                \"height\":out_image.shape[1], # height starts with shape[1]\n",
    "                \"width\":out_image.shape[2], # width starts with shape[2]\n",
    "                \"transform\":out_transform\n",
    "            })\n",
    "                    \n",
    "            with rasterio.open(f'{varPath}/{name}_{tileID}.tif','w',**out_meta) as dst:\n",
    "                dst.write(out_image)"
   ]
  },
  {
   "cell_type": "code",
   "execution_count": null,
   "id": "d2ef7516",
   "metadata": {},
   "outputs": [
    {
     "name": "stdout",
     "output_type": "stream",
     "text": [
      "Raster warped and saved to: /data/Aldhani/eoagritwin/et/Auxiliary/DEM/reprojected/ASPECT_GER_LST_WARP.tif\n",
      "Raster warped and saved to: /data/Aldhani/eoagritwin/et/Auxiliary/DEM/reprojected/SLOPE_GER_LST_WARP.tif\n",
      "Raster warped and saved to: /data/Aldhani/eoagritwin/et/Auxiliary/DEM/reprojected/LAT_GER_LST_WARP.tif\n",
      "Raster warped and saved to: /data/Aldhani/eoagritwin/et/Auxiliary/DEM/reprojected/LON_GER_LST_WARP.tif\n"
     ]
    }
   ],
   "source": [
    "# warp DEM, SLOPE, ASPECT, LAT and LON to LST for air temp correction\n",
    "\n",
    "warp_raster_to_reference(f'{DEM_folder}vrt_and_derivates/DEM_GER.vrt',\n",
    "                         '/data/Aldhani/eoagritwin/et/Sentinel3/LST/LST_values/daily_observations_all/2019/Daily_LST_max_2019_April.tif',\n",
    "                         f'{DEM_folder}reprojected/DEM_GER_LST_WARP.tif')\n",
    "\n",
    "warp_raster_to_reference(f'{DEM_folder}reprojected/ASPECT_GER_FORCE_WARP.tif',\n",
    "                         '/data/Aldhani/eoagritwin/et/Sentinel3/LST/LST_values/Acq_time/int_format/2019/Daily_AcqTime_maxLST_2019_April.tif',\n",
    "                         f'{DEM_folder}reprojected/ASPECT_GER_LST_WARP.tif')\n",
    "\n",
    "warp_raster_to_reference(f'{DEM_folder}reprojected/ASPECT_GER_FORCE_WARP.tif',\n",
    "                         '/data/Aldhani/eoagritwin/et/Sentinel3/LST/LST_values/Acq_time/int_format/2019/Daily_AcqTime_maxLST_2019_April.tif',\n",
    "                         f'{DEM_folder}reprojected/ASPECT_GER_LST_WARP.tif')\n",
    "\n",
    "warp_raster_to_reference(f'{DEM_folder}reprojected/SLOPE_GER_FORCE_WARP.tif',\n",
    "                         '/data/Aldhani/eoagritwin/et/Sentinel3/LST/LST_values/Acq_time/int_format/2019/Daily_AcqTime_maxLST_2019_April.tif',\n",
    "                         f'{DEM_folder}reprojected/SLOPE_GER_LST_WARP.tif')\n",
    "\n",
    "warp_raster_to_reference(f'{DEM_folder}vrt_and_derivates/LAT_GER.vrt',\n",
    "                         '/data/Aldhani/eoagritwin/et/Sentinel3/LST/LST_values/Acq_time/int_format/2019/Daily_AcqTime_maxLST_2019_April.tif',\n",
    "                         f'{DEM_folder}reprojected/LAT_GER_LST_WARP.tif')\n",
    "\n",
    "warp_raster_to_reference(f'{DEM_folder}vrt_and_derivates/LON_GER.vrt',\n",
    "                         '/data/Aldhani/eoagritwin/et/Sentinel3/LST/LST_values/Acq_time/int_format/2019/Daily_AcqTime_maxLST_2019_April.tif',\n",
    "                         f'{DEM_folder}reprojected/LON_GER_LST_WARP.tif')"
   ]
  }
 ],
 "metadata": {
  "kernelspec": {
   "display_name": "xdem",
   "language": "python",
   "name": "python3"
  },
  "language_info": {
   "codemirror_mode": {
    "name": "ipython",
    "version": 3
   },
   "file_extension": ".py",
   "mimetype": "text/x-python",
   "name": "python",
   "nbconvert_exporter": "python",
   "pygments_lexer": "ipython3",
   "version": "3.10.18"
  }
 },
 "nbformat": 4,
 "nbformat_minor": 5
}
