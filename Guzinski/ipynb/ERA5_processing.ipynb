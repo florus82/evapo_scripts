{
 "cells": [
  {
   "cell_type": "code",
   "execution_count": 1,
   "id": "0de51d28",
   "metadata": {},
   "outputs": [],
   "source": [
    "import sys\n",
    "sys.path.append('/home/potzschf/repos/')\n",
    "from helperToolz.helpsters import *\n",
    "from helperToolz.evapo import *\n",
    "import cfgrib\n",
    "os.environ[\"PROJ_LIB\"] = \"/data/Aldhani/users/potzschf/conda/envs/cds_era5/share/proj\""
   ]
  },
  {
   "cell_type": "code",
   "execution_count": 2,
   "id": "6d810ee1",
   "metadata": {},
   "outputs": [],
   "source": [
    "# get variables downloaded\n",
    "base_path = '/data/Aldhani/eoagritwin/et/Auxiliary/ERA5/grib/'\n",
    "variables = [name for name in os.listdir(base_path) if os.path.isdir(os.path.join(base_path, name))]"
   ]
  },
  {
   "cell_type": "code",
   "execution_count": 3,
   "id": "de66c6b1",
   "metadata": {},
   "outputs": [],
   "source": [
    "# check out 2m_temperature\n",
    "files = [file for file in getFilelist(os.path.join(base_path, variables[1]), '.grib')]\n",
    "exp_file = files[45]"
   ]
  },
  {
   "cell_type": "code",
   "execution_count": 4,
   "id": "aca60282",
   "metadata": {},
   "outputs": [
    {
     "name": "stderr",
     "output_type": "stream",
     "text": [
      "/data/Aldhani/users/potzschf/conda/envs/cds_era5/lib/python3.12/site-packages/osgeo/gdal.py:311: FutureWarning: Neither gdal.UseExceptions() nor gdal.DontUseExceptions() has been explicitly called. In GDAL 4.0, exceptions will be enabled by default.\n",
      "  warnings.warn(\n"
     ]
    }
   ],
   "source": [
    "warp_ERA5_to_reference(exp_file,\n",
    "                       '/data/Aldhani/eoagritwin/et/Sentinel3/tiffs/LST/daily_observations_all/2020/Daily_LST_medians_2020_September.tif',\n",
    "                       '/data/Aldhani/eoagritwin/et/Auxiliary/ERA5/tiff/', explode=True)"
   ]
  },
  {
   "cell_type": "code",
   "execution_count": 7,
   "id": "660eceb9",
   "metadata": {},
   "outputs": [
    {
     "name": "stdout",
     "output_type": "stream",
     "text": [
      "1593561600\n"
     ]
    },
    {
     "data": {
      "text/plain": [
       "'2020-07-01 00:00:00'"
      ]
     },
     "execution_count": 7,
     "metadata": {},
     "output_type": "execute_result"
    }
   ],
   "source": [
    "ds = gdal.Open(exp_file)\n",
    "band = ds.GetRasterBand(1)\n",
    "val = (band.GetMetadata()['GRIB_VALID_TIME'])\n",
    "print(val)\n",
    "from datetime import datetime, timezone\n",
    "datetime.fromtimestamp(int(val), tz=timezone.utc).strftime('%Y-%m-%d %H:%M:%S')"
   ]
  },
  {
   "cell_type": "code",
   "execution_count": null,
   "id": "cfcdab91",
   "metadata": {},
   "outputs": [],
   "source": [
    " dat = xr.open_dataset(exp_file, decode_timedelta=True)"
   ]
  },
  {
   "cell_type": "code",
   "execution_count": 6,
   "id": "05dd1052",
   "metadata": {},
   "outputs": [
    {
     "data": {
      "text/plain": [
       "31.0"
      ]
     },
     "execution_count": 6,
     "metadata": {},
     "output_type": "execute_result"
    }
   ],
   "source": [
    "744/24"
   ]
  }
 ],
 "metadata": {
  "kernelspec": {
   "display_name": "Python 3",
   "language": "python",
   "name": "python3"
  },
  "language_info": {
   "codemirror_mode": {
    "name": "ipython",
    "version": 3
   },
   "file_extension": ".py",
   "mimetype": "text/x-python",
   "name": "python",
   "nbconvert_exporter": "python",
   "pygments_lexer": "ipython3",
   "version": "3.12.11"
  }
 },
 "nbformat": 4,
 "nbformat_minor": 5
}
