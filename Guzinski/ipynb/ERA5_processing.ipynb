{
 "cells": [
  {
   "cell_type": "code",
   "execution_count": 1,
   "id": "0de51d28",
   "metadata": {},
   "outputs": [],
   "source": [
    "import sys\n",
    "sys.path.append('/home/potzschf/repos/')\n",
    "from helperToolz.helpsters import *\n",
    "from helperToolz.evapo import *\n",
    "from helperToolz.dicts_and_lists import INT_TO_MONTH\n",
    "import cfgrib\n",
    "os.environ[\"PROJ_LIB\"] = \"/data/Aldhani/users/potzschf/conda/envs/cds_era5/share/proj\""
   ]
  },
  {
   "cell_type": "code",
   "execution_count": 2,
   "id": "6d810ee1",
   "metadata": {},
   "outputs": [],
   "source": [
    "# get variables downloaded\n",
    "storPath = '/data/Aldhani/eoagritwin/et/Auxiliary/ERA5/tiff/'\n",
    "base_path = '/data/Aldhani/eoagritwin/et/Auxiliary/ERA5/grib/'\n",
    "dummyTIFF = '/data/Aldhani/eoagritwin/et/Sentinel3/LST/LST_values/daily_observations_all/2020/Daily_LST_medians_2020_September.tif'\n",
    "variables = [name for name in os.listdir(base_path) if os.path.isdir(os.path.join(base_path, name))]"
   ]
  },
  {
   "cell_type": "code",
   "execution_count": null,
   "id": "de66c6b1",
   "metadata": {},
   "outputs": [],
   "source": [
    "# check out 2m_temperature\n",
    "#for variable in variables:\n",
    "variable = '2m_temperature'\n",
    "for year in range(2017, 2025, 1):\n",
    "    files = [file for file in getFilelist(os.path.join(base_path, variable), '.grib') if str(year) in file]\n",
    "    outDir = f'{storPath}{variable}/{year}/'\n",
    "    os.makedirs(outDir, exist_ok=True)\n",
    "\n",
    "    for file in files:\n",
    "        month = INT_TO_MONTH[f'{int(file.split('_')[-1].split('.')[0]):02d}']\n",
    "        warp_ERA5_to_reference(file,\n",
    "                               dummyTIFF,\n",
    "                               f'{outDir}{variable}_{month}.tif')\n"
   ]
  },
  {
   "cell_type": "code",
   "execution_count": 4,
   "id": "347b9645",
   "metadata": {},
   "outputs": [],
   "source": [
    "variable = '2m_temperature'\n",
    "year = 2020\n",
    "files = [file for file in getFilelist(os.path.join(base_path, variable), '.grib') if str(year) in file]"
   ]
  },
  {
   "cell_type": "code",
   "execution_count": 8,
   "id": "3cedfcbf",
   "metadata": {},
   "outputs": [],
   "source": [
    "ds = gdal.Open(files[4])"
   ]
  },
  {
   "cell_type": "code",
   "execution_count": null,
   "id": "aca60282",
   "metadata": {},
   "outputs": [
    {
     "data": {
      "text/plain": [
       "<osgeo.gdal.Dataset; proxy of <Swig Object of type 'GDALDatasetShadow *' at 0x7f04d9946a00> >"
      ]
     },
     "execution_count": 9,
     "metadata": {},
     "output_type": "execute_result"
    }
   ],
   "source": [
    "ds."
   ]
  },
  {
   "cell_type": "code",
   "execution_count": 7,
   "id": "660eceb9",
   "metadata": {},
   "outputs": [
    {
     "name": "stdout",
     "output_type": "stream",
     "text": [
      "1593561600\n"
     ]
    },
    {
     "data": {
      "text/plain": [
       "'2020-07-01 00:00:00'"
      ]
     },
     "execution_count": 7,
     "metadata": {},
     "output_type": "execute_result"
    }
   ],
   "source": [
    "ds = gdal.Open(exp_file)\n",
    "band = ds.GetRasterBand(1)\n",
    "val = (band.GetMetadata()['GRIB_VALID_TIME'])\n",
    "print(val)\n",
    "from datetime import datetime, timezone\n",
    "datetime.fromtimestamp(int(val), tz=timezone.utc).strftime('%Y-%m-%d %H:%M:%S')"
   ]
  },
  {
   "cell_type": "code",
   "execution_count": null,
   "id": "cfcdab91",
   "metadata": {},
   "outputs": [
    {
     "data": {
      "text/plain": [
       "'2m_temperature'"
      ]
     },
     "execution_count": 7,
     "metadata": {},
     "output_type": "execute_result"
    }
   ],
   "source": []
  },
  {
   "cell_type": "code",
   "execution_count": null,
   "id": "05dd1052",
   "metadata": {},
   "outputs": [
    {
     "data": {
      "text/plain": [
       "['/data/Aldhani/eoagritwin/et/Auxiliary/ERA5/grib/2m_temperature/2m_temperature_2017_1.grib',\n",
       " '/data/Aldhani/eoagritwin/et/Auxiliary/ERA5/grib/2m_temperature/2m_temperature_2017_10.grib',\n",
       " '/data/Aldhani/eoagritwin/et/Auxiliary/ERA5/grib/2m_temperature/2m_temperature_2017_11.grib',\n",
       " '/data/Aldhani/eoagritwin/et/Auxiliary/ERA5/grib/2m_temperature/2m_temperature_2017_12.grib',\n",
       " '/data/Aldhani/eoagritwin/et/Auxiliary/ERA5/grib/2m_temperature/2m_temperature_2017_2.grib',\n",
       " '/data/Aldhani/eoagritwin/et/Auxiliary/ERA5/grib/2m_temperature/2m_temperature_2017_3.grib',\n",
       " '/data/Aldhani/eoagritwin/et/Auxiliary/ERA5/grib/2m_temperature/2m_temperature_2017_4.grib',\n",
       " '/data/Aldhani/eoagritwin/et/Auxiliary/ERA5/grib/2m_temperature/2m_temperature_2017_5.grib',\n",
       " '/data/Aldhani/eoagritwin/et/Auxiliary/ERA5/grib/2m_temperature/2m_temperature_2017_6.grib',\n",
       " '/data/Aldhani/eoagritwin/et/Auxiliary/ERA5/grib/2m_temperature/2m_temperature_2017_7.grib',\n",
       " '/data/Aldhani/eoagritwin/et/Auxiliary/ERA5/grib/2m_temperature/2m_temperature_2017_8.grib',\n",
       " '/data/Aldhani/eoagritwin/et/Auxiliary/ERA5/grib/2m_temperature/2m_temperature_2017_9.grib',\n",
       " '/data/Aldhani/eoagritwin/et/Auxiliary/ERA5/grib/2m_temperature/2m_temperature_2018_1.grib',\n",
       " '/data/Aldhani/eoagritwin/et/Auxiliary/ERA5/grib/2m_temperature/2m_temperature_2018_10.grib',\n",
       " '/data/Aldhani/eoagritwin/et/Auxiliary/ERA5/grib/2m_temperature/2m_temperature_2018_11.grib',\n",
       " '/data/Aldhani/eoagritwin/et/Auxiliary/ERA5/grib/2m_temperature/2m_temperature_2018_12.grib',\n",
       " '/data/Aldhani/eoagritwin/et/Auxiliary/ERA5/grib/2m_temperature/2m_temperature_2018_2.grib',\n",
       " '/data/Aldhani/eoagritwin/et/Auxiliary/ERA5/grib/2m_temperature/2m_temperature_2018_3.grib',\n",
       " '/data/Aldhani/eoagritwin/et/Auxiliary/ERA5/grib/2m_temperature/2m_temperature_2018_4.grib',\n",
       " '/data/Aldhani/eoagritwin/et/Auxiliary/ERA5/grib/2m_temperature/2m_temperature_2018_5.grib',\n",
       " '/data/Aldhani/eoagritwin/et/Auxiliary/ERA5/grib/2m_temperature/2m_temperature_2018_6.grib',\n",
       " '/data/Aldhani/eoagritwin/et/Auxiliary/ERA5/grib/2m_temperature/2m_temperature_2018_7.grib',\n",
       " '/data/Aldhani/eoagritwin/et/Auxiliary/ERA5/grib/2m_temperature/2m_temperature_2018_8.grib',\n",
       " '/data/Aldhani/eoagritwin/et/Auxiliary/ERA5/grib/2m_temperature/2m_temperature_2018_9.grib',\n",
       " '/data/Aldhani/eoagritwin/et/Auxiliary/ERA5/grib/2m_temperature/2m_temperature_2019_1.grib',\n",
       " '/data/Aldhani/eoagritwin/et/Auxiliary/ERA5/grib/2m_temperature/2m_temperature_2019_10.grib',\n",
       " '/data/Aldhani/eoagritwin/et/Auxiliary/ERA5/grib/2m_temperature/2m_temperature_2019_11.grib',\n",
       " '/data/Aldhani/eoagritwin/et/Auxiliary/ERA5/grib/2m_temperature/2m_temperature_2019_12.grib',\n",
       " '/data/Aldhani/eoagritwin/et/Auxiliary/ERA5/grib/2m_temperature/2m_temperature_2019_2.grib',\n",
       " '/data/Aldhani/eoagritwin/et/Auxiliary/ERA5/grib/2m_temperature/2m_temperature_2019_3.grib',\n",
       " '/data/Aldhani/eoagritwin/et/Auxiliary/ERA5/grib/2m_temperature/2m_temperature_2019_4.grib',\n",
       " '/data/Aldhani/eoagritwin/et/Auxiliary/ERA5/grib/2m_temperature/2m_temperature_2019_5.grib',\n",
       " '/data/Aldhani/eoagritwin/et/Auxiliary/ERA5/grib/2m_temperature/2m_temperature_2019_6.grib',\n",
       " '/data/Aldhani/eoagritwin/et/Auxiliary/ERA5/grib/2m_temperature/2m_temperature_2019_7.grib',\n",
       " '/data/Aldhani/eoagritwin/et/Auxiliary/ERA5/grib/2m_temperature/2m_temperature_2019_8.grib',\n",
       " '/data/Aldhani/eoagritwin/et/Auxiliary/ERA5/grib/2m_temperature/2m_temperature_2019_9.grib',\n",
       " '/data/Aldhani/eoagritwin/et/Auxiliary/ERA5/grib/2m_temperature/2m_temperature_2020_1.grib',\n",
       " '/data/Aldhani/eoagritwin/et/Auxiliary/ERA5/grib/2m_temperature/2m_temperature_2020_10.grib',\n",
       " '/data/Aldhani/eoagritwin/et/Auxiliary/ERA5/grib/2m_temperature/2m_temperature_2020_11.grib',\n",
       " '/data/Aldhani/eoagritwin/et/Auxiliary/ERA5/grib/2m_temperature/2m_temperature_2020_12.grib',\n",
       " '/data/Aldhani/eoagritwin/et/Auxiliary/ERA5/grib/2m_temperature/2m_temperature_2020_2.grib',\n",
       " '/data/Aldhani/eoagritwin/et/Auxiliary/ERA5/grib/2m_temperature/2m_temperature_2020_3.grib',\n",
       " '/data/Aldhani/eoagritwin/et/Auxiliary/ERA5/grib/2m_temperature/2m_temperature_2020_4.grib',\n",
       " '/data/Aldhani/eoagritwin/et/Auxiliary/ERA5/grib/2m_temperature/2m_temperature_2020_5.grib',\n",
       " '/data/Aldhani/eoagritwin/et/Auxiliary/ERA5/grib/2m_temperature/2m_temperature_2020_6.grib',\n",
       " '/data/Aldhani/eoagritwin/et/Auxiliary/ERA5/grib/2m_temperature/2m_temperature_2020_7.grib',\n",
       " '/data/Aldhani/eoagritwin/et/Auxiliary/ERA5/grib/2m_temperature/2m_temperature_2020_8.grib',\n",
       " '/data/Aldhani/eoagritwin/et/Auxiliary/ERA5/grib/2m_temperature/2m_temperature_2020_9.grib',\n",
       " '/data/Aldhani/eoagritwin/et/Auxiliary/ERA5/grib/2m_temperature/2m_temperature_2021_1.grib',\n",
       " '/data/Aldhani/eoagritwin/et/Auxiliary/ERA5/grib/2m_temperature/2m_temperature_2021_10.grib',\n",
       " '/data/Aldhani/eoagritwin/et/Auxiliary/ERA5/grib/2m_temperature/2m_temperature_2021_11.grib',\n",
       " '/data/Aldhani/eoagritwin/et/Auxiliary/ERA5/grib/2m_temperature/2m_temperature_2021_12.grib',\n",
       " '/data/Aldhani/eoagritwin/et/Auxiliary/ERA5/grib/2m_temperature/2m_temperature_2021_2.grib',\n",
       " '/data/Aldhani/eoagritwin/et/Auxiliary/ERA5/grib/2m_temperature/2m_temperature_2021_3.grib',\n",
       " '/data/Aldhani/eoagritwin/et/Auxiliary/ERA5/grib/2m_temperature/2m_temperature_2021_4.grib',\n",
       " '/data/Aldhani/eoagritwin/et/Auxiliary/ERA5/grib/2m_temperature/2m_temperature_2021_5.grib',\n",
       " '/data/Aldhani/eoagritwin/et/Auxiliary/ERA5/grib/2m_temperature/2m_temperature_2021_6.grib',\n",
       " '/data/Aldhani/eoagritwin/et/Auxiliary/ERA5/grib/2m_temperature/2m_temperature_2021_7.grib',\n",
       " '/data/Aldhani/eoagritwin/et/Auxiliary/ERA5/grib/2m_temperature/2m_temperature_2021_8.grib',\n",
       " '/data/Aldhani/eoagritwin/et/Auxiliary/ERA5/grib/2m_temperature/2m_temperature_2021_9.grib',\n",
       " '/data/Aldhani/eoagritwin/et/Auxiliary/ERA5/grib/2m_temperature/2m_temperature_2022_1.grib',\n",
       " '/data/Aldhani/eoagritwin/et/Auxiliary/ERA5/grib/2m_temperature/2m_temperature_2022_10.grib',\n",
       " '/data/Aldhani/eoagritwin/et/Auxiliary/ERA5/grib/2m_temperature/2m_temperature_2022_11.grib',\n",
       " '/data/Aldhani/eoagritwin/et/Auxiliary/ERA5/grib/2m_temperature/2m_temperature_2022_12.grib',\n",
       " '/data/Aldhani/eoagritwin/et/Auxiliary/ERA5/grib/2m_temperature/2m_temperature_2022_2.grib',\n",
       " '/data/Aldhani/eoagritwin/et/Auxiliary/ERA5/grib/2m_temperature/2m_temperature_2022_3.grib',\n",
       " '/data/Aldhani/eoagritwin/et/Auxiliary/ERA5/grib/2m_temperature/2m_temperature_2022_4.grib',\n",
       " '/data/Aldhani/eoagritwin/et/Auxiliary/ERA5/grib/2m_temperature/2m_temperature_2022_5.grib',\n",
       " '/data/Aldhani/eoagritwin/et/Auxiliary/ERA5/grib/2m_temperature/2m_temperature_2022_6.grib',\n",
       " '/data/Aldhani/eoagritwin/et/Auxiliary/ERA5/grib/2m_temperature/2m_temperature_2022_7.grib',\n",
       " '/data/Aldhani/eoagritwin/et/Auxiliary/ERA5/grib/2m_temperature/2m_temperature_2022_8.grib',\n",
       " '/data/Aldhani/eoagritwin/et/Auxiliary/ERA5/grib/2m_temperature/2m_temperature_2022_9.grib',\n",
       " '/data/Aldhani/eoagritwin/et/Auxiliary/ERA5/grib/2m_temperature/2m_temperature_2023_1.grib',\n",
       " '/data/Aldhani/eoagritwin/et/Auxiliary/ERA5/grib/2m_temperature/2m_temperature_2023_10.grib',\n",
       " '/data/Aldhani/eoagritwin/et/Auxiliary/ERA5/grib/2m_temperature/2m_temperature_2023_11.grib',\n",
       " '/data/Aldhani/eoagritwin/et/Auxiliary/ERA5/grib/2m_temperature/2m_temperature_2023_12.grib',\n",
       " '/data/Aldhani/eoagritwin/et/Auxiliary/ERA5/grib/2m_temperature/2m_temperature_2023_2.grib',\n",
       " '/data/Aldhani/eoagritwin/et/Auxiliary/ERA5/grib/2m_temperature/2m_temperature_2023_3.grib',\n",
       " '/data/Aldhani/eoagritwin/et/Auxiliary/ERA5/grib/2m_temperature/2m_temperature_2023_4.grib',\n",
       " '/data/Aldhani/eoagritwin/et/Auxiliary/ERA5/grib/2m_temperature/2m_temperature_2023_5.grib',\n",
       " '/data/Aldhani/eoagritwin/et/Auxiliary/ERA5/grib/2m_temperature/2m_temperature_2023_6.grib',\n",
       " '/data/Aldhani/eoagritwin/et/Auxiliary/ERA5/grib/2m_temperature/2m_temperature_2023_7.grib',\n",
       " '/data/Aldhani/eoagritwin/et/Auxiliary/ERA5/grib/2m_temperature/2m_temperature_2023_8.grib',\n",
       " '/data/Aldhani/eoagritwin/et/Auxiliary/ERA5/grib/2m_temperature/2m_temperature_2023_9.grib',\n",
       " '/data/Aldhani/eoagritwin/et/Auxiliary/ERA5/grib/2m_temperature/2m_temperature_2024_1.grib',\n",
       " '/data/Aldhani/eoagritwin/et/Auxiliary/ERA5/grib/2m_temperature/2m_temperature_2024_10.grib',\n",
       " '/data/Aldhani/eoagritwin/et/Auxiliary/ERA5/grib/2m_temperature/2m_temperature_2024_11.grib',\n",
       " '/data/Aldhani/eoagritwin/et/Auxiliary/ERA5/grib/2m_temperature/2m_temperature_2024_12.grib',\n",
       " '/data/Aldhani/eoagritwin/et/Auxiliary/ERA5/grib/2m_temperature/2m_temperature_2024_2.grib',\n",
       " '/data/Aldhani/eoagritwin/et/Auxiliary/ERA5/grib/2m_temperature/2m_temperature_2024_3.grib',\n",
       " '/data/Aldhani/eoagritwin/et/Auxiliary/ERA5/grib/2m_temperature/2m_temperature_2024_4.grib',\n",
       " '/data/Aldhani/eoagritwin/et/Auxiliary/ERA5/grib/2m_temperature/2m_temperature_2024_5.grib',\n",
       " '/data/Aldhani/eoagritwin/et/Auxiliary/ERA5/grib/2m_temperature/2m_temperature_2024_6.grib',\n",
       " '/data/Aldhani/eoagritwin/et/Auxiliary/ERA5/grib/2m_temperature/2m_temperature_2024_7.grib',\n",
       " '/data/Aldhani/eoagritwin/et/Auxiliary/ERA5/grib/2m_temperature/2m_temperature_2024_8.grib',\n",
       " '/data/Aldhani/eoagritwin/et/Auxiliary/ERA5/grib/2m_temperature/2m_temperature_2024_9.grib']"
      ]
     },
     "execution_count": 4,
     "metadata": {},
     "output_type": "execute_result"
    }
   ],
   "source": []
  }
 ],
 "metadata": {
  "kernelspec": {
   "display_name": "cds_era5",
   "language": "python",
   "name": "python3"
  },
  "language_info": {
   "codemirror_mode": {
    "name": "ipython",
    "version": 3
   },
   "file_extension": ".py",
   "mimetype": "text/x-python",
   "name": "python",
   "nbconvert_exporter": "python",
   "pygments_lexer": "ipython3",
   "version": "3.12.11"
  }
 },
 "nbformat": 4,
 "nbformat_minor": 5
}
