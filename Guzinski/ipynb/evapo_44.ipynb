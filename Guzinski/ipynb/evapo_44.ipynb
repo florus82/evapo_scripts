{
 "cells": [
  {
   "cell_type": "code",
   "execution_count": 1,
   "id": "671231ad",
   "metadata": {},
   "outputs": [],
   "source": [
    "import sys\n",
    "sys.path.append('/home/potzschf/repos/')\n",
    "from helperToolz.helpsters import *\n",
    "from helperToolz.dicts_and_lists import *\n",
    "from helperToolz.guzinski import * \n",
    "from helperToolz.mirmazloumi import *\n",
    "from pympler import asizeof\n",
    "from other_repos.pyTSEB.pyTSEB import meteo_utils\n",
    "from other_repos.pyTSEB.pyTSEB import resistances\n",
    "from other_repos.pyTSEB.pyTSEB import net_radiation\n",
    "from other_repos.pyTSEB.pyTSEB import clumping_index \n",
    "from other_repos.pyTSEB.pyTSEB import TSEB\n",
    "import rasterio"
   ]
  },
  {
   "cell_type": "code",
   "execution_count": 2,
   "id": "058a65c8",
   "metadata": {},
   "outputs": [],
   "source": [
    "base_path = '/data/Aldhani/eoagritwin/et/Sentinel3/LST/LST_values/sharpened/'\n",
    "\n",
    "folders = ['S2only', 'all_preds']\n",
    "\n",
    "comps = ['maxLST', 'minVZA']\n",
    "\n",
    "days = [f'July_{i:02d}' for i in range(1,10,1)]\n",
    "\n",
    "masks = ['S2Masked_withLSTmask', 'S2Masked_withoutLSTmask', 'S2notMasked_withLSTmask', 'S2notMasked_withoutLSTmask']"
   ]
  },
  {
   "cell_type": "code",
   "execution_count": 3,
   "id": "f6e478cc",
   "metadata": {},
   "outputs": [],
   "source": [
    "file_dict = {}\n",
    "\n",
    "for folder in folders:\n",
    "    for comp in comps:\n",
    "        for day in days:\n",
    "            for mask in masks:\n",
    "                key = (folder, comp, day, mask)\n",
    "                file_list = [\n",
    "                    file for file in getFilelist(base_path + folder, '.tif', deep=True)\n",
    "                    if comp in file and day in file and mask in file and 'resid' not in file\n",
    "                ]\n",
    "                file_dict[key] = file_list"
   ]
  },
  {
   "cell_type": "code",
   "execution_count": 4,
   "id": "0ad38b5e",
   "metadata": {},
   "outputs": [],
   "source": [
    "LST_files = file_dict[('all_preds', 'minVZA', 'July_09', 'S2notMasked_withoutLSTmask')]"
   ]
  },
  {
   "cell_type": "code",
   "execution_count": 13,
   "id": "641564a1",
   "metadata": {},
   "outputs": [
    {
     "name": "stdout",
     "output_type": "stream",
     "text": [
      "temperature will be processed before surface pressure - continue\n"
     ]
    }
   ],
   "source": [
    "# set the year, month and day to estimate evapotranspiration for\n",
    "year = 2019\n",
    "month = 'July'\n",
    "day = 9\n",
    "comp = 'minVZA'\n",
    "\n",
    "# set output path\n",
    "tempOut = '/data/Aldhani/eoagritwin/et/Auxiliary/trash/44/'\n",
    "\n",
    "# set the parameters from sharpener\n",
    "mvwin = 0\n",
    "cv = 15\n",
    "regrat = 25\n",
    "s2_masked = False\n",
    "lst_masked = False\n",
    "\n",
    "if s2_masked:\n",
    "    s2Mask = 'S2Masked'\n",
    "else:\n",
    "    s2Mask = 'S2notMasked'\n",
    "\n",
    "if lst_masked:\n",
    "    lstMask = 'withLSTmask'\n",
    "else:\n",
    "    lstMask = 'withoutLSTmask'\n",
    "\n",
    "# path to era5 raw data\n",
    "era5_path = '/data/Aldhani/eoagritwin/et/Auxiliary/ERA5/grib/'\n",
    "ssrd_mean_path = '/data/Aldhani/eoagritwin/et/Auxiliary/ERA5/ssrd_mean_calc/'\n",
    "\n",
    "\n",
    "# the LST acquisition time should determine which sharpened LST files are associatedto be processed (as they are associated with it)\n",
    "LST_acq_file = f'/data/Aldhani/eoagritwin/et/Sentinel3/LST/LST_values/Acq_time/int_format/{year}/Daily_AcqTime_{comp}_{year}_{month}.tif' # epsg 4326\n",
    "\n",
    "# the VZA at the time of LST acquisition is need\n",
    "VZA_at_acq_file = f'/data/Aldhani/eoagritwin/et/Sentinel3/VZA/comp/{comp}/{year}/Daily_VZA_{comp}_{year}_{month}.tif' # epsg 4326\n",
    "\n",
    "# the DEM, SLOPE, ASPECT, LAT, LON will be used to sharpen some of the era5 variables (the the resolution of the DEM)\n",
    "dem_path = '/data/Aldhani/eoagritwin/et/Auxiliary/DEM/reprojected/DEM_GER_LST_WARP.tif' # epsg 4326\n",
    "slope_path = '/data/Aldhani/eoagritwin/et/Auxiliary/DEM/reprojected/SLOPE_GER_LST_WARP.tif' # epsg 4326\n",
    "aspect_path = '/data/Aldhani/eoagritwin/et/Auxiliary/DEM/reprojected/ASPECT_GER_LST_WARP.tif' # epsg 4326\n",
    "lat_path = '/data/Aldhani/eoagritwin/et/Auxiliary/DEM/reprojected/LAT_GER_LST_WARP.tif' # epsg 4326\n",
    "lon_path = '/data/Aldhani/eoagritwin/et/Auxiliary/DEM/reprojected/LON_GER_LST_WARP.tif' # epsg 4326\n",
    "\n",
    "# the geopotential is needed for the sharpening as well\n",
    "geopot_path = '/data/Aldhani/eoagritwin/et/Auxiliary/ERA5/tiff/low_res/geopotential/geopotential_low_res.tif' # epsg 4326\n",
    "\n",
    "# sharpened LST\n",
    "LST_file = LST_files[0]\n",
    "# for NDVI calculation (estimating LAI and others) and warping to S2 resolution, we use the S2 composite used for sharpening\n",
    "\n",
    "# S2_file = f'/data/Aldhani/eoagritwin/et/Sentinel3/LST/LST_values/tempDump/{LST_file.split(f'/{comp}')[0].split('/')[-1]}/HIGHRES_{comp}_{year}_{month}_{day:02d}_watermask.tif'\n",
    "S2_file = f'/data/Aldhani/eoagritwin/et/Sentinel3/LST/LST_values/tempDump/{LST_file.split(f'/{comp}')[0].split('/')[-1]}/S2_20190705.vrt'\n",
    "# find era5 file that matches the month of LST observation\n",
    "valid_variables = sorted(list(dict.fromkeys(file.split('/')[-2] for file in getFilelist(era5_path, '.grib', deep=True) \\\n",
    "                                   if not any(var in file for var in ['geopotential', 'total_column_water_vapour']))))\n",
    "\n",
    "# get a list for those era5 files that match the year and month of the provided LST acquisition file\n",
    "era5_path_list = find_grib_file(getFilelist(era5_path, '.grib', deep=True), LST_acq_file)\n",
    "era5_path_list = [path for path in era5_path_list if any(variable in path for variable in valid_variables)] # era5 are epsg 4326 and still will be after warping to doy\n",
    "temp_pressure_checker(era5_path_list)"
   ]
  },
  {
   "cell_type": "code",
   "execution_count": 6,
   "id": "7cd75f75",
   "metadata": {},
   "outputs": [
    {
     "name": "stderr",
     "output_type": "stream",
     "text": [
      "/data/Aldhani/users/potzschf/conda/envs/cds_era5/lib/python3.12/site-packages/osgeo/gdal.py:311: FutureWarning: Neither gdal.UseExceptions() nor gdal.DontUseExceptions() has been explicitly called. In GDAL 4.0, exceptions will be enabled by default.\n",
      "  warnings.warn(\n"
     ]
    }
   ],
   "source": [
    "# warp datasets needed for calculations to the spatial extent of the sharpened LST\n",
    "LST_acq_spatial_sub = warp_raster_to_reference(source_path=LST_acq_file, reference_path=S2_file, output_path='MEM', resampling='near', keepRes=True)\n",
    "VZA_at_acq_file_sub = warp_raster_to_reference(source_path=VZA_at_acq_file, reference_path=S2_file, output_path='MEM', resampling='bilinear', keepRes=True)\n",
    "dem_sub = warp_raster_to_reference(source_path=dem_path, reference_path=S2_file, output_path='MEM', resampling='bilinear', keepRes=True)\n",
    "slope_sub  = warp_raster_to_reference(source_path=slope_path, reference_path=S2_file, output_path='MEM', resampling='bilinear', keepRes=True)\n",
    "aspect_sub = warp_raster_to_reference(source_path=aspect_path, reference_path=S2_file, output_path='MEM', resampling='bilinear', keepRes=True)\n",
    "lat_sub = warp_raster_to_reference(source_path=lat_path, reference_path=S2_file, output_path='MEM', resampling='bilinear', keepRes=True)\n",
    "lon_sub = warp_raster_to_reference(source_path=lon_path, reference_path=S2_file, output_path='MEM', resampling='bilinear', keepRes=True)\n",
    "geopot_sub = warp_raster_to_reference(source_path=geopot_path, reference_path=S2_file, output_path='MEM', resampling='bilinear', keepRes=True)"
   ]
  },
  {
   "cell_type": "code",
   "execution_count": 7,
   "id": "34795eda",
   "metadata": {},
   "outputs": [
    {
     "name": "stdout",
     "output_type": "stream",
     "text": [
      "processing /data/Aldhani/eoagritwin/et/Auxiliary/ERA5/grib/100m_u_component_of_wind/100m_u_component_of_wind_2019_7.grib\n",
      "processing /data/Aldhani/eoagritwin/et/Auxiliary/ERA5/grib/100m_v_component_of_wind/100m_v_component_of_wind_2019_7.grib\n",
      "processing /data/Aldhani/eoagritwin/et/Auxiliary/ERA5/grib/2m_dewpoint_temperature/2m_dewpoint_temperature_2019_7.grib\n",
      "Adiabatic Sharpener will be applied\n",
      "processing /data/Aldhani/eoagritwin/et/Auxiliary/ERA5/grib/2m_temperature/2m_temperature_2019_7.grib\n",
      "Adiabatic Sharpener will be applied\n",
      "processing /data/Aldhani/eoagritwin/et/Auxiliary/ERA5/grib/surface_pressure/surface_pressure_2019_7.grib\n",
      "Barometric Sharpener will be applied\n"
     ]
    },
    {
     "name": "stderr",
     "output_type": "stream",
     "text": [
      "/home/potzschf/repos/helperToolz/guzinski.py:636: RuntimeWarning: divide by zero encountered in divide\n",
      "  ratio = (era5_corrected_Temp - STANDARD_ADIABAT * delta_z) / era5_corrected_Temp\n",
      "/home/potzschf/repos/helperToolz/guzinski.py:360: RuntimeWarning: All-NaN slice encountered\n",
      "  return np.nanmax(block, axis = 2)\n"
     ]
    },
    {
     "name": "stdout",
     "output_type": "stream",
     "text": [
      "processing /data/Aldhani/eoagritwin/et/Auxiliary/ERA5/grib/surface_solar_radiation_downward_clear_sky/surface_solar_radiation_downward_clear_sky_2019_7.grib\n"
     ]
    },
    {
     "name": "stderr",
     "output_type": "stream",
     "text": [
      "/home/potzschf/repos/helperToolz/guzinski.py:525: RuntimeWarning: All-NaN slice encountered\n",
      "  ssrd_watt = np.nanmax(block, axis = 2)\n"
     ]
    }
   ],
   "source": [
    "# load the era5 variable into cache at LST resolution and read-in the modelled times (one time step per band)\n",
    "for path in era5_path_list:\n",
    "    print(f'processing {path}')\n",
    "    # check if DEM sharpener needs to be applied\n",
    "    if '100m_u_component_of_wind' in path:\n",
    "        # do the warping without sharpening\n",
    "        wind100_u = get_warped_ERA5_at_doy(path_to_era_grib=path, reference_path=LST_acq_spatial_sub, lst_acq_file=LST_acq_spatial_sub, doy=day)\n",
    "\n",
    "    elif '100m_v_component_of_wind' in path:\n",
    "               # do the warping without sharpening\n",
    "        wind100_v = get_warped_ERA5_at_doy(path_to_era_grib=path, reference_path=LST_acq_spatial_sub, lst_acq_file=LST_acq_spatial_sub, doy=day)\n",
    "\n",
    "    # elif 'geopotential' in path:\n",
    "    #     # do the warping without sharpening\n",
    "    #     geopot = get_warped_ERA5_at_doy(path_to_era_grib=path, lst_acq_file=LST_acq_file, doy=day)\n",
    "\n",
    "    elif 'downward' in path: # terrain correction included\n",
    "        ssrd, szenith, sazimuth, ssrd_nc = get_ssrdsc_warped_and_corrected_at_doy(path_to_ssrdsc_grib=path, reference_path=LST_acq_spatial_sub, \n",
    "                                                                         lst_acq_file=LST_acq_spatial_sub, doy=day, \n",
    "                                                                         slope_path=slope_sub,\n",
    "                                                                         aspect_path=aspect_sub,\n",
    "                                                                         dem_path=dem_sub,\n",
    "                                                                         lat_path=lat_sub,\n",
    "                                                                         lon_path=lon_sub)\n",
    "\n",
    "    elif '2m_temperature' in path: # DEM and adiabatic sharpening, following Guzinski 2021\n",
    "        air_temp = get_warped_ERA5_at_doy(path_to_era_grib=path, reference_path=LST_acq_spatial_sub, \n",
    "                                          lst_acq_file=LST_acq_spatial_sub, doy=day,\n",
    "                                          sharp_blendheight=100,\n",
    "                                          sharp_DEM=dem_sub,\n",
    "                                          sharp_geopot=geopot_sub,\n",
    "                                          sharp_rate=STANDARD_ADIABAT,\n",
    "                                          sharpener='adiabatic')\n",
    "\n",
    "    elif '2m_dewpoint_temperature' in path: # DEM and adiabatic sharpening, following Guzinski 2021\n",
    "        dew_temp = get_warped_ERA5_at_doy(path_to_era_grib=path, reference_path=LST_acq_spatial_sub, \n",
    "                                          lst_acq_file=LST_acq_spatial_sub, doy=day,\n",
    "                                          sharp_blendheight=100,\n",
    "                                          sharp_DEM=dem_sub,\n",
    "                                          sharp_geopot=geopot_sub,\n",
    "                                          sharp_rate=MOIST_ADIABAT,\n",
    "                                          sharpener='adiabatic')\n",
    "\n",
    "    else: \n",
    "        # do warping with DEM sharpening only\n",
    "        # sanity check\n",
    "        if not 'surface_pressure' in path:\n",
    "            raise ValueError('There is and unattended ERA5 variable in the loop - CHECK!!!!')\n",
    "        else:\n",
    "            sp = get_warped_ERA5_at_doy(path_to_era_grib=path, reference_path=LST_acq_spatial_sub, \n",
    "                                        lst_acq_file=LST_acq_spatial_sub, doy=day,\n",
    "                                        sharp_DEM=dem_sub,\n",
    "                                        sharp_blendheight=100,\n",
    "                                        sharp_geopot=geopot_sub,\n",
    "                                        sharp_temp=air_temp,\n",
    "                                        sharpener='barometric')\n",
    "\n",
    "# load the mean ssrd\n",
    "ds = gdal.Open(f'{ssrd_mean_path}surface_solar_radiation_downward_clear_sky_{year}_{int(MONTH_TO_02D[month])}')\n",
    "ssrd_mean = ds.GetRasterBand(day).ReadAsArray() / 3600"
   ]
  },
  {
   "cell_type": "code",
   "execution_count": 20,
   "id": "d31dbd29",
   "metadata": {},
   "outputs": [
    {
     "name": "stdout",
     "output_type": "stream",
     "text": [
      "Adiabatic Sharpener will be applied\n"
     ]
    }
   ],
   "source": [
    "era5_path_list[3]\n",
    "air_temp = get_warped_ERA5_at_doy(path_to_era_grib=era5_path_list[3], reference_path=LST_acq_spatial_sub, \n",
    "                                    lst_acq_file=LST_acq_spatial_sub, doy=day,\n",
    "                                    outPath=f'{tempOut}aircheck.tif',\n",
    "                                    sharp_blendheight=100,\n",
    "                                    sharp_DEM=dem_sub,\n",
    "                                    sharp_geopot=geopot_sub,\n",
    "                                    sharp_rate=STANDARD_ADIABAT,\n",
    "                                    sharpener='adiabatic')"
   ]
  },
  {
   "cell_type": "code",
   "execution_count": 21,
   "id": "a3736a40",
   "metadata": {},
   "outputs": [
    {
     "data": {
      "text/plain": [
       "'/data/Aldhani/eoagritwin/et/Sentinel3/LST/LST_values/Acq_time/int_format/2019/Daily_AcqTime_minVZA_2019_July.tif'"
      ]
     },
     "execution_count": 21,
     "metadata": {},
     "output_type": "execute_result"
    }
   ],
   "source": [
    "LST_acq_file"
   ]
  },
  {
   "cell_type": "code",
   "execution_count": null,
   "id": "2372a8cf",
   "metadata": {},
   "outputs": [],
   "source": [
    "era_ds = checkPath(f'{tempOut}aircheck.tif')\n",
    "lst_acq_file=LST_acq_spatial_sub\n",
    "doy=day"
   ]
  },
  {
   "cell_type": "code",
   "execution_count": null,
   "id": "699b78e8",
   "metadata": {},
   "outputs": [],
   "source": [
    "bandNumber = era_ds.RasterCount\n",
    "era_time = [pd.Timestamp(era_ds.GetRasterBand(i+1).GetDescription()) for i in range(bandNumber)]\n",
    "\n",
    "# open and load the acquisition raster from LST\n",
    "LST_acq_ds = checkPath(lst_acq_file)\n",
    "\n",
    "# her should be a loop if we go for more than one day\n",
    "arr = LST_acq_ds.GetRasterBand(doy).ReadAsArray()\n",
    "arr = arr.astype(np.int64)\n",
    "arr_flat = arr.ravel()\n",
    "arr_ts = pd.to_datetime(arr_flat, unit='s')\n",
    "arr_up = pd.Series(arr_ts).dt.ceil('h')\n",
    "arr_up = arr_up.values.reshape(arr.shape)\n",
    "arr_min = pd.Series(arr_ts).dt.minute\n",
    "arr_min = arr_min.values.reshape(arr.shape)\n",
    "\n",
    "# get the relevant bands of era5 dataset (i.e. those bands, that reflect the upper and lower )\n",
    "bands = []\n",
    "for d1 in np.unique(arr_up):\n",
    "    for count, e5 in enumerate(era_time):\n",
    "        if d1 == e5:\n",
    "            bands.append(count)\n",
    "\n",
    "# load the era5 variable acquisition-wise into 2D numpy array \n",
    "arrL = []\n",
    "for b in bands:\n",
    "    # compare the time of LST composite with \n",
    "    mask = arr_up == era_time[b]\n",
    "    # load the band that holds the observation just after LST acquisition\n",
    "    after = era_ds.GetRasterBand(b).ReadAsArray()\n",
    "    # load the band that holds the observation just prior to LST acquisition\n",
    "    before = era_ds.GetRasterBand(b-1).ReadAsArray()\n",
    "    # calculate the linearly interpolated values at the minute of acquisition\n",
    "    vals = before - (before - after) * (np.array(arr_min, dtype=np.float16) / 60)\n",
    "    arrL.append(vals * mask)\n",
    "block = np.dstack(arrL)\n",
    "\n",
    "result = np.nanmax(block, axis = 2)"
   ]
  },
  {
   "cell_type": "code",
   "execution_count": 9,
   "id": "4fa55e66",
   "metadata": {},
   "outputs": [],
   "source": [
    "for path in era5_path_list:\n",
    "    if 'downward' in path:\n",
    "        # do the warping without sharpening\n",
    "        ssrd_orig = get_warped_ERA5_at_doy(path_to_era_grib=path, reference_path=LST_acq_spatial_sub, lst_acq_file=LST_acq_spatial_sub, doy=day)"
   ]
  },
  {
   "cell_type": "code",
   "execution_count": 10,
   "id": "b4a675b8",
   "metadata": {},
   "outputs": [
    {
     "data": {
      "text/plain": [
       "np.float32(62.594757)"
      ]
     },
     "execution_count": 10,
     "metadata": {},
     "output_type": "execute_result"
    }
   ],
   "source": [
    "ssrd_orig[0,0] / 3600"
   ]
  },
  {
   "cell_type": "code",
   "execution_count": 11,
   "id": "54408892",
   "metadata": {},
   "outputs": [],
   "source": [
    "# bring all variables down to 20m\n",
    "wind100_u_20 = warp_np_to_reference(wind100_u, LST_acq_spatial_sub, LST_file)\n",
    "wind100_v_20 = warp_np_to_reference(wind100_v, LST_acq_spatial_sub, LST_file)\n",
    "ssrd_20 = warp_np_to_reference(ssrd, LST_acq_spatial_sub, LST_file) # check this too!!!!!!\n",
    "ssrd_mean_20 = warp_np_to_reference(ssrd_mean, f'{ssrd_mean_path}surface_solar_radiation_downward_clear_sky_{year}_{int(MONTH_TO_02D[month])}', LST_file) # check this too!!!!!!\n",
    "air_temp_20 = warp_np_to_reference(air_temp, LST_acq_spatial_sub, LST_file)\n",
    "dew_temp_20 = warp_np_to_reference(dew_temp, LST_acq_spatial_sub, LST_file)\n",
    "sp_20 = warp_np_to_reference(sp, LST_acq_spatial_sub, LST_file)\n",
    "szenith_20 = warp_np_to_reference(szenith, LST_acq_spatial_sub, LST_file)\n",
    "sazimuth_20 = warp_np_to_reference(sazimuth, LST_acq_spatial_sub, LST_file)\n",
    "\n",
    "# calculate windspeed\n",
    "wind_speed_20 = calc_wind_speed(wind100_u_20, wind100_v_20) # check if this really works\n",
    "\n",
    "# load vza\n",
    "vza_ds = warp_raster_to_reference(VZA_at_acq_file_sub, LST_file, output_path='MEM', resampling='bilinear')\n",
    "vza_20 = vza_ds.GetRasterBand(1).ReadAsArray()\n",
    "# load sharpened LST\n",
    "lst_ds = gdal.Open(LST_file)\n",
    "lst_20 =lst_ds.GetRasterBand(1).ReadAsArray()\n",
    "\n",
    "del wind100_u, wind100_v, ssrd, air_temp, dew_temp, sp, wind100_u_20, wind100_v_20, szenith, sazimuth, ssrd_mean"
   ]
  },
  {
   "cell_type": "code",
   "execution_count": 12,
   "id": "4fad2652",
   "metadata": {},
   "outputs": [],
   "source": [
    "npTOdisk(ssrd_mean_20, LST_file, f'{tempOut}SSRD_mean.tif', bands = 1)\n",
    "npTOdisk(ssrd_20, LST_file, f'{tempOut}SSRD.tif', bands = 1)\n",
    "npTOdisk(air_temp_20, LST_file, f'{tempOut}TEMP.tif', bands = 1)\n",
    "npTOdisk(dew_temp_20, LST_file, f'{tempOut}DEW.tif', bands = 1)\n",
    "npTOdisk(sp_20, LST_file, f'{tempOut}SP.tif', bands = 1)\n",
    "npTOdisk(szenith_20, LST_file, f'{tempOut}ZEN.tif', bands = 1)\n",
    "npTOdisk(sazimuth_20, LST_file, f'{tempOut}AZI.tif', bands = 1)\n",
    "npTOdisk(wind_speed_20, LST_file, f'{tempOut}WSPEED.tif', bands = 1)\n",
    "npTOdisk(lst_20, LST_file, f'{tempOut}LST.tif', bands = 1)\n",
    "npTOdisk(vza_20, LST_file, f'{tempOut}VZA.tif', bands = 1)"
   ]
  },
  {
   "cell_type": "code",
   "execution_count": 14,
   "id": "d5c739ae",
   "metadata": {},
   "outputs": [],
   "source": [
    "condition = (air_temp_20 > 0) & (dew_temp_20 > 0)  & (sp_20 > 0) & (szenith_20 > 0) & (sazimuth_20 > 0) & (wind_speed_20 > 0) & (lst_20 > 0) & (vza_20 > 0)\n",
    "ssrd_20[~condition] = np.nan\n",
    "ssrd_mean_20[~condition] = np.nan\n",
    "air_temp_20[~condition] = np.nan\n",
    "dew_temp_20[~condition] = np.nan\n",
    "sp_20[~condition] = np.nan\n",
    "szenith_20[~condition] = np.nan\n",
    "sazimuth_20[~condition] = np.nan\n",
    "wind_speed_20[~condition] = np.nan\n",
    "# lst_20 = np.ma.masked_where(~condition, lst_20)\n",
    "# vza_20 = np.ma.masked_where(~condition, vza_20)\n",
    "lst_20[~condition] = np.nan\n",
    "vza_20[~condition] = np.nan"
   ]
  },
  {
   "cell_type": "code",
   "execution_count": 15,
   "id": "d20ac089",
   "metadata": {},
   "outputs": [],
   "source": [
    "npTOdisk(ssrd_mean_20, LST_file, f'{tempOut}SSRD_mean_mask.tif', bands = 1)\n",
    "npTOdisk(ssrd_20, LST_file, f'{tempOut}SSRD_mask.tif', bands = 1)\n",
    "npTOdisk(air_temp_20, LST_file, f'{tempOut}TEMP_mask.tif', bands = 1)\n",
    "npTOdisk(dew_temp_20, LST_file, f'{tempOut}DEW_mask.tif', bands = 1)\n",
    "npTOdisk(sp_20, LST_file, f'{tempOut}SP_mask.tif', bands = 1)\n",
    "npTOdisk(szenith_20, LST_file, f'{tempOut}ZEN_mask.tif', bands = 1)\n",
    "npTOdisk(sazimuth_20, LST_file, f'{tempOut}AZI_mask.tif', bands = 1)\n",
    "npTOdisk(wind_speed_20, LST_file, f'{tempOut}WSPEED_mask.tif', bands = 1)\n",
    "npTOdisk(lst_20, LST_file, f'{tempOut}LST_mask.tif', bands = 1)\n",
    "npTOdisk(vza_20, LST_file, f'{tempOut}VZA_mask.tif', bands = 1)"
   ]
  },
  {
   "cell_type": "code",
   "execution_count": 44,
   "id": "a094fd86",
   "metadata": {},
   "outputs": [
    {
     "ename": "NameError",
     "evalue": "name 'nir' is not defined",
     "output_type": "error",
     "traceback": [
      "\u001b[31m---------------------------------------------------------------------------\u001b[39m",
      "\u001b[31mNameError\u001b[39m                                 Traceback (most recent call last)",
      "\u001b[36mCell\u001b[39m\u001b[36m \u001b[39m\u001b[32mIn[44]\u001b[39m\u001b[32m, line 10\u001b[39m\n\u001b[32m      8\u001b[39m     \u001b[38;5;28;01melse\u001b[39;00m:\n\u001b[32m      9\u001b[39m         \u001b[38;5;28;01mcontinue\u001b[39;00m\n\u001b[32m---> \u001b[39m\u001b[32m10\u001b[39m ndvi_20 = (\u001b[43mnir\u001b[49m - red) / (nir + red)\n\u001b[32m     11\u001b[39m ndvi_20_ma = np.ma.masked_invalid(ndvi_20)\n\u001b[32m     12\u001b[39m ndvi_20_ma = np.ma.masked_where(ndvi_20_ma < \u001b[32m0\u001b[39m, ndvi_20_ma)\n",
      "\u001b[31mNameError\u001b[39m: name 'nir' is not defined"
     ]
    }
   ],
   "source": [
    "# calculate the NDVI from the S2 composite (following formula from force --> bandnames: (NIR - RED) / (NIR + RED))\n",
    "S2_ds = gdal.Open(S2_file)\n",
    "for idx, bname in enumerate(getBandNames(S2_file)):\n",
    "    if bname == 'RED':\n",
    "        red = S2_ds.GetRasterBand(1 + idx).ReadAsArray()\n",
    "    elif bname == 'NIR':\n",
    "        nir = S2_ds.GetRasterBand(1 + idx).ReadAsArray()\n",
    "    else:\n",
    "        continue\n",
    "ndvi_20 = (nir - red) / (nir + red)\n",
    "ndvi_20_ma = np.ma.masked_invalid(ndvi_20)\n",
    "ndvi_20_ma = np.ma.masked_where(ndvi_20_ma < 0, ndvi_20_ma)\n",
    "LAI_np = 0.57*np.exp(2.33*ndvi_20)\n",
    "LAI_pos = np.ma.masked_where(LAI_np < 0, LAI_np)\n",
    "\n",
    "# estimate canopy height from estimated LAI\n",
    "hc = hc_from_lai(LAI_pos, hc_max = 1.2, lai_max = np.nanmax(LAI_np), hc_min=0)\n",
    "\n",
    "# estimate long wave irradiance\n",
    "ea = meteo_utils.calc_vapor_pressure(T_K=dew_temp_20)\n",
    "L_dn = calc_longwave_irradiance(ea = ea, t_a_k = air_temp_20, p = sp_20, z_T = 100, h_C = hc) # ## does that make sense with the 100m!!!!!!!!!!!!!!!!!!!\n",
    "d_0_0 = resistances.calc_d_0(h_C=hc)\n",
    "z_0 = resistances.calc_z_0M(h_C=hc)"
   ]
  },
  {
   "cell_type": "code",
   "execution_count": null,
   "id": "ff645d29",
   "metadata": {},
   "outputs": [],
   "source": [
    "# calculate shortwave radiation of soil and canopy\n",
    "difvis, difnir, fvis, fnir = net_radiation.calc_difuse_ratio(S_dn = ssrd_20, sza = np.mean(szenith_20))\n",
    "\n",
    "skyl = difvis * fvis + difnir * fnir\n",
    "S_dn_dir = ssrd_20 * (1.0 - skyl)\n",
    "S_dn_dif = ssrd_20 * skyl\n",
    "\n",
    "# Leaf spectral properties:{rho_vis_C: visible reflectance, tau_vis_C: visible transmittance, rho_nir_C: NIR reflectance, tau_nir_C: NIR transmittance}\n",
    "rho_vis_C=np.full(LAI_pos.shape, 0.05, np.float32)\n",
    "tau_vis_C=np.full(LAI_pos.shape, 0.08, np.float32)\n",
    "rho_nir_C=np.full(LAI_pos.shape, 0.32, np.float32)\n",
    "tau_nir_C=np.full(LAI_pos.shape, 0.33, np.float32) \n",
    "\n",
    "# Soil spectral properties:{rho_vis_S: visible reflectance, rho_nir_S: NIR reflectance}\n",
    "rho_vis_S=np.full(LAI_pos.shape, 0.07, np.float32)\n",
    "rho_nir_S=np.full(LAI_pos.shape, 0.25, np.float32)\n",
    "\n",
    "# F = local LAI\n",
    "F = LAI_pos / 1\n",
    "# calculate clumping index\n",
    "Omega0 = clumping_index.calc_omega0_Kustas(LAI = LAI_np, f_C = 1, x_LAD=1)\n",
    "Omega = clumping_index.calc_omega_Kustas(Omega0, np.mean(szenith_20))\n",
    "LAI_eff = F * Omega\n",
    "\n",
    "Sn_C, Sn_S = net_radiation.calc_Sn_Campbell(lai = LAI_pos, sza = np.mean(szenith_20), S_dn_dir = S_dn_dir, S_dn_dif = S_dn_dif, fvis = fvis,\n",
    "                                    fnir = fnir, rho_leaf_vis = rho_vis_C, tau_leaf_vis = tau_vis_C, rho_leaf_nir = rho_nir_C, \n",
    "                                    tau_leaf_nir = tau_nir_C, rsoilv = rho_vis_S, rsoiln = rho_nir_S, x_LAD=1, LAI_eff=LAI_eff)\n",
    "\n",
    "# calculate other roughness stuff\n",
    "z_0M, d = resistances.calc_roughness(LAI=np.nanmean(LAI_pos), h_C=hc, w_C=1, landcover=11, f_c=None)\n",
    "z_0M_array = np.full(LAI_pos.shape, z_0M)\n",
    "d_array = np.full(LAI_pos.shape, d)\n",
    "fg = calc_fg_gutman(ndvi = ndvi_20_ma, ndvi_min = np.nanmin(ndvi_20), ndvi_max = np.nanmax(ndvi_20))"
   ]
  },
  {
   "cell_type": "code",
   "execution_count": null,
   "id": "a2774d51",
   "metadata": {},
   "outputs": [],
   "source": [
    "emis_C = 0.98\n",
    "emis_S = 0.95\n",
    "h_C = hc \n",
    "z_u = 100\n",
    "z_T = 100"
   ]
  },
  {
   "cell_type": "code",
   "execution_count": null,
   "id": "cb90e712",
   "metadata": {},
   "outputs": [],
   "source": [
    "output = TSEB.TSEB_PT(lst_20, vza_20, air_temp_20, wind_speed_20, ea, sp_20, Sn_C, Sn_S, L_dn, LAI_pos, h_C, emis_C, emis_S, \n",
    "                      z_0M, z_0M_array, z_u, z_T, resistance_form=None, calcG_params=None, const_L=None, \n",
    "                      kB=0.0, massman_profile=None, verbose=True)\n",
    "\n",
    "len(output)\n",
    "ld = output[6]/ssrd_20\n",
    "heat_latent_scaled = ssrd_mean_20 * ld\n",
    "et_daily_p = TSEB.met.flux_2_evaporation(heat_latent_scaled, t_k=air_temp_20, time_domain=24)"
   ]
  },
  {
   "cell_type": "code",
   "execution_count": null,
   "id": "ed038df3",
   "metadata": {},
   "outputs": [],
   "source": [
    "storPath = f\"{tempOut}{LST_file.split('/')[-1].split('.')[0]}_ET.tif\"\n",
    "npTOdisk(et_daily_p, LST_file, storPath)"
   ]
  }
 ],
 "metadata": {
  "kernelspec": {
   "display_name": "cds_era5",
   "language": "python",
   "name": "python3"
  },
  "language_info": {
   "codemirror_mode": {
    "name": "ipython",
    "version": 3
   },
   "file_extension": ".py",
   "mimetype": "text/x-python",
   "name": "python",
   "nbconvert_exporter": "python",
   "pygments_lexer": "ipython3",
   "version": "3.12.11"
  }
 },
 "nbformat": 4,
 "nbformat_minor": 5
}
