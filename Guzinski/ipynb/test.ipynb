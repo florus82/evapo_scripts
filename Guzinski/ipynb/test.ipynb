{
 "cells": [
  {
   "cell_type": "code",
   "execution_count": null,
   "id": "fa91676a",
   "metadata": {},
   "outputs": [],
   "source": [
    "import sys\n",
    "sys.path.append('/home/potzschf/repos/')\n",
    "from helperToolz.helpsters import *\n",
    "from helperToolz.dicts_and_lists import *\n",
    "from helperToolz.guzinski import * \n",
    "from other_repos.pyDMS.pyDMS.pyDMS import *\n",
    "import time"
   ]
  },
  {
   "cell_type": "code",
   "execution_count": null,
   "id": "3bc67cc3",
   "metadata": {},
   "outputs": [],
   "source": [
    "x = 70\n",
    "y = 44\n",
    "year = 2019\n",
    "bands = [file for file in getFilelist(f'/data/Aldhani/eoagritwin/force/output/Guzinski/{year}/tiles/X00{x}_Y00{y}/', '.tif') if '_20190617' in file]\n",
    "bands = [bands[i] for i in [0,1,6,3,4,5,2,7,8]]"
   ]
  },
  {
   "cell_type": "code",
   "execution_count": null,
   "id": "80c82e1b",
   "metadata": {},
   "outputs": [],
   "source": [
    "ds = gdal.Open(f'/data/Aldhani/eoagritwin/et/Auxiliary/DEM/Force_Tiles/SLOPE/SLOPE_X00{x}_Y00{y}.tif')\n",
    "slope = ds.GetRasterBand(1).ReadAsArray()\n",
    "ds = gdal.Open(f'/data/Aldhani/eoagritwin/et/Auxiliary/DEM/Force_Tiles/ASPECT/ASPECT_X00{x}_Y00{y}.tif')\n",
    "aspect = ds.GetRasterBand(1).ReadAsArray()"
   ]
  },
  {
   "cell_type": "code",
   "execution_count": null,
   "id": "97dfe638",
   "metadata": {},
   "outputs": [],
   "source": [
    "arrs = []\n",
    "for band in bands:\n",
    "    ds = gdal.Open(band)\n",
    "    arrs.append(ds.GetRasterBand(1).ReadAsArray())\n",
    "arrs.append(slope)\n",
    "arrs.append(aspect)\n",
    "arr = np.dstack(arrs)\n",
    "mask = np.logical_and(arr[:,:,9] < 0.000000001, arr[:,:,10] == 180)\n",
    "masked_arr = np.where(mask[:,:,None],np.nan, arr)\n",
    "npTOdisk(masked_arr, reference_path=bands[0], outPath='/data/Aldhani/eoagritwin/et/Auxiliary/trash/S2_stack_test.tif', bands=len(bands))"
   ]
  },
  {
   "cell_type": "code",
   "execution_count": null,
   "id": "01c31bfd",
   "metadata": {},
   "outputs": [],
   "source": [
    "path = '/data/Aldhani/eoagritwin/et/Sentinel3/LST/LST_values/minVZA/2019/Daily_LST_minVZA_2019_June.tif'\n",
    "ds = gdal.Open(path)\n",
    "arr = ds.GetRasterBand(17).ReadAsArray()\n",
    "npTOdisk(arr, path, '/data/Aldhani/eoagritwin/et/Auxiliary/trash/LST.tif', bands=1)"
   ]
  },
  {
   "cell_type": "code",
   "execution_count": null,
   "id": "bc066b84",
   "metadata": {},
   "outputs": [],
   "source": [
    "ds = gdal.Open('/data/Aldhani/eoagritwin/et/Sentinel3/LST/LST_values/sharpened/ef7ec2b58193b34b417ff31ee21459a5a343a0e02e2ca62f416e035eca63234e/minVZA/2019/July/07/withoutLSTmask/S2notMasked/Values/minVZA_2019_July_07_mvwin15_cv0_regrat25_S2notMasked_withoutLSTmask.tif')\n",
    "ras = ds.GetRasterBand(1).ReadAsArray()\n",
    "plotter(ras)"
   ]
  },
  {
   "cell_type": "code",
   "execution_count": null,
   "id": "daef2d48",
   "metadata": {},
   "outputs": [],
   "source": [
    "ds = gdal.Open('/data/Aldhani/eoagritwin/et/Auxiliary/trash/sharpi_test.tif')\n",
    "ras = ds.GetRasterBand(1).ReadAsArray()\n",
    "np.unique(ras)"
   ]
  },
  {
   "cell_type": "code",
   "execution_count": null,
   "id": "434efd22",
   "metadata": {},
   "outputs": [],
   "source": [
    "highResFilename = '/data/Aldhani/eoagritwin/et/Auxiliary/trash/S2_stack_test.tif'\n",
    "lowResFilename = '/data/Aldhani/eoagritwin/et/Auxiliary/trash/LST.tif'\n",
    "lowResMaskFilename = r\"\"\n",
    "outputFilename = '/data/Aldhani/eoagritwin/et/Auxiliary/trash/sharpi_test.tif'\n",
    "\n",
    "##########################################################################################\n",
    "\n",
    "if __name__ == \"__main__\":\n",
    "\n",
    "    useDecisionTree = True\n",
    "\n",
    "    commonOpts = {\"highResFiles\":               [highResFilename],\n",
    "                  \"lowResFiles\":                [lowResFilename],\n",
    "                  \"lowResQualityFiles\":         [lowResMaskFilename],\n",
    "                  \"lowResGoodQualityFlags\":     [255],\n",
    "                  \"cvHomogeneityThreshold\":     0,\n",
    "                  \"movingWindowSize\":           15,\n",
    "                  \"disaggregatingTemperature\":  True}\n",
    "    dtOpts =     {\"perLeafLinearRegression\":    True,\n",
    "                  \"linearRegressionExtrapolationRatio\": 0.25}\n",
    "    sknnOpts =   {'hidden_layer_sizes':         (10,),\n",
    "                  'activation':                 'tanh'}\n",
    "    nnOpts =     {\"regressionType\":             REG_sklearn_ann,\n",
    "                  \"regressorOpt\":               sknnOpts}\n",
    "\n",
    "    start_time = time.time()\n",
    "\n",
    "    if useDecisionTree:\n",
    "        opts = commonOpts.copy()\n",
    "        opts.update(dtOpts)\n",
    "        disaggregator = DecisionTreeSharpener(**opts)\n",
    "    else:\n",
    "        opts = commonOpts.copy()\n",
    "        opts.update(nnOpts)\n",
    "        disaggregator = NeuralNetworkSharpener(**opts)\n",
    "\n",
    "    print(\"Training regressor...\")\n",
    "    disaggregator.trainSharpener()\n",
    "    print(\"Sharpening...\")\n",
    "    downscaledFile = disaggregator.applySharpener(highResFilename, lowResFilename)\n",
    "    print(\"Residual analysis...\")\n",
    "    residualImage, correctedImage = disaggregator.residualAnalysis(downscaledFile, lowResFilename,\n",
    "                                                                   lowResMaskFilename,\n",
    "                                                                   doCorrection=True)\n",
    "    print(\"Saving output...\")\n",
    "    highResFile = gdal.Open(highResFilename)\n",
    "    if correctedImage is not None:\n",
    "        outImage = correctedImage\n",
    "    else:\n",
    "        outImage = downscaledFile\n",
    "    # outData = utils.binomialSmoother(outData)\n",
    "    outFile = utils.saveImg(outImage.GetRasterBand(1).ReadAsArray(),\n",
    "                            outImage.GetGeoTransform(),\n",
    "                            outImage.GetProjection(),\n",
    "                            outputFilename)\n",
    "    residualFile = utils.saveImg(residualImage.GetRasterBand(1).ReadAsArray(),\n",
    "                                 residualImage.GetGeoTransform(),\n",
    "                                 residualImage.GetProjection(),\n",
    "                                 os.path.splitext(outputFilename)[0] + \"_residual\" +\n",
    "                                 os.path.splitext(outputFilename)[1])\n",
    "\n",
    "    outFile = None\n",
    "    residualFile = None\n",
    "    downsaceldFile = None\n",
    "    highResFile = None\n",
    "\n",
    "    print(time.time() - start_time, \"seconds\")"
   ]
  },
  {
   "cell_type": "code",
   "execution_count": null,
   "id": "91a34419",
   "metadata": {},
   "outputs": [],
   "source": [
    "## make vrts from single FORCE tile tests\n",
    "\n",
    "base_path = '/data/Aldhani/eoagritwin/et/Sentinel3/LST/LST_values/sharpened/'\n",
    "\n",
    "folders = ['S2only', 'all_preds']\n",
    "\n",
    "comps = ['maxLST', 'minVZA']\n",
    "\n",
    "days = [f'July_{i:02d}' for i in range(1,10,1)]\n",
    "\n",
    "masks = ['S2Masked_withLSTmask', 'S2Masked_withoutLSTmask', 'S2notMasked_withLSTmask', 'S2notMasked_withoutLSTmask']\n",
    "\n",
    "for path in [f'{base_path}vrts/{day}' for day in days]:\n",
    "    os.makedirs(path, exist_ok=True)"
   ]
  },
  {
   "cell_type": "code",
   "execution_count": null,
   "id": "2634046c",
   "metadata": {},
   "outputs": [],
   "source": [
    "for folder in folders:\n",
    "    for comp in comps:\n",
    "        for day in days:\n",
    "            for mask in masks:\n",
    "                file_list = [file for file in getFilelist(base_path + folder, '.tif', deep=True) if comp in file and day in file and mask in file and 'resid' not in file]\n",
    "                outpath = base_path + f'vrts/{day}/{folder}_{comp}_{day}_{mask}.vrt'\n",
    "                gdal.BuildVRT(outpath, file_list, separate=False)\n",
    "                convertVRTpathsTOrelative(outpath)\n",
    "                ds = gdal.Open(outpath)\n",
    "                arr = ds.GetRasterBand(1).ReadAsArray()\n",
    "                print(f'{day}/{folder}_{comp}_{day}_{mask}:  {np.nanmax(arr)}')\n"
   ]
  },
  {
   "cell_type": "code",
   "execution_count": 11,
   "id": "2cfb2eb0",
   "metadata": {},
   "outputs": [],
   "source": [
    "# export statistics\n",
    "\n",
    "results = []\n",
    "\n",
    "for folder in folders:\n",
    "    for comp in comps:\n",
    "        for day in days:\n",
    "            for mask in masks:\n",
    "                file_list = [file for file in getFilelist(base_path + folder, '.tif', deep=True) if comp in file and day in file and mask in file and 'resid' not in file]\n",
    "                outpath = base_path + f'vrts/{day}/{folder}_{comp}_{day}_{mask}.vrt'\n",
    "\n",
    "                # open dataset\n",
    "                ds = gdal.Open(outpath)\n",
    "                arr = ds.GetRasterBand(1).ReadAsArray()\n",
    "                \n",
    "                maxLST = np.nanmax(arr)\n",
    "                minLST = np.nanmin(arr)\n",
    "                p25, p50, p75 = np.nanpercentile(arr, [25, 50, 75])\n",
    "\n",
    "                # Append result\n",
    "                results.append({\n",
    "                    'folder': folder,\n",
    "                    'comp': comp,\n",
    "                    'day': day,\n",
    "                    'mask': mask,\n",
    "                    'maxLST': maxLST,\n",
    "                    'minLST': minLST,\n",
    "                    '25thLST': p25,\n",
    "                    'medianLST': p50,\n",
    "                    '75thLST': p75\n",
    "                })\n",
    "\n",
    "\n",
    "# convert and export\n",
    "df = pd.DataFrame(results)\n",
    "df.to_csv('../csvs/basic_stats_vrt_44.csv', index=False)\n"
   ]
  },
  {
   "cell_type": "code",
   "execution_count": null,
   "id": "5b8d38f3",
   "metadata": {},
   "outputs": [
    {
     "data": {
      "text/plain": [
       "'/home/potzschf/repos/evapo_scripts/Guzinski/ipynb'"
      ]
     },
     "execution_count": 10,
     "metadata": {},
     "output_type": "execute_result"
    }
   ],
   "source": []
  }
 ],
 "metadata": {
  "kernelspec": {
   "display_name": "cds_era5",
   "language": "python",
   "name": "python3"
  },
  "language_info": {
   "codemirror_mode": {
    "name": "ipython",
    "version": 3
   },
   "file_extension": ".py",
   "mimetype": "text/x-python",
   "name": "python",
   "nbconvert_exporter": "python",
   "pygments_lexer": "ipython3",
   "version": "3.12.11"
  }
 },
 "nbformat": 4,
 "nbformat_minor": 5
}
