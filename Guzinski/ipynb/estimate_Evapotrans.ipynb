{
 "cells": [
  {
   "cell_type": "code",
   "execution_count": 1,
   "id": "136de16a",
   "metadata": {},
   "outputs": [],
   "source": [
    "import sys\n",
    "sys.path.append('/home/potzschf/repos/')\n",
    "from helperToolz.helpsters import *\n",
    "from helperToolz.dicts_and_lists import *\n",
    "from helperToolz.guzinski import * \n",
    "from helperToolz.mirmazloumi import *\n",
    "from pympler import asizeof\n",
    "from other_repos.pyTSEB.pyTSEB import meteo_utils\n",
    "from other_repos.pyTSEB.pyTSEB import resistances\n",
    "from other_repos.pyTSEB.pyTSEB import net_radiation\n",
    "from other_repos.pyTSEB.pyTSEB import clumping_index \n",
    "from other_repos.pyTSEB.pyTSEB import TSEB\n",
    "import rasterio"
   ]
  },
  {
   "cell_type": "code",
   "execution_count": null,
   "id": "43c33211",
   "metadata": {},
   "outputs": [],
   "source": [
    "# this might dock onto the sharpener process??"
   ]
  },
  {
   "cell_type": "code",
   "execution_count": 4,
   "id": "f5dfffc8",
   "metadata": {},
   "outputs": [
    {
     "name": "stdout",
     "output_type": "stream",
     "text": [
      "temperature will be processed before surface pressure - continue\n"
     ]
    }
   ],
   "source": [
    "# set the year, month and day to estimate evapotranspiration for\n",
    "year = 2019\n",
    "month = 'July'\n",
    "day = 1\n",
    "comp = 'minVZA'\n",
    "tempOut = '/data/Aldhani/eoagritwin/et/Auxiliary/trash/'\n",
    "\n",
    "# path to era5 raw data\n",
    "era5_path = '/data/Aldhani/eoagritwin/et/Auxiliary/ERA5/grib/'\n",
    "\n",
    "# the LST acquisition time should determine which sharpened LST files are associatedto be processed (as they are associated with it)\n",
    "LST_acq_file = f'/data/Aldhani/eoagritwin/et/Sentinel3/LST/LST_values/Acq_time/int_format/{year}/Daily_AcqTime_{comp}_{year}_{month}.tif' # epsg 4326\n",
    "\n",
    "# the VZA at the time of LST acquisition is need\n",
    "VZA_at_acq_file = f'/data/Aldhani/eoagritwin/et/Sentinel3/VZA/comp/{comp}/{year}/Daily_VZA_{comp}_{year}_{month}.tif' # epsg 4326\n",
    "\n",
    "# the DEM, SLOPE, ASPECT, LAT, LON will be used to sharpen some of the era5 variables (the the resolution of the DEM)\n",
    "dem_path = '/data/Aldhani/eoagritwin/et/Auxiliary/DEM/reprojected/DEM_GER_LST_WARP.tif' # epsg 4326\n",
    "slope_path = '/data/Aldhani/eoagritwin/et/Auxiliary/DEM/reprojected/SLOPE_GER_LST_WARP.tif' # epsg 4326\n",
    "aspect_path = '/data/Aldhani/eoagritwin/et/Auxiliary/DEM/reprojected/ASPECT_GER_LST_WARP.tif' # epsg 4326\n",
    "lat_path = '/data/Aldhani/eoagritwin/et/Auxiliary/DEM/reprojected/LAT_GER_LST_WARP.tif' # epsg 4326\n",
    "lon_path = '/data/Aldhani/eoagritwin/et/Auxiliary/DEM/reprojected/LON_GER_LST_WARP.tif' # epsg 4326\n",
    "\n",
    "# the geopotential is needed for the sharpening as well\n",
    "geopot_path = '/data/Aldhani/eoagritwin/et/Auxiliary/ERA5/tiff/low_res/geopotential/geopotential_low_res.tif' # epsg 4326\n",
    "\n",
    "# for the resampling to S2, we need a template --> sharpened LST\n",
    "LST_file = f'/data/Aldhani/eoagritwin/et/Sentinel3/LST/LST_values/sharpened/{comp}_{year}_{month}_{day:02d}_mvwin50_cv15_regrat0.3.tif' # epsg:3035\n",
    "\n",
    "# for NDVI calculation (estimating LAI and others), we use the S2 composite used for sharpening\n",
    "S2_file = '/data/Aldhani/eoagritwin/et/Sentinel3/LST/LST_values/tempDump/S2_20190705/Force_X_from_65_to_73_Y_from_39_to_47/Force_X_from_65_to_73_Y_from_39_to_47_Cube.vrt'\n",
    "\n",
    "# find era5 file that matches the month of LST observation\n",
    "valid_variables = sorted(list(dict.fromkeys(file.split('/')[-2] for file in getFilelist(era5_path, '.grib', deep=True) \\\n",
    "                                   if not any(var in file for var in ['geopotential', 'total_column_water_vapour']))))\n",
    "\n",
    "# get a list for those era5 files that match the year and month of the provided LST acquisition file\n",
    "era5_path_list = find_grib_file(getFilelist(era5_path, '.grib', deep=True), LST_acq_file)\n",
    "era5_path_list = [path for path in era5_path_list if any(variable in path for variable in valid_variables)] # era5 are epsg 4326 and still will be after warping to doy\n",
    "temp_pressure_checker(era5_path_list)"
   ]
  },
  {
   "cell_type": "code",
   "execution_count": 5,
   "id": "9debb46e",
   "metadata": {},
   "outputs": [],
   "source": [
    "# warp datasets needed for calculations to the spatial extent of the sharpened LST\n",
    "LST_acq_spatial_sub = warp_raster_to_reference(source_path=LST_acq_file, reference_path=S2_file, output_path='MEM', resampling='near', keepRes=True)\n",
    "VZA_at_acq_file_sub = warp_raster_to_reference(source_path=VZA_at_acq_file, reference_path=S2_file, output_path='MEM', resampling='bilinear', keepRes=True)\n",
    "dem_sub = warp_raster_to_reference(source_path=dem_path, reference_path=S2_file, output_path='MEM', resampling='bilinear', keepRes=True)\n",
    "slope_sub  = warp_raster_to_reference(source_path=slope_path, reference_path=S2_file, output_path='MEM', resampling='bilinear', keepRes=True)\n",
    "aspect_sub = warp_raster_to_reference(source_path=aspect_path, reference_path=S2_file, output_path='MEM', resampling='bilinear', keepRes=True)\n",
    "lat_sub = warp_raster_to_reference(source_path=lat_path, reference_path=S2_file, output_path='MEM', resampling='bilinear', keepRes=True)\n",
    "lon_sub = warp_raster_to_reference(source_path=lon_path, reference_path=S2_file, output_path='MEM', resampling='bilinear', keepRes=True)\n",
    "geopot_sub = warp_raster_to_reference(source_path=geopot_path, reference_path=S2_file, output_path='MEM', resampling='bilinear', keepRes=True)"
   ]
  },
  {
   "cell_type": "code",
   "execution_count": 6,
   "id": "554e3889",
   "metadata": {},
   "outputs": [
    {
     "name": "stdout",
     "output_type": "stream",
     "text": [
      "processing /data/Aldhani/eoagritwin/et/Auxiliary/ERA5/grib/100m_u_component_of_wind/100m_u_component_of_wind_2019_7.grib\n",
      "processing /data/Aldhani/eoagritwin/et/Auxiliary/ERA5/grib/100m_v_component_of_wind/100m_v_component_of_wind_2019_7.grib\n",
      "processing /data/Aldhani/eoagritwin/et/Auxiliary/ERA5/grib/2m_dewpoint_temperature/2m_dewpoint_temperature_2019_7.grib\n",
      "Adiabatic Sharpener will be applied\n"
     ]
    },
    {
     "name": "stderr",
     "output_type": "stream",
     "text": [
      "/home/potzschf/repos/helperToolz/guzinski.py:361: RuntimeWarning: All-NaN slice encountered\n",
      "  return np.nanmax(block, axis = 2)\n"
     ]
    },
    {
     "name": "stdout",
     "output_type": "stream",
     "text": [
      "processing /data/Aldhani/eoagritwin/et/Auxiliary/ERA5/grib/2m_temperature/2m_temperature_2019_7.grib\n",
      "Adiabatic Sharpener will be applied\n"
     ]
    },
    {
     "name": "stderr",
     "output_type": "stream",
     "text": [
      "/home/potzschf/repos/helperToolz/guzinski.py:361: RuntimeWarning: All-NaN slice encountered\n",
      "  return np.nanmax(block, axis = 2)\n"
     ]
    },
    {
     "name": "stdout",
     "output_type": "stream",
     "text": [
      "processing /data/Aldhani/eoagritwin/et/Auxiliary/ERA5/grib/surface_pressure/surface_pressure_2019_7.grib\n",
      "Barometric Sharpener will be applied\n"
     ]
    },
    {
     "name": "stderr",
     "output_type": "stream",
     "text": [
      "/home/potzschf/repos/helperToolz/guzinski.py:636: RuntimeWarning: divide by zero encountered in divide\n",
      "  ratio = (era5_corrected_Temp - STANDARD_ADIABAT * delta_z) / era5_corrected_Temp\n",
      "/home/potzschf/repos/helperToolz/guzinski.py:357: RuntimeWarning: invalid value encountered in subtract\n",
      "  vals = before - (before - after) * (np.array(arr_min, dtype=np.float16) / 60)\n",
      "/home/potzschf/repos/helperToolz/guzinski.py:361: RuntimeWarning: All-NaN slice encountered\n",
      "  return np.nanmax(block, axis = 2)\n"
     ]
    },
    {
     "name": "stdout",
     "output_type": "stream",
     "text": [
      "processing /data/Aldhani/eoagritwin/et/Auxiliary/ERA5/grib/surface_solar_radiation_downward_clear_sky/surface_solar_radiation_downward_clear_sky_2019_7.grib\n"
     ]
    },
    {
     "name": "stderr",
     "output_type": "stream",
     "text": [
      "/home/potzschf/repos/helperToolz/guzinski.py:523: RuntimeWarning: All-NaN slice encountered\n",
      "  ssrd = np.nanmax(block, axis = 2)\n"
     ]
    }
   ],
   "source": [
    "# load the era5 variable into cache at LST resolution and read-in the modelled times (one time step per band)\n",
    "for path in era5_path_list:\n",
    "    print(f'processing {path}')\n",
    "    # check if DEM sharpener needs to be applied\n",
    "    if '100m_u_component_of_wind' in path:\n",
    "        # do the warping without sharpening\n",
    "        wind100_u = get_warped_ERA5_at_doy(path_to_era_grib=path, reference_path=LST_acq_spatial_sub, lst_acq_file=LST_acq_spatial_sub, doy=day)\n",
    "\n",
    "    elif '100m_v_component_of_wind' in path:\n",
    "               # do the warping without sharpening\n",
    "        wind100_v = get_warped_ERA5_at_doy(path_to_era_grib=path, reference_path=LST_acq_spatial_sub, lst_acq_file=LST_acq_spatial_sub, doy=day)\n",
    "\n",
    "    # elif 'geopotential' in path:\n",
    "    #     # do the warping without sharpening\n",
    "    #     geopot = get_warped_ERA5_at_doy(path_to_era_grib=path, lst_acq_file=LST_acq_file, doy=day)\n",
    "\n",
    "    elif 'downward' in path: # terrain correction included\n",
    "        ssrd, szenith, sazimuth = get_ssrdsc_warped_and_corrected_at_doy(path_to_ssrdsc_grib=path, reference_path=LST_acq_spatial_sub, \n",
    "                                                                         lst_acq_file=LST_acq_spatial_sub, doy=day, \n",
    "                                                                         slope_path=slope_sub,\n",
    "                                                                         aspect_path=aspect_sub,\n",
    "                                                                         dem_path=dem_sub,\n",
    "                                                                         lat_path=lat_sub,\n",
    "                                                                         lon_path=lon_sub)\n",
    "\n",
    "    elif '2m_temperature' in path: # DEM and adiabatic sharpening, following Guzinski 2021\n",
    "        air_temp = get_warped_ERA5_at_doy(path_to_era_grib=path, reference_path=LST_acq_spatial_sub, \n",
    "                                          lst_acq_file=LST_acq_spatial_sub, doy=day,\n",
    "                                          sharp_blendheight=100,\n",
    "                                          sharp_DEM=dem_sub,\n",
    "                                          sharp_geopot=geopot_sub,\n",
    "                                          sharp_rate=STANDARD_ADIABAT,\n",
    "                                          sharpener='adiabatic')\n",
    "\n",
    "    elif '2m_dewpoint_temperature' in path: # DEM and adiabatic sharpening, following Guzinski 2021\n",
    "        dew_temp = get_warped_ERA5_at_doy(path_to_era_grib=path, reference_path=LST_acq_spatial_sub, \n",
    "                                          lst_acq_file=LST_acq_spatial_sub, doy=day,\n",
    "                                          sharp_blendheight=100,\n",
    "                                          sharp_DEM=dem_sub,\n",
    "                                          sharp_geopot=geopot_sub,\n",
    "                                          sharp_rate=MOIST_ADIABAT,\n",
    "                                          sharpener='adiabatic')\n",
    "\n",
    "    else: \n",
    "        # do warping with DEM sharpening only\n",
    "        # sanity check\n",
    "        if not 'surface_pressure' in path:\n",
    "            raise ValueError('There is and unattended ERA5 variable in the loop - CHECK!!!!')\n",
    "        else:\n",
    "            sp = get_warped_ERA5_at_doy(path_to_era_grib=path, reference_path=LST_acq_spatial_sub, \n",
    "                                        lst_acq_file=LST_acq_spatial_sub, doy=day,\n",
    "                                        sharp_DEM=dem_sub,\n",
    "                                        sharp_blendheight=100,\n",
    "                                        sharp_geopot=geopot_sub,\n",
    "                                        sharp_temp=air_temp,\n",
    "                                        sharpener='barometric')"
   ]
  },
  {
   "cell_type": "code",
   "execution_count": 7,
   "id": "09f74167",
   "metadata": {},
   "outputs": [],
   "source": [
    "# bring all variables down to 20m\n",
    "wind100_u_20 = warp_np_to_reference(wind100_u, LST_acq_spatial_sub, LST_file)\n",
    "wind100_v_20 = warp_np_to_reference(wind100_v, LST_acq_spatial_sub, LST_file)\n",
    "ssrd_20 = warp_np_to_reference(ssrd, LST_acq_spatial_sub, LST_file)\n",
    "air_temp_20 = warp_np_to_reference(air_temp, LST_acq_spatial_sub, LST_file)\n",
    "dew_temp_20 = warp_np_to_reference(dew_temp, LST_acq_spatial_sub, LST_file)\n",
    "sp_20 = warp_np_to_reference(sp, LST_acq_spatial_sub, LST_file)\n",
    "szenith_20 = warp_np_to_reference(szenith, LST_acq_spatial_sub, LST_file)\n",
    "sazimuth_20 = warp_np_to_reference(sazimuth, LST_acq_spatial_sub, LST_file)\n",
    "\n",
    "# calculate windspeed\n",
    "wind_speed_20 = calc_wind_speed(wind100_u_20, wind100_v_20)\n",
    "\n",
    "# load vza\n",
    "vza_ds = warp_raster_to_reference(VZA_at_acq_file_sub, LST_file, output_path='MEM', resampling='bilinear')\n",
    "vza_20 = vza_ds.GetRasterBand(1).ReadAsArray()\n",
    "# load sharpened LST\n",
    "lst_ds = gdal.Open(LST_file)\n",
    "lst_20 =lst_ds.GetRasterBand(1).ReadAsArray()\n",
    "\n",
    "del wind100_u, wind100_v, ssrd, air_temp, dew_temp, sp, wind100_u_20, wind100_v_20, szenith, sazimuth"
   ]
  },
  {
   "cell_type": "code",
   "execution_count": null,
   "id": "69b4b9f4",
   "metadata": {},
   "outputs": [
    {
     "ename": "TypeError",
     "evalue": "only integer scalar arrays can be converted to a scalar index",
     "output_type": "error",
     "traceback": [
      "\u001b[31m---------------------------------------------------------------------------\u001b[39m",
      "\u001b[31mTypeError\u001b[39m                                 Traceback (most recent call last)",
      "\u001b[36mCell\u001b[39m\u001b[36m \u001b[39m\u001b[32mIn[13]\u001b[39m\u001b[32m, line 1\u001b[39m\n\u001b[32m----> \u001b[39m\u001b[32m1\u001b[39m \u001b[43mnp\u001b[49m\u001b[43m.\u001b[49m\u001b[43mlogical_and\u001b[49m\u001b[43m.\u001b[49m\u001b[43mreduce\u001b[49m\u001b[43m(\u001b[49m\u001b[43mair_temp_20\u001b[49m\u001b[43m \u001b[49m\u001b[43m>\u001b[49m\u001b[43m \u001b[49m\u001b[32;43m0\u001b[39;49m\u001b[43m,\u001b[49m\u001b[43m \u001b[49m\u001b[43mssrd_20\u001b[49m\u001b[43m \u001b[49m\u001b[43m>\u001b[49m\u001b[43m \u001b[49m\u001b[32;43m0\u001b[39;49m\u001b[43m)\u001b[49m\n",
      "\u001b[31mTypeError\u001b[39m: only integer scalar arrays can be converted to a scalar index"
     ]
    }
   ],
   "source": []
  },
  {
   "cell_type": "code",
   "execution_count": null,
   "id": "23b3312e",
   "metadata": {},
   "outputs": [],
   "source": [
    "# power mask \n",
    "powerMask = np.logical_and.reduce(arr > 0 for arr in [ssrd_20, air_temp_20, dew_temp_20, sp_20, szenith_20, sazimuth_20, wind_speed_20, lst_20, vza_20])\n",
    "ssrd_20 = np.ma.masked_array(ssrd_20, mask=powerMask)\n",
    "air_temp_20 = np.ma.masked_array(air_temp_20, mask=powerMask)\n",
    "dew_temp_20 = np.ma.masked_array(dew_temp_20, mask=powerMask)\n",
    "sp_20 = np.ma.masked_array(sp_20, mask=powerMask)\n",
    "szenith_20 = np.ma.masked_array(szenith_20, mask=powerMask)\n",
    "sazimuth_20 = np.ma.masked_array(sazimuth_20, mask=powerMask)\n",
    "wind_speed_20 = np.ma.masked_array(wind_speed_20, mask=powerMask)\n",
    "lst_20 = np.ma.masked_array(lst_20, mask=powerMask)\n",
    "vza_20 = np.ma.masked_array(vza_20, mask=powerMask)"
   ]
  },
  {
   "cell_type": "code",
   "execution_count": null,
   "id": "c12def31",
   "metadata": {},
   "outputs": [],
   "source": [
    "import numpy as np\n",
    "import matplotlib.pyplot as plt\n",
    "\n",
    "# Example: create 10 arrays with random values\n",
    "arrays = [ssrd_20, air_temp_20, dew_temp_20, szenith_20, sazimuth_20, wind_speed_20, lst_20, vza_20]# , sp_20\n",
    "names = ['SSRD', 'TEMP', 'DEW', 'ZENITH', 'AZIMUTH', 'WINDSPEED', 'LST', 'VZA']#'SP',\n",
    "\n",
    "flattened = []\n",
    "valid_names = []\n",
    "\n",
    "for name, arr in zip(names, arrays):\n",
    "    vals = np.ma.compressed(arr) if np.ma.isMaskedArray(arr) else arr.ravel()\n",
    "    vals = vals[~np.isnan(vals)]  # remove NaNs\n",
    "    if vals.size > 0:\n",
    "        flattened.append(vals)\n",
    "        valid_names.append(name)\n",
    "    else:\n",
    "        print(f\"⚠️ Skipping {name} — all values masked or NaN\")\n",
    "\n",
    "# Histograms\n",
    "plt.figure(figsize=(10, 6))\n",
    "for i, data in enumerate(flattened):\n",
    "    plt.hist(data, bins=50, alpha=0.4, label=valid_names[i])\n",
    "plt.legend()\n",
    "plt.title(\"Value Distributions - Histograms\")\n",
    "plt.xlabel(\"Value\")\n",
    "plt.ylabel(\"Frequency\")\n",
    "plt.show()\n",
    "\n",
    "# Boxplot\n",
    "plt.figure(figsize=(10, 6))\n",
    "plt.boxplot(flattened, labels=valid_names, vert=True)\n",
    "plt.xticks(rotation=45)\n",
    "plt.title(\"Value Distributions - Boxplot\")\n",
    "plt.ylabel(\"Value\")\n",
    "plt.show()\n",
    "\n",
    "# Violin plot\n",
    "plt.figure(figsize=(10, 6))\n",
    "plt.violinplot(flattened, showmeans=True)\n",
    "plt.xticks(np.arange(1, len(valid_names) + 1), valid_names, rotation=45)\n",
    "plt.title(\"Value Distributions - Violin Plot\")\n",
    "plt.ylabel(\"Value\")\n",
    "plt.show()"
   ]
  },
  {
   "cell_type": "code",
   "execution_count": null,
   "id": "9a243a6e",
   "metadata": {},
   "outputs": [],
   "source": [
    "np.max(ssrd_20.filled)"
   ]
  },
  {
   "cell_type": "code",
   "execution_count": null,
   "id": "dfd05191",
   "metadata": {},
   "outputs": [],
   "source": [
    "# calculate the NDVI from the S2 composite (following formula from force --> bandnames: (NIR - RED) / (NIR + RED))\n",
    "S2_ds = gdal.Open(S2_file)\n",
    "for idx, bname in enumerate(getBandNames(S2_file)):\n",
    "    if bname == 'RED':\n",
    "        red = S2_ds.GetRasterBand(1 + idx).ReadAsArray()\n",
    "    elif bname == 'NIR':\n",
    "        nir = S2_ds.GetRasterBand(1 + idx).ReadAsArray()\n",
    "    else:\n",
    "        continue\n",
    "ndvi_20 = (nir - red) / (nir + red)\n",
    "ndvi_20_ma = np.ma.masked_invalid(ndvi_20)\n",
    "ndvi_20_ma = np.ma.masked_where(ndvi_20_ma < 0, ndvi_20_ma)\n",
    "LAI_np = 0.57*np.exp(2.33*ndvi_20)\n",
    "LAI_pos = np.ma.masked_where(LAI_np < 0, LAI_np)\n",
    "\n",
    "# estimate canopy height from estimated LAI\n",
    "hc = hc_from_lai(LAI_pos, hc_max = 1.2, lai_max = np.nanmax(LAI_np), hc_min=0)\n",
    "\n",
    "# estimate long wave irradiance\n",
    "ea = meteo_utils.calc_vapor_pressure(T_K=dew_temp_20)\n",
    "L_dn = calc_longwave_irradiance(ea = ea, t_a_k = air_temp_20, p = sp_20, z_T = 100, h_C = hc) # ## does that make sense with the 100m!!!!!!!!!!!!!!!!!!!\n",
    "d_0_0 = resistances.calc_d_0(h_C=hc)\n",
    "z_0 = resistances.calc_z_0M(h_C=hc)"
   ]
  },
  {
   "cell_type": "code",
   "execution_count": null,
   "id": "710586a6",
   "metadata": {},
   "outputs": [],
   "source": [
    "# calculate shortwave radiation of soil and canopy\n",
    "difvis, difnir, fvis, fnir = net_radiation.calc_difuse_ratio(S_dn = ssrd_20, sza = np.mean(szenith_20))\n",
    "\n",
    "skyl = difvis * fvis + difnir * fnir\n",
    "S_dn_dir = ssrd_20 * (1.0 - skyl)\n",
    "S_dn_dif = ssrd_20 * skyl\n",
    "\n",
    "# Leaf spectral properties:{rho_vis_C: visible reflectance, tau_vis_C: visible transmittance, rho_nir_C: NIR reflectance, tau_nir_C: NIR transmittance}\n",
    "rho_vis_C=np.full(LAI_pos.shape, 0.05, np.float32)\n",
    "tau_vis_C=np.full(LAI_pos.shape, 0.08, np.float32)\n",
    "rho_nir_C=np.full(LAI_pos.shape, 0.32, np.float32)\n",
    "tau_nir_C=np.full(LAI_pos.shape, 0.33, np.float32) \n",
    "\n",
    "# Soil spectral properties:{rho_vis_S: visible reflectance, rho_nir_S: NIR reflectance}\n",
    "rho_vis_S=np.full(LAI_pos.shape, 0.07, np.float32)\n",
    "rho_nir_S=np.full(LAI_pos.shape, 0.25, np.float32)\n",
    "\n",
    "# F = local LAI\n",
    "F = LAI_pos / 1\n",
    "# calculate clumping index\n",
    "Omega0 = clumping_index.calc_omega0_Kustas(LAI = LAI_np, f_C = 1, x_LAD=1)\n",
    "Omega = clumping_index.calc_omega_Kustas(Omega0, np.mean(szenith_20))\n",
    "LAI_eff = F * Omega\n",
    "\n",
    "Sn_C, Sn_S = net_radiation.calc_Sn_Campbell(lai = LAI_pos, sza = np.mean(szenith_20), S_dn_dir = S_dn_dir, S_dn_dif = S_dn_dif, fvis = fvis,\n",
    "                                    fnir = fnir, rho_leaf_vis = rho_vis_C, tau_leaf_vis = tau_vis_C, rho_leaf_nir = rho_nir_C, \n",
    "                                    tau_leaf_nir = tau_nir_C, rsoilv = rho_vis_S, rsoiln = rho_nir_S, x_LAD=1, LAI_eff=LAI_eff)\n",
    "\n",
    "# calculate other roughness stuff\n",
    "z_0M, d = resistances.calc_roughness(LAI=np.nanmean(LAI_pos), h_C=hc, w_C=1, landcover=11, f_c=None)\n",
    "z_0M_array = np.full(LAI_pos.shape, z_0M)\n",
    "d_array = np.full(LAI_pos.shape, d)\n",
    "fg = calc_fg_gutman(ndvi = ndvi_20_ma, ndvi_min = np.nanmin(ndvi_20), ndvi_max = np.nanmax(ndvi_20))"
   ]
  },
  {
   "cell_type": "code",
   "execution_count": null,
   "id": "71a1b47e",
   "metadata": {},
   "outputs": [],
   "source": [
    "emis_C = 0.98\n",
    "emis_S = 0.95\n",
    "h_C = hc \n",
    "z_u = 100\n",
    "z_T = 100"
   ]
  },
  {
   "cell_type": "code",
   "execution_count": null,
   "id": "2425c7e4",
   "metadata": {},
   "outputs": [],
   "source": [
    "output = TSEB.TSEB_PT(lst_20, vza_20, air_temp_20, wind_speed_20, ea, sp_20, Sn_C, Sn_S, L_dn, LAI_pos, h_C, emis_C, emis_S, \n",
    "                      z_0M, z_0M_array, z_u, z_T, resistance_form=None, calcG_params=None, const_L=None, \n",
    "                      kB=0.0, massman_profile=None, verbose=True)\n",
    "\n",
    "len(output)\n",
    "ld = output[6]/ssrd_20\n",
    "heat_latent_scaled = ssrd_20 * ld\n",
    "et_daily_p = TSEB.met.flux_2_evaporation(heat_latent_scaled, t_k=air_temp_20, time_domain=24)"
   ]
  },
  {
   "cell_type": "code",
   "execution_count": null,
   "id": "c7bae5bb",
   "metadata": {},
   "outputs": [],
   "source": [
    "output_file = f'{tempOut}test1.tif'\n",
    "# arid_aoi: \n",
    "# Get the metadata from the NDVI raster\n",
    "lst_ras = rasterio.open(LST_file)\n",
    "LST_metadata = lst_20.meta\n",
    "\n",
    "# et_daily_p = np.ma.masked_where(et_daily < 0, et_daily)\n",
    "# et_daily_p = et_daily_p.filled(np.nan)  # Fill masked values with np.nan\n",
    "\n",
    "# Create the destination metadata\n",
    "dst_metadata = {\n",
    "    'driver': 'GTiff',\n",
    "    'dtype': et_daily_p.dtype,  # Use the dtype of the masked array\n",
    "    'nodata': np.nan,  # Set nodata to np.nan\n",
    "    'width': et_daily_p.shape[1],\n",
    "    'height': et_daily_p.shape[0],\n",
    "    'count': 1,  # Assuming a single-band GeoTIFF\n",
    "    'crs': LST_metadata['crs'],\n",
    "    'transform': LST_metadata['transform'],\n",
    "    'compress': 'lzw'\n",
    "}\n",
    "        \n",
    "# Save the array as a GeoTIFF\n",
    "with rasterio.open(output_file, 'w', **dst_metadata) as dst:\n",
    "    dst.write(et_daily_p, 1) "
   ]
  }
 ],
 "metadata": {
  "kernelspec": {
   "display_name": "cds_era5",
   "language": "python",
   "name": "python3"
  },
  "language_info": {
   "codemirror_mode": {
    "name": "ipython",
    "version": 3
   },
   "file_extension": ".py",
   "mimetype": "text/x-python",
   "name": "python",
   "nbconvert_exporter": "python",
   "pygments_lexer": "ipython3",
   "version": "3.12.11"
  }
 },
 "nbformat": 4,
 "nbformat_minor": 5
}
