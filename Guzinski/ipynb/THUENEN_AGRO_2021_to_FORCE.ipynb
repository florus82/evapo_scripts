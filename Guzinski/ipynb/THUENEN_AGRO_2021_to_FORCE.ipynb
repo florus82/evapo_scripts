{
 "cells": [
  {
   "cell_type": "code",
   "execution_count": 4,
   "id": "5e04d7ca",
   "metadata": {},
   "outputs": [],
   "source": [
    "import sys\n",
    "sys.path.append('/home/potzschf/repos/')\n",
    "from helperToolz.helpsters import *\n",
    "import geopandas as gpd\n",
    "import xdem\n",
    "import rasterio\n",
    "\n",
    "DEM_folder = '/data/Aldhani/eoagritwin/et/Auxiliary/DEM/'"
   ]
  },
  {
   "cell_type": "code",
   "execution_count": 7,
   "id": "6e418aee",
   "metadata": {},
   "outputs": [
    {
     "name": "stdout",
     "output_type": "stream",
     "text": [
      "Raster warped and saved to: /data/Aldhani/eoagritwin/et/Auxiliary/DEM/reprojected/THUENEN_GER_LST_WARP.tif\n"
     ]
    }
   ],
   "source": [
    "warp_raster_to_reference('/data/Aldhani/eoagritwin/et/Auxiliary/landcover/thuenen/CTM_GER_2021_rst_v201_COG.tif',\n",
    "                         '/data/Aldhani/eoagritwin/et/Sentinel3/LST/LST_values/Acq_time/int_format/2019/Daily_AcqTime_maxLST_2019_April.tif',\n",
    "                         f'{DEM_folder}reprojected/THUENEN_GER_LST_WARP.tif',\n",
    "                         resampling='nearest')"
   ]
  },
  {
   "cell_type": "code",
   "execution_count": 8,
   "id": "799cb796",
   "metadata": {},
   "outputs": [
    {
     "name": "stdout",
     "output_type": "stream",
     "text": [
      "Raster warped and saved to: /data/Aldhani/eoagritwin/et/Auxiliary/DEM/reprojected/THUENEN_GER_FORCEWARP.tif\n"
     ]
    }
   ],
   "source": [
    "warp_raster_to_reference('/data/Aldhani/eoagritwin/et/Auxiliary/landcover/thuenen/CTM_GER_2021_rst_v201_COG.tif',\n",
    "                         f'{DEM_folder}reprojected/FORCE_TILE_DUMMY.tif',\n",
    "                         f'{DEM_folder}reprojected/THUENEN_GER_FORCE_WARP.tif',\n",
    "                         resampling='nearest')"
   ]
  },
  {
   "cell_type": "code",
   "execution_count": 6,
   "id": "f9f095f3",
   "metadata": {},
   "outputs": [
    {
     "name": "stdout",
     "output_type": "stream",
     "text": [
      "[-9999   200  1101  1102  1103  1201  1202  1300  1401  1402  1501  1502\n",
      "  1602  1603  1611  1612  1613  1614  3001  3002  3003  3004  4001  4002\n",
      "  4003]\n"
     ]
    }
   ],
   "source": [
    "# make binary Thuenen mask\n",
    "th_ds = gdal.Open(f'{DEM_folder}reprojected/THUENEN_GER_FORCE_WARP.tif')\n",
    "th_arr = th_ds.GetRasterBand(1).ReadAsArray()\n",
    "th_arr_ma = np.where(th_arr == -9999, 0 ,1)\n",
    "npTOdisk(th_arr_ma, f'{DEM_folder}reprojected/THUENEN_GER_FORCE_WARP.tif', f'{DEM_folder}reprojected/THUENEN_GER_FORCE_WARP_BINARY.tif')"
   ]
  },
  {
   "cell_type": "code",
   "execution_count": 7,
   "id": "4eaa4132",
   "metadata": {},
   "outputs": [],
   "source": [
    "# make binary Thuenen mask\n",
    "th_ds = gdal.Open(f'{DEM_folder}reprojected/THUENEN_GER_LST_WARP.tif')\n",
    "th_arr = th_ds.GetRasterBand(1).ReadAsArray()\n",
    "th_arr_ma = np.where(th_arr == -9999, 0 ,1)\n",
    "npTOdisk(th_arr_ma, f'{DEM_folder}reprojected/THUENEN_GER_LST_WARP.tif', f'{DEM_folder}reprojected/THUENEN_GER_LST_WARP_BINARY.tif')"
   ]
  },
  {
   "cell_type": "code",
   "execution_count": null,
   "id": "c3f91070",
   "metadata": {},
   "outputs": [],
   "source": [
    "# now cut into FORCE TILES\n",
    "force_grid = gpd.read_file('/data/Aldhani/eoagritwin/misc/FORCE_footprint/datacube-grid_DEU_10km.gpkg')\n",
    "\n",
    "for product, name in zip([f'{DEM_folder}reprojected/THUENEN_GER_FORCE_WARP.tif'],\n",
    "                          ['THUENEN_2021']):\n",
    "    with rasterio.open(product) as src:\n",
    "        varPath = f'{DEM_folder}Force_Tiles/{name}'\n",
    "        if not os.path.exists(varPath):\n",
    "            os.makedirs(varPath)\n",
    "        for tileID in force_grid['Tile_ID']:\n",
    "            tile = force_grid[force_grid['Tile_ID'] == tileID]\n",
    "            # print(Vector.crs)\n",
    "            out_image, out_transform=rasterio.mask.mask(src,tile.geometry,crop=True)\n",
    "            out_meta=src.meta.copy() # copy the metadata of the source DEM\n",
    "            \n",
    "            out_meta.update({\n",
    "                \"driver\":\"Gtiff\",\n",
    "                \"height\":out_image.shape[1], # height starts with shape[1]\n",
    "                \"width\":out_image.shape[2], # width starts with shape[2]\n",
    "                \"transform\":out_transform\n",
    "            })\n",
    "                    \n",
    "            with rasterio.open(f'{varPath}/{name}_{tileID}.tif','w',**out_meta) as dst:\n",
    "                dst.write(out_image)"
   ]
  }
 ],
 "metadata": {
  "kernelspec": {
   "display_name": "xdem",
   "language": "python",
   "name": "python3"
  },
  "language_info": {
   "codemirror_mode": {
    "name": "ipython",
    "version": 3
   },
   "file_extension": ".py",
   "mimetype": "text/x-python",
   "name": "python",
   "nbconvert_exporter": "python",
   "pygments_lexer": "ipython3",
   "version": "3.10.18"
  }
 },
 "nbformat": 4,
 "nbformat_minor": 5
}
