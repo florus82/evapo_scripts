{
 "cells": [
  {
   "cell_type": "code",
   "execution_count": 1,
   "id": "6f2a1eef",
   "metadata": {},
   "outputs": [],
   "source": [
    "import sys\n",
    "import os \n",
    "sys.path.append('/home/potzschf/repos/')\n",
    "from helperToolz.helpsters import *\n",
    "from helperToolz.dicts_and_lists import *"
   ]
  },
  {
   "cell_type": "code",
   "execution_count": 8,
   "id": "8af6c77d",
   "metadata": {},
   "outputs": [],
   "source": [
    "# check if downloaded ERA5 variables acutally contain more than just one value for the study period\n",
    "base_path = '/data/Aldhani/eoagritwin/et/Auxiliary/ERA5/grib/'\n",
    "ssrd_files = [file for file in getFilelist(base_path, '.grib', deep=True) if 'downward' in file]\n",
    "outPath = '/data/Aldhani/eoagritwin/et/Auxiliary/ERA5/ssrd_mean_calc/'"
   ]
  },
  {
   "cell_type": "code",
   "execution_count": 9,
   "id": "42cd9c69",
   "metadata": {},
   "outputs": [
    {
     "name": "stderr",
     "output_type": "stream",
     "text": [
      "/data/Aldhani/users/potzschf/conda/envs/cds_era5/lib/python3.12/site-packages/osgeo/gdal.py:311: FutureWarning: Neither gdal.UseExceptions() nor gdal.DontUseExceptions() has been explicitly called. In GDAL 4.0, exceptions will be enabled by default.\n",
      "  warnings.warn(\n"
     ]
    }
   ],
   "source": [
    "for ssrd_file in ssrd_files:\n",
    "    stack, bands = stackReader(ssrd_file, True, True)\n",
    "\n",
    "    if '2019_7.' in ssrd_file:\n",
    "        ref_ds = checkPath(ssrd_file)\n",
    "        ref_band = ref_ds.GetRasterBand(1)\n",
    "    \n",
    "        out_ds = gdal.GetDriverByName('GTiff').Create(f'{outPath}ssrd_2019_7_1.tif', ref_ds.RasterXSize, ref_ds.RasterYSize, 24, ref_band.DataType)\n",
    "        out_ds.SetGeoTransform(ref_ds.GetGeoTransform())\n",
    "        out_ds.SetProjection(ref_ds.GetProjection())\n",
    "        for i in range(24):\n",
    "            out_ds.GetRasterBand(i+1).WriteArray(stack[:,:,i])\n",
    "            out_ds.GetRasterBand(i+1).SetDescription(bands[i])\n",
    "        del out_ds\n",
    "\n",
    "    # sanity check\n",
    "    for i in range(0, stack.shape[2], 24):\n",
    "        if not bands[i].split(' ')[-1] == '00:00:00':\n",
    "            raise ValueError('Something is messy about this file')\n",
    "    start = [i for i in range(0, stack.shape[2], 24)]\n",
    "    end = start[1:] + [stack.shape[2]]\n",
    "    if not len(start) == len(end) == int(stack.shape[2]/24):\n",
    "        raise ValueError('Something wrong with the dates and times')\n",
    "    \n",
    "    contiL = []\n",
    "    names = []\n",
    "    for count, i in enumerate(start):\n",
    "        contiL.append(np.nanmean(stack[:,:,i:end[count]], axis=2))\n",
    "        names.append(f'{bands[i].split(' ')[0]}_mean')\n",
    "    arr = np.dstack(contiL)\n",
    "\n",
    "   \n",
    "    ref_ds = checkPath(ssrd_file)\n",
    "    ref_band = ref_ds.GetRasterBand(1)\n",
    "    \n",
    "    out_ds = gdal.GetDriverByName('GTiff').Create(f'{outPath}{ssrd_file.split('.')[0].split('/')[-1]}', ref_ds.RasterXSize, ref_ds.RasterYSize, len(names), ref_band.DataType)\n",
    "    out_ds.SetGeoTransform(ref_ds.GetGeoTransform())\n",
    "    out_ds.SetProjection(ref_ds.GetProjection())\n",
    "    for i in range(len(names)):\n",
    "        out_ds.GetRasterBand(i+1).WriteArray(contiL[i])\n",
    "        out_ds.GetRasterBand(i+1).SetDescription(names[i])\n",
    "    del out_ds"
   ]
  }
 ],
 "metadata": {
  "kernelspec": {
   "display_name": "cds_era5",
   "language": "python",
   "name": "python3"
  },
  "language_info": {
   "codemirror_mode": {
    "name": "ipython",
    "version": 3
   },
   "file_extension": ".py",
   "mimetype": "text/x-python",
   "name": "python",
   "nbconvert_exporter": "python",
   "pygments_lexer": "ipython3",
   "version": "3.12.11"
  }
 },
 "nbformat": 4,
 "nbformat_minor": 5
}
