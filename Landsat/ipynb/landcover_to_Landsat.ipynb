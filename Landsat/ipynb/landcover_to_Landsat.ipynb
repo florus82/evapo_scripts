{
 "cells": [
  {
   "cell_type": "code",
   "execution_count": 1,
   "id": "5b009a02",
   "metadata": {},
   "outputs": [],
   "source": [
    "import sys\n",
    "sys.path.append('/home/potzschf/repos/')\n",
    "from helperToolz.helpsters import *\n",
    "from helperToolz.evapo import *\n",
    "import geopandas as gpd\n",
    "import tarfile\n",
    "from pyproj import CRS\n",
    "from affine import Affine\n",
    "from rasterio.enums import Resampling\n",
    "\n",
    "workhorse = True\n",
    "\n",
    "if workhorse:\n",
    "    origin = 'Aldhani/eoagritwin/'\n",
    "else:\n",
    "    origin = ''"
   ]
  },
  {
   "cell_type": "code",
   "execution_count": 13,
   "id": "6aa950e8",
   "metadata": {},
   "outputs": [
    {
     "name": "stdout",
     "output_type": "stream",
     "text": [
      "Baden-Württemberg\n",
      "Bayern\n",
      "Berlin\n",
      "Brandenburg\n",
      "Bremen\n",
      "Hamburg\n",
      "Hessen\n",
      "Mecklenburg-Vorpommern\n",
      "Niedersachsen\n",
      "Nordrhein-Westfalen\n",
      "Rheinland-Pfalz\n",
      "Saarland\n",
      "Sachsen-Anhalt\n",
      "Sachsen\n",
      "Schleswig-Holstein\n",
      "Thüringen\n"
     ]
    }
   ],
   "source": [
    "# load masks to burn landcover maps to\n",
    "LCpath = ('/data/Aldhani/eoagritwin/et/Auxiliary/landcover/extracted/')\n",
    "LC_classes = os.listdir(LCpath)\n",
    "\n",
    "# load state masks\n",
    "states = getFilelist('/data/Aldhani/eoagritwin/et/Auxiliary/Landsat_GER_mask/states/', '.tif')\n",
    "state_names = [path.split('/')[-1].split('.')[0] for path in getFilelist('/data/Aldhani/eoagritwin/et/Auxiliary/Landsat_GER_mask/states/', '.tif')]\n",
    "for e, state in enumerate(states):\n",
    "    sname = state_names[e]\n",
    "    print(sname)\n",
    "    for LC_class in LC_classes:\n",
    "\n",
    "        outFolder = f'/data/Aldhani/eoagritwin/et/Auxiliary/landcover/masked_to_Landsat/{sname}/'\n",
    "        os.makedirs(outFolder, exist_ok=True)\n",
    "        lc_ds = gdal.Open(getFilelist(LCpath + LC_class, '.vrt')[0])\n",
    "        warp_to_template(lc_ds, state, f'{outFolder}{LC_class}_masked_to_{sname}.tif', state, resampling='nearest')"
   ]
  },
  {
   "cell_type": "code",
   "execution_count": null,
   "id": "5b95a8d4",
   "metadata": {},
   "outputs": [
    {
     "data": {
      "text/plain": [
       "['Water_and_wetness', 'Crop_types', 'Impervious', 'Forest_type', 'Grassland']"
      ]
     },
     "execution_count": 3,
     "metadata": {},
     "output_type": "execute_result"
    }
   ],
   "source": [
    "# export\n",
    "\n",
    "GDT_UInt16"
   ]
  }
 ],
 "metadata": {
  "kernelspec": {
   "display_name": "workhorse",
   "language": "python",
   "name": "python3"
  },
  "language_info": {
   "codemirror_mode": {
    "name": "ipython",
    "version": 3
   },
   "file_extension": ".py",
   "mimetype": "text/x-python",
   "name": "python",
   "nbconvert_exporter": "python",
   "pygments_lexer": "ipython3",
   "version": "3.12.10"
  }
 },
 "nbformat": 4,
 "nbformat_minor": 5
}
