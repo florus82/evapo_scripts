{
 "cells": [
  {
   "cell_type": "code",
   "execution_count": 1,
   "id": "959fb085",
   "metadata": {},
   "outputs": [],
   "source": [
    "import sys\n",
    "sys.path.append('/home/potzschf/repos/')\n",
    "from helperToolz.helpsters import *\n",
    "import rasterio\n",
    "from rasterio.merge import merge\n",
    "import numpy as np\n",
    "import glob\n",
    "\n",
    "\n",
    "base_path = '/data/Aldhani/eoagritwin/et/Landsat/LST_44/'\n",
    "\n",
    "# File paths\n",
    "files = getFilelist(base_path + 'raw_scenes/', 'TIF', deep=True)\n",
    "st_paths = [file for file in files if 'ST_B10' in file]\n",
    "qa_paths = [file for file in files if 'QA_PIXEL' in file]\n",
    "\n"
   ]
  },
  {
   "cell_type": "code",
   "execution_count": 31,
   "id": "970b8c68",
   "metadata": {},
   "outputs": [
    {
     "name": "stdout",
     "output_type": "stream",
     "text": [
      "Masked LST saved to /data/Aldhani/eoagritwin/et/Landsat/LST_44/masked_scenes/LC08_L2SP_191023_20190712_20200827_02_T1_STmasked.tif\n",
      "Masked LST saved to /data/Aldhani/eoagritwin/et/Landsat/LST_44/masked_scenes/LC08_L2SP_191024_20190712_20200827_02_T2_STmasked.tif\n",
      "Masked LST saved to /data/Aldhani/eoagritwin/et/Landsat/LST_44/masked_scenes/LC08_L2SP_193022_20190710_20200827_02_T1_STmasked.tif\n",
      "Masked LST saved to /data/Aldhani/eoagritwin/et/Landsat/LST_44/masked_scenes/LC08_L2SP_193023_20190710_20200827_02_T1_STmasked.tif\n",
      "Masked LST saved to /data/Aldhani/eoagritwin/et/Landsat/LST_44/masked_scenes/LC08_L2SP_193023_20190726_20200827_02_T1_STmasked.tif\n",
      "Masked LST saved to /data/Aldhani/eoagritwin/et/Landsat/LST_44/masked_scenes/LC08_L2SP_193024_20190710_20200827_02_T1_STmasked.tif\n",
      "Masked LST saved to /data/Aldhani/eoagritwin/et/Landsat/LST_44/masked_scenes/LC08_L2SP_195022_20190708_20200827_02_T1_STmasked.tif\n",
      "Masked LST saved to /data/Aldhani/eoagritwin/et/Landsat/LST_44/masked_scenes/LC08_L2SP_195023_20190708_20200827_02_T1_STmasked.tif\n"
     ]
    }
   ],
   "source": [
    "for idx in range(len(st_paths)):\n",
    "    #if st_paths[idx].split('/')[-1].split('_B10')[0] == qa_paths[idx].split('/')[-1].split('_QA')[0]:\n",
    "    if st_paths[idx].split('/')[-1].split('_ST_B10')[0] == qa_paths[idx].split('/')[-1].split('_QA')[0]:\n",
    "        out_path = base_path + 'masked_scenes/' + st_paths[idx].split('/')[-1].split('_B10')[0] + 'masked.tif'\n",
    "\n",
    "        # Open LST band\n",
    "        with rasterio.open(st_paths[idx]) as src:\n",
    "            st = src.read(1).astype(\"float32\")\n",
    "            profile = src.profile\n",
    "\n",
    "        # Open QA band\n",
    "        with rasterio.open(qa_paths[idx]) as src:\n",
    "            qa = src.read(1)\n",
    "\n",
    "        \n",
    "        # Apply mask\n",
    "        st_masked = np.where(qa == 21824, st, np.nan)\n",
    "        st_masked_scaled = (st_masked * 0.00341802) + 149.0\n",
    "        # Update profile for output\n",
    "        profile.update(dtype=rasterio.float32, nodata=np.nan)\n",
    "\n",
    "        # Write masked LST to new GeoTIFF\n",
    "        with rasterio.open(out_path, \"w\", **profile) as dst:\n",
    "            dst.write(st_masked_scaled.astype(np.float32), 1)\n",
    "\n",
    "        print(f\"Masked LST saved to {out_path}\")\n",
    "\n",
    "    else:\n",
    "        print('sth is off')"
   ]
  },
  {
   "cell_type": "code",
   "execution_count": 2,
   "id": "de09971d",
   "metadata": {},
   "outputs": [],
   "source": [
    "# examine image from July 26 2019\n",
    "img = '/data/Aldhani/eoagritwin/et/Landsat/LST_44/masked_scenes/LC08_L2SP_193023_20190726_20200827_02_T1_STmasked.tif'\n",
    "vrt_files = [file for file in getFilelist('/data/Aldhani/eoagritwin/et/Sentinel3/LST/LST_values/sharpened2/vrt/', '.vrt', deep=True) \n",
    "             if all(substr in file for substr in ['July_26', 'S2notMasked'])]\n",
    "\n",
    "vrt_warps = []\n",
    "for vrt_file in vrt_files:\n",
    "    # warp_raster_to_reference(vrt_file,\n",
    "    #                         img,\n",
    "    #                         f'{base_path}warped_to_Landsat/{vrt_file.split('.vrt')[0].split('/')[-1]}_warped.tif',\n",
    "    #                         resampling='average')\n",
    "    vrt_warps.append(f'{base_path}warped_to_Landsat/{vrt_file.split('.vrt')[0].split('/')[-1]}_warped.tif')\n",
    "\n",
    "\n",
    "\n",
    "# warp_raster_to_reference('/data/Aldhani/eoagritwin/et/Auxiliary/DEM/reprojected/THUENEN_GER_LST_WARP_BINARY.tif',\n",
    "#                         img,\n",
    "#                         f'{base_path}warped_to_Landsat/THUENEN_2021_bin_warped.tif',\n",
    "#                         resampling='nearest')\n",
    "\n"
   ]
  },
  {
   "cell_type": "code",
   "execution_count": 3,
   "id": "65a2a0b8",
   "metadata": {},
   "outputs": [
    {
     "name": "stderr",
     "output_type": "stream",
     "text": [
      "/data/Aldhani/users/potzschf/conda/envs/workhorse/lib/python3.12/site-packages/osgeo/gdal.py:311: FutureWarning: Neither gdal.UseExceptions() nor gdal.DontUseExceptions() has been explicitly called. In GDAL 4.0, exceptions will be enabled by default.\n",
      "  warnings.warn(\n"
     ]
    }
   ],
   "source": [
    "# extract and export\n",
    "landsat = gdal.Open(img)\n",
    "landsat_arr = landsat.GetRasterBand(1).ReadAsArray()\n",
    "\n",
    "# mask = gdal.Open(f'{base_path}/warped_to_Landsat/THUENEN_2021_bin_warped.tif')\n",
    "# mask_arr = mask.GetRasterBand(1).ReadAsArray()\n",
    "\n",
    "# landsat_arr_masked = np.where(np.logical_and(mask_arr == 1, landsat_arr != 149), landsat_arr, np.nan)\n",
    "landsat_arr_masked = np.where(landsat_arr != 149, landsat_arr, np.nan)\n",
    "\n",
    "for vrt_warp in vrt_warps:\n",
    "    s2 = gdal.Open(vrt_warp)\n",
    "    s2_arr = s2.GetRasterBand(1).ReadAsArray()\n",
    "    s2_arr[s2_arr == 0] = np.nan\n",
    "    if landsat_arr_masked.shape == s2_arr.shape:\n",
    "        mask_extr = np.logical_and(~np.isnan(landsat_arr_masked),~np.isnan(s2_arr))\n",
    "    else:\n",
    "        print('sth messed up')\n",
    "        continue\n",
    "    landsat_values = landsat_arr_masked[mask_extr]\n",
    "    s2_values = s2_arr[mask_extr]\n",
    "\n",
    "    # Create a DataFrame\n",
    "    df = pd.DataFrame({\n",
    "        \"Landsat\": landsat_values,\n",
    "        \"Sentinel2\": s2_values\n",
    "    })\n",
    "\n",
    "    # Export to CSV\n",
    "    df.to_csv(f\"{base_path}extracts/extract_{vrt_warp.split('.tif')[0].split('/')[-1]}_no_agromask.csv\")"
   ]
  },
  {
   "cell_type": "code",
   "execution_count": null,
   "id": "beab2b76",
   "metadata": {},
   "outputs": [],
   "source": [
    "from rasterio.warp import calculate_default_transform, reproject, Resampling\n",
    "\n",
    "files = [file for file in getFilelist(base_path, '.tif') if 'masked_strict' in file]\n",
    "dst_crs = \"EPSG:32633\"  # choose your reference CRS\n",
    "\n",
    "for f in files:\n",
    "    with rasterio.open(f) as src:\n",
    "        transform, width, height = calculate_default_transform(\n",
    "            src.crs, dst_crs, src.width, src.height, *src.bounds\n",
    "        )\n",
    "        profile = src.profile.copy()\n",
    "        profile.update(crs=dst_crs, transform=transform, width=width, height=height)\n",
    "\n",
    "        out_file = f.replace(\".tif\", \"_reproj.tif\")\n",
    "        with rasterio.open(out_file, \"w\", **profile) as dst:\n",
    "            reproject(\n",
    "                source=rasterio.band(src, 1),\n",
    "                destination=rasterio.band(dst, 1),\n",
    "                src_transform=src.transform,\n",
    "                src_crs=src.crs,\n",
    "                dst_transform=transform,\n",
    "                dst_crs=dst_crs,\n",
    "                resampling=Resampling.nearest\n",
    "            )"
   ]
  },
  {
   "cell_type": "code",
   "execution_count": null,
   "id": "4604c7cb",
   "metadata": {},
   "outputs": [],
   "source": [
    "src_files = [rasterio.open(file) for file in getFilelist(base_path, '.tif') if '_reproj' in file]\n",
    "\n",
    "\n",
    "# Use rasterio.merge.merge to get mosaic and transform\n",
    "mosaic, out_trans = merge(src_files, method='max')  # 'max' handles overlapping pixels\n",
    "\n",
    "# mosaic is a 3D array with shape (1, height, width)\n",
    "mosaic = mosaic[0]  # drop first dimension\n",
    "\n",
    "# Use the profile from the first raster as a template\n",
    "profile = src_files[0].profile\n",
    "profile.update(\n",
    "    height=mosaic.shape[0],\n",
    "    width=mosaic.shape[1],\n",
    "    transform=out_trans,\n",
    "    dtype=rasterio.float32,\n",
    "    nodata=np.nan\n",
    ")\n",
    "\n",
    "# Save the mosaic\n",
    "out_file = f\"{base_path}landsat_max_mosaic.tif\"\n",
    "with rasterio.open(out_file, \"w\", **profile) as dst:\n",
    "    dst.write(mosaic.astype(np.float32), 1)\n",
    "\n",
    "# Close all datasets\n",
    "for src in src_files:\n",
    "    src.close()"
   ]
  },
  {
   "cell_type": "code",
   "execution_count": null,
   "id": "71ac6e59",
   "metadata": {},
   "outputs": [],
   "source": [
    "warp_raster_to_reference(f'{base_path}landsat_max_mosaic.tif',\n",
    "                         '/data/Aldhani/eoagritwin/et/Sentinel3/LST/LST_values/sharpened/vrt/July_09_allpred_short_minVZA_July_09_S2notMasked_withoutLSTmask.vrt',\n",
    "                         f'{base_path}landsat_max_mosaic_warped.tif')"
   ]
  },
  {
   "cell_type": "code",
   "execution_count": null,
   "id": "3404582c",
   "metadata": {},
   "outputs": [
    {
     "name": "stdout",
     "output_type": "stream",
     "text": [
      "Raster warped and saved to: /data/Aldhani/eoagritwin/et/Landsat/LST_44/S2_vrt_warped.tif\n"
     ]
    }
   ],
   "source": [
    "warp_raster_to_reference('/data/Aldhani/eoagritwin/et/Sentdatedatedaddffdsfsdfsdfsdfsdsdfsdfaaahkhjkkjhkjhkjhkjhkjhkkjh/LST/LST_values/sharpened/vrt/July_09_allpred_short_minVZA_July_09_S2notMasked_withoutLSTmask.vrt',\n",
    "                         f'{base_path}landsat_max_mosaic.tif',\n",
    "                         f'{base_path}S2_vrt_warped.tif',\n",
    "                         resampling='average')"
   ]
  },
  {
   "cell_type": "code",
   "execution_count": null,
   "id": "9e47c899",
   "metadata": {},
   "outputs": [],
   "source": [
    "landsat = gdal.Open(f'{base_path}landsat_max_mosaic_warped.tif')\n",
    "landsat_arr = landsat.GetRasterBand(1).ReadAsArray()\n",
    "s2 = gdal.Open('/data/Aldhani/eoagritwin/et/Sentinel3/LST/LST_values/sharpened/vrt/July_09_allpred_short_minVZA_July_09_S2notMasked_withoutLSTmask.vrt')\n",
    "s2_arr = s2.GetRasterBand(1).ReadAsArray()\n",
    "\n",
    "if landsat_arr.shape == s2_arr.shape:\n",
    "    mask = np.logical_and(~np.isnan(landsat_arr),~np.isnan(s2_arr))\n",
    "\n",
    "landsat_values = landsat_arr[mask]\n",
    "s2_values = s2_arr[mask]\n",
    "\n",
    "# Create a DataFrame\n",
    "df = pd.DataFrame({\n",
    "    \"Landsat\": landsat_values,\n",
    "    \"Sentinel2\": s2_values\n",
    "})\n",
    "\n",
    "# Export to CSV\n",
    "df.to_csv(f'{base_path}extract.csv')"
   ]
  },
  {
   "cell_type": "code",
   "execution_count": 5,
   "id": "de9030a7",
   "metadata": {},
   "outputs": [],
   "source": [
    "landsat = gdal.Open(f'{base_path}landsat_max_mosaic.tif')\n",
    "landsat_arr = landsat.GetRasterBand(1).ReadAsArray()\n",
    "s2 = gdal.Open(f'{base_path}S2_vrt_warped.tif')\n",
    "s2_arr = s2.GetRasterBand(1).ReadAsArray()\n",
    "\n",
    "if landsat_arr.shape == s2_arr.shape:\n",
    "    mask = np.logical_and(~np.isnan(landsat_arr),~np.isnan(s2_arr))\n",
    "\n",
    "landsat_values = landsat_arr[mask]\n",
    "s2_values = s2_arr[mask]\n",
    "\n",
    "# Create a DataFrame\n",
    "df = pd.DataFrame({\n",
    "    \"Landsat\": landsat_values,\n",
    "    \"Sentinel2\": s2_values\n",
    "})\n",
    "\n",
    "# Export to CSV\n",
    "df.to_csv(f'{base_path}extract_S2_resampled.csv')"
   ]
  },
  {
   "cell_type": "code",
   "execution_count": null,
   "id": "70e3c391",
   "metadata": {},
   "outputs": [],
   "source": []
  }
 ],
 "metadata": {
  "kernelspec": {
   "display_name": "workhorse",
   "language": "python",
   "name": "python3"
  },
  "language_info": {
   "codemirror_mode": {
    "name": "ipython",
    "version": 3
   },
   "file_extension": ".py",
   "mimetype": "text/x-python",
   "name": "python",
   "nbconvert_exporter": "python",
   "pygments_lexer": "ipython3",
   "version": "3.12.11"
  }
 },
 "nbformat": 4,
 "nbformat_minor": 5
}
