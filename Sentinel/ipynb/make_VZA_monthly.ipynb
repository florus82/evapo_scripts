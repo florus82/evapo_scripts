{
 "cells": [
  {
   "cell_type": "code",
   "execution_count": 3,
   "id": "aa09fab0",
   "metadata": {},
   "outputs": [],
   "source": [
    "import sys\n",
    "sys.path.append('/home/potzschf/repos/')\n",
    "from helperToolz.helpsters import *"
   ]
  },
  {
   "cell_type": "code",
   "execution_count": null,
   "id": "97033206",
   "metadata": {},
   "outputs": [],
   "source": [
    "# the raw nc files for VZA were downloaded for 15 days, not per month as LST\n",
    "# for easier managing, files will be merged here\n",
    "\n",
    "files = sorted(getFilelist('/data/Aldhani/eoagritwin/et/Sentinel3/VZA/raw', '.nc'))\n",
    "year = 2018\n",
    "outPath = f'/data/Aldhani/eoagritwin/et/Sentinel3/VZA/monthly_tiff_values/{year}/'\n",
    "os.makedirs(outPath, exist_ok=True) \n",
    "    "
   ]
  },
  {
   "cell_type": "code",
   "execution_count": 9,
   "id": "9c884f7f",
   "metadata": {},
   "outputs": [],
   "source": [
    "# get a subset of files for that year\n",
    "yearFiles = [file for file in files if int(file.split('/')[-1].split('_')[-1][0:4]) == year]"
   ]
  },
  {
   "cell_type": "code",
   "execution_count": 10,
   "id": "5e84f5b3",
   "metadata": {},
   "outputs": [
    {
     "name": "stdout",
     "output_type": "stream",
     "text": [
      "['/data/Aldhani/eoagritwin/et/Sentinel3/VZA/raw/Germany_2018-01-01.nc', '/data/Aldhani/eoagritwin/et/Sentinel3/VZA/raw/Germany_2018-01-15.nc']\n",
      "['/data/Aldhani/eoagritwin/et/Sentinel3/VZA/raw/Germany_2018-02-01.nc', '/data/Aldhani/eoagritwin/et/Sentinel3/VZA/raw/Germany_2018-02-15.nc']\n",
      "['/data/Aldhani/eoagritwin/et/Sentinel3/VZA/raw/Germany_2018-03-01.nc', '/data/Aldhani/eoagritwin/et/Sentinel3/VZA/raw/Germany_2018-03-15.nc']\n",
      "['/data/Aldhani/eoagritwin/et/Sentinel3/VZA/raw/Germany_2018-04-01.nc', '/data/Aldhani/eoagritwin/et/Sentinel3/VZA/raw/Germany_2018-04-15.nc']\n",
      "['/data/Aldhani/eoagritwin/et/Sentinel3/VZA/raw/Germany_2018-05-01.nc', '/data/Aldhani/eoagritwin/et/Sentinel3/VZA/raw/Germany_2018-05-15.nc']\n",
      "['/data/Aldhani/eoagritwin/et/Sentinel3/VZA/raw/Germany_2018-06-01.nc', '/data/Aldhani/eoagritwin/et/Sentinel3/VZA/raw/Germany_2018-06-15.nc']\n",
      "['/data/Aldhani/eoagritwin/et/Sentinel3/VZA/raw/Germany_2018-07-01.nc', '/data/Aldhani/eoagritwin/et/Sentinel3/VZA/raw/Germany_2018-07-15.nc']\n",
      "['/data/Aldhani/eoagritwin/et/Sentinel3/VZA/raw/Germany_2018-08-01.nc', '/data/Aldhani/eoagritwin/et/Sentinel3/VZA/raw/Germany_2018-08-15.nc']\n",
      "['/data/Aldhani/eoagritwin/et/Sentinel3/VZA/raw/Germany_2018-09-01.nc', '/data/Aldhani/eoagritwin/et/Sentinel3/VZA/raw/Germany_2018-09-15.nc']\n",
      "['/data/Aldhani/eoagritwin/et/Sentinel3/VZA/raw/Germany_2018-10-01.nc', '/data/Aldhani/eoagritwin/et/Sentinel3/VZA/raw/Germany_2018-10-15.nc']\n",
      "['/data/Aldhani/eoagritwin/et/Sentinel3/VZA/raw/Germany_2018-11-01.nc', '/data/Aldhani/eoagritwin/et/Sentinel3/VZA/raw/Germany_2018-11-15.nc']\n",
      "['/data/Aldhani/eoagritwin/et/Sentinel3/VZA/raw/Germany_2018-12-01.nc', '/data/Aldhani/eoagritwin/et/Sentinel3/VZA/raw/Germany_2018-12-15.nc']\n"
     ]
    }
   ],
   "source": [
    "for month in [f'{i:02d}' for i in range(1,13)]:\n",
    "    print([yF for yF in yearFiles if month == yF.split('-')[1]])"
   ]
  },
  {
   "cell_type": "code",
   "execution_count": 7,
   "id": "8eb40307",
   "metadata": {},
   "outputs": [],
   "source": [
    "for month in [f'{i:02d}' for i in range(1,13)]:\n",
    "    if month == '02':\n",
    "        break\n",
    "    monthL = []\n",
    "    files = [yF for yF in yearFiles if month == yF.split('-')[1]]\n",
    "    for file in files:\n",
    "        monthL.append(getDataFromNC_VZA(file))\n",
    "    block = np.dstack(monthL)"
   ]
  },
  {
   "cell_type": "code",
   "execution_count": null,
   "id": "1479f9b3",
   "metadata": {},
   "outputs": [],
   "source": [
    "for month in [f'{i:02d}' for i in range(1,13)]:\n",
    "    files = [yF for yF in yearFiles if month == yF.split('-')[1]]\n",
    "    monthL = []\n",
    "    bnames = []\n",
    "    for file in files:\n",
    "        monthL.append(getDataFromNC_VZA(file))\n",
    "        accDateTimes = getAllDatesS3(file)\n",
    "        for l in range(len(accDateTimes)):\n",
    "            bnames.append(str(accDateTimes[l].astype('datetime64[s]')))\n",
    "\n",
    "    block = np.dstack(monthL)\n",
    "    block2 = np.where(block > 45, 0, 1)\n",
    "    block2[np.isnan(block)] = -5\n",
    "    block3 = block2.astype(np.int8)\n",
    "\n",
    "    exportNCarrayDerivatesInt(file, outPath, f'VZA_MASK_{year}_{month}.tif', bnames, block3, datType=gdal.GDT_Int8, numberOfBands=block.shape[2], noData=-5)"
   ]
  }
 ],
 "metadata": {
  "kernelspec": {
   "display_name": "workhorse",
   "language": "python",
   "name": "python3"
  },
  "language_info": {
   "codemirror_mode": {
    "name": "ipython",
    "version": 3
   },
   "file_extension": ".py",
   "mimetype": "text/x-python",
   "name": "python",
   "nbconvert_exporter": "python",
   "pygments_lexer": "ipython3",
   "version": "3.12.11"
  }
 },
 "nbformat": 4,
 "nbformat_minor": 5
}
